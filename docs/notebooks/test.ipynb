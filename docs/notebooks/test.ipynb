{
 "cells": [
  {
   "cell_type": "code",
   "execution_count": 1,
   "id": "7829b981",
   "metadata": {
    "ExecuteTime": {
     "end_time": "2021-08-01T08:00:28.106024Z",
     "start_time": "2021-08-01T08:00:28.077001Z"
    }
   },
   "outputs": [],
   "source": [
    "import sys\n",
    "sys.path.insert(0, '../..')"
   ]
  },
  {
   "cell_type": "markdown",
   "id": "a0468a07",
   "metadata": {},
   "source": [
    "# Test notebook\n"
   ]
  },
  {
   "cell_type": "code",
   "execution_count": 2,
   "id": "459d01cb",
   "metadata": {
    "ExecuteTime": {
     "end_time": "2021-08-01T08:00:29.602741Z",
     "start_time": "2021-08-01T08:00:28.106998Z"
    }
   },
   "outputs": [],
   "source": [
    "from dataclasses import dataclass\n",
    "import numpy as np\n",
    "import pandas as pd \n",
    "import json\n",
    "\n",
    "from encomp.serialize import serialize, decode\n",
    "from encomp.units import Q"
   ]
  },
  {
   "cell_type": "code",
   "execution_count": 3,
   "id": "dc751a5a",
   "metadata": {
    "ExecuteTime": {
     "end_time": "2021-08-01T08:00:29.711631Z",
     "start_time": "2021-08-01T08:00:29.607618Z"
    }
   },
   "outputs": [],
   "source": [
    "@dataclass\n",
    "class CustomOtherClass:\n",
    "\n",
    "    s: pd.Series\n",
    "    df: pd.DataFrame\n",
    "\n",
    "    @classmethod\n",
    "    def from_dict(cls, d):\n",
    "        return cls(**d)\n",
    "\n",
    "    def to_json(self):\n",
    "\n",
    "        return json.dumps(serialize(self.__dict__))\n",
    "    \n",
    "    \n",
    "@dataclass\n",
    "class CustomClass:\n",
    "\n",
    "    arr: np.ndarray\n",
    "    name: str\n",
    "        \n",
    "    nested: CustomOtherClass\n",
    "\n",
    "    @classmethod\n",
    "    def from_dict(cls, d):\n",
    "        return cls(**d)\n",
    "\n",
    "    def to_json(self):\n",
    "        return self.__dict__\n",
    "\n",
    "    \n",
    "    \n",
    "s = pd.Series(np.random.rand(10), name='test')\n",
    "df = pd.DataFrame(np.random.rand(5, 5), columns=['A', 2, '3', '4', '5'])\n",
    "\n",
    "a = CustomClass(arr=np.random.rand(19, 2), name='asd', \n",
    "               nested=CustomOtherClass(s=s, df=df))\n",
    "\n",
    "json = serialize(a)\n",
    "\n",
    "a_decoded = decode(json, custom=[CustomClass, CustomOtherClass])\n",
    "\n",
    "assert (a_decoded.nested.df - df).max().max() < 1e-10"
   ]
  },
  {
   "cell_type": "code",
   "execution_count": 4,
   "id": "eee4939b",
   "metadata": {
    "ExecuteTime": {
     "end_time": "2021-08-01T08:00:29.790805Z",
     "start_time": "2021-08-01T08:00:29.713612Z"
    }
   },
   "outputs": [
    {
     "data": {
      "text/plain": [
       "CustomClass(arr=array([[0.58246896, 0.25075166],\n",
       "       [0.70334602, 0.69278839],\n",
       "       [0.32248294, 0.38136432],\n",
       "       [0.79512306, 0.89784121],\n",
       "       [0.62903696, 0.55564277],\n",
       "       [0.08441159, 0.44348577],\n",
       "       [0.03317591, 0.46611265],\n",
       "       [0.47159426, 0.19912576],\n",
       "       [0.64625446, 0.90437243],\n",
       "       [0.16689942, 0.17890244],\n",
       "       [0.78102051, 0.93497989],\n",
       "       [0.11525001, 0.50458947],\n",
       "       [0.23599217, 0.20083289],\n",
       "       [0.06871733, 0.38978128],\n",
       "       [0.94586813, 0.97992679],\n",
       "       [0.52868057, 0.90486436],\n",
       "       [0.35148031, 0.80048899],\n",
       "       [0.6363335 , 0.06529299],\n",
       "       [0.36096608, 0.17375157]]), name='asd', nested=CustomOtherClass(s=0    0.625324\n",
       "1    0.280423\n",
       "2    0.381851\n",
       "3    0.323099\n",
       "4    0.447801\n",
       "5    0.304851\n",
       "6    0.406268\n",
       "7    0.664574\n",
       "8    0.807472\n",
       "9    0.208553\n",
       "Name: test, dtype: float64, df=          A         2         3         4         5\n",
       "0  0.046596  0.864302  0.675928  0.082103  0.110515\n",
       "1  0.025016  0.600223  0.516089  0.694011  0.517289\n",
       "2  0.339510  0.788379  0.889890  0.772292  0.175308\n",
       "3  0.215686  0.404377  0.326116  0.940505  0.934801\n",
       "4  0.679300  0.499498  0.210303  0.189084  0.499199))"
      ]
     },
     "execution_count": 4,
     "metadata": {},
     "output_type": "execute_result"
    }
   ],
   "source": [
    "a_decoded"
   ]
  }
 ],
 "metadata": {
  "hide_input": false,
  "kernelspec": {
   "display_name": "Python 3 (ipykernel)",
   "language": "python",
   "name": "python3"
  },
  "language_info": {
   "codemirror_mode": {
    "name": "ipython",
    "version": 3
   },
   "file_extension": ".py",
   "mimetype": "text/x-python",
   "name": "python",
   "nbconvert_exporter": "python",
   "pygments_lexer": "ipython3",
   "version": "3.9.6"
  },
  "toc": {
   "base_numbering": 1,
   "nav_menu": {},
   "number_sections": true,
   "sideBar": true,
   "skip_h1_title": false,
   "title_cell": "Table of Contents",
   "title_sidebar": "Contents",
   "toc_cell": false,
   "toc_position": {},
   "toc_section_display": true,
   "toc_window_display": false
  }
 },
 "nbformat": 4,
 "nbformat_minor": 5
}
