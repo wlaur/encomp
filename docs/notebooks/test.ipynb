{
 "cells": [
  {
   "cell_type": "code",
   "execution_count": 1,
   "id": "7829b981",
   "metadata": {
    "ExecuteTime": {
     "end_time": "2021-07-12T08:52:10.924444Z",
     "start_time": "2021-07-12T08:52:10.894464Z"
    }
   },
   "outputs": [],
   "source": [
    "import sys\n",
    "sys.path.insert(0, '../..')"
   ]
  },
  {
   "cell_type": "code",
   "execution_count": 2,
   "id": "88645d9b",
   "metadata": {
    "ExecuteTime": {
     "end_time": "2021-07-12T08:52:11.064487Z",
     "start_time": "2021-07-12T08:52:10.926443Z"
    }
   },
   "outputs": [
    {
     "data": {
      "text/plain": [
       "Settings(data_directory=WindowsPath('C:/local/repos/encomp/encomp/data'), additional_units=WindowsPath('C:/local/repos/encomp/encomp/data/additional-units.txt'), type_checking=True, typeset_symbol_scripts=True, ignore_ndarray_unit_stripped_warning=True, matplotlib_notebook_format='retina')"
      ]
     },
     "execution_count": 2,
     "metadata": {},
     "output_type": "execute_result"
    }
   ],
   "source": [
    "from encomp.settings import SETTINGS\n",
    "SETTINGS"
   ]
  },
  {
   "cell_type": "markdown",
   "id": "a0468a07",
   "metadata": {},
   "source": [
    "# Test notebook"
   ]
  },
  {
   "cell_type": "code",
   "execution_count": 3,
   "id": "10f83e1c",
   "metadata": {
    "ExecuteTime": {
     "end_time": "2021-07-12T08:52:19.611968Z",
     "start_time": "2021-07-12T08:52:11.066443Z"
    }
   },
   "outputs": [
    {
     "data": {
      "application/javascript": [
       "\n",
       "require(['notebook/js/codecell'], function(codecell) {\n",
       "codecell.CodeCell.options_default.highlight_modes['text/x-markdown'] = {'reg':[/^%%markdown/]} ;\n",
       "Jupyter.notebook.events.one('kernel_ready.Kernel', function(){\n",
       "Jupyter.notebook.get_cells().map(function(cell){\n",
       "    if (cell.cell_type == 'code'){ cell.auto_highlight(); } }) ;\n",
       "});\n",
       "});"
      ],
      "text/plain": [
       "<IPython.core.display.Javascript object>"
      ]
     },
     "metadata": {},
     "output_type": "display_data"
    }
   ],
   "source": [
    "from encomp.notebook import *"
   ]
  },
  {
   "cell_type": "markdown",
   "id": "4ea6c4fb",
   "metadata": {},
   "source": [
    "## Pumps"
   ]
  },
  {
   "cell_type": "code",
   "execution_count": 4,
   "id": "e4ac9971",
   "metadata": {
    "ExecuteTime": {
     "end_time": "2021-07-12T08:52:19.723969Z",
     "start_time": "2021-07-12T08:52:19.613971Z"
    }
   },
   "outputs": [
    {
     "data": {
      "text/plain": [
       "<Water (Liquid), P=200 kPa, T=25.0 °C, D=997.1 kg/m³, V=0.9 cP>"
      ]
     },
     "execution_count": 4,
     "metadata": {},
     "output_type": "execute_result"
    }
   ],
   "source": [
    "Water(T=Q(25, 'degC'), P=Q(2, 'bar'))"
   ]
  },
  {
   "cell_type": "code",
   "execution_count": 5,
   "id": "adddd2cb",
   "metadata": {
    "ExecuteTime": {
     "end_time": "2021-07-12T08:52:19.818998Z",
     "start_time": "2021-07-12T08:52:19.725972Z"
    },
    "scrolled": false
   },
   "outputs": [
    {
     "data": {
      "text/plain": [
       "array([[ 1.00e+00,  1.48e+02,  2.05e+00],\n",
       "       [ 2.00e+01,  1.10e+02,  2.30e+00],\n",
       "       [ 3.66e+02, -9.28e+02, -8.08e+00],\n",
       "       [ 4.00e+02, -1.03e+03, -9.10e+00]])"
      ]
     },
     "execution_count": 5,
     "metadata": {},
     "output_type": "execute_result"
    }
   ],
   "source": [
    "from encomp.pumps import CentrifugalPump\n",
    "\n",
    "data = np.array(\n",
    "    [\n",
    "        [0, 150, 2],\n",
    "        [10, 130, 2.5],\n",
    "        [20, 110, 2.3],\n",
    "        [30, 80, 2.]\n",
    "    ]\n",
    ")\n",
    "\n",
    "p = CentrifugalPump(data=data, units=('m3/hr', 'bar', 'kW'))\n",
    "\n",
    "p.grid_interpolation([1, 20, 366, 400], p.data, 0)"
   ]
  },
  {
   "cell_type": "code",
   "execution_count": 6,
   "id": "f1951941",
   "metadata": {
    "ExecuteTime": {
     "end_time": "2021-07-12T08:52:19.910968Z",
     "start_time": "2021-07-12T08:52:19.819967Z"
    }
   },
   "outputs": [
    {
     "data": {
      "text/plain": [
       "False"
      ]
     },
     "execution_count": 6,
     "metadata": {},
     "output_type": "execute_result"
    }
   ],
   "source": [
    "df = pd.DataFrame(np.random.rand(10, 2), columns=['x [kg]', 'y[m/s]'])\n",
    "\n",
    "df['x [lbs]'] = Q(df['x [kg]'], 'kg').to('kg')\n",
    "\n",
    "df['x [lbs]'] is df['x [kg]']"
   ]
  }
 ],
 "metadata": {
  "hide_input": false,
  "kernelspec": {
   "display_name": "Python 3",
   "language": "python",
   "name": "python3"
  },
  "language_info": {
   "codemirror_mode": {
    "name": "ipython",
    "version": 3
   },
   "file_extension": ".py",
   "mimetype": "text/x-python",
   "name": "python",
   "nbconvert_exporter": "python",
   "pygments_lexer": "ipython3",
   "version": "3.9.4"
  },
  "toc": {
   "base_numbering": 1,
   "nav_menu": {},
   "number_sections": true,
   "sideBar": true,
   "skip_h1_title": false,
   "title_cell": "Table of Contents",
   "title_sidebar": "Contents",
   "toc_cell": false,
   "toc_position": {},
   "toc_section_display": true,
   "toc_window_display": false
  }
 },
 "nbformat": 4,
 "nbformat_minor": 5
}
