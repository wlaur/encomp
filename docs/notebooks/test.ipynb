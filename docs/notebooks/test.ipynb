{
 "cells": [
  {
   "cell_type": "code",
   "execution_count": 1,
   "id": "85550f14-d970-4f06-93b6-dd0e7268549c",
   "metadata": {
    "execution": {
     "iopub.execute_input": "2022-07-25T08:59:26.217166Z",
     "iopub.status.busy": "2022-07-25T08:59:26.216229Z",
     "iopub.status.idle": "2022-07-25T08:59:26.243370Z",
     "shell.execute_reply": "2022-07-25T08:59:26.242364Z",
     "shell.execute_reply.started": "2022-07-25T08:59:26.217081Z"
    },
    "tags": []
   },
   "outputs": [],
   "source": [
    "%load_ext autoreload\n",
    "%autoreload 2"
   ]
  },
  {
   "cell_type": "code",
   "execution_count": 2,
   "id": "7829b981",
   "metadata": {
    "ExecuteTime": {
     "end_time": "2021-08-01T08:00:28.106024Z",
     "start_time": "2021-08-01T08:00:28.077001Z"
    },
    "execution": {
     "iopub.execute_input": "2022-07-25T08:59:26.337876Z",
     "iopub.status.busy": "2022-07-25T08:59:26.337216Z",
     "iopub.status.idle": "2022-07-25T08:59:26.353022Z",
     "shell.execute_reply": "2022-07-25T08:59:26.351054Z",
     "shell.execute_reply.started": "2022-07-25T08:59:26.337837Z"
    },
    "tags": []
   },
   "outputs": [],
   "source": [
    "import sys\n",
    "sys.path.insert(0, '../..')"
   ]
  },
  {
   "cell_type": "markdown",
   "id": "a0468a07",
   "metadata": {
    "tags": []
   },
   "source": [
    "# Test notebook\n"
   ]
  },
  {
   "cell_type": "code",
   "execution_count": 3,
   "id": "4435bdfc-f315-4745-aacd-51ac8bf52ab8",
   "metadata": {
    "execution": {
     "iopub.execute_input": "2022-07-25T08:59:26.604602Z",
     "iopub.status.busy": "2022-07-25T08:59:26.603025Z",
     "iopub.status.idle": "2022-07-25T08:59:26.671183Z",
     "shell.execute_reply": "2022-07-25T08:59:26.666953Z",
     "shell.execute_reply.started": "2022-07-25T08:59:26.604552Z"
    },
    "tags": []
   },
   "outputs": [
    {
     "data": {
      "text/plain": [
       "('0.6.0',\n",
       " \"<module 'encomp' from '/mnt/c/Users/williaml/repos/encomp/docs/notebooks/../../encomp/__init__.py'>\")"
      ]
     },
     "execution_count": 3,
     "metadata": {},
     "output_type": "execute_result"
    }
   ],
   "source": [
    "import trace\n",
    "import encomp\n",
    "encomp.__version__, str(encomp)"
   ]
  },
  {
   "cell_type": "code",
   "execution_count": 4,
   "id": "9d832c3c-d2c3-4980-b0da-3437734eed17",
   "metadata": {
    "execution": {
     "iopub.execute_input": "2022-07-25T08:59:26.734350Z",
     "iopub.status.busy": "2022-07-25T08:59:26.733384Z",
     "iopub.status.idle": "2022-07-25T08:59:29.405972Z",
     "shell.execute_reply": "2022-07-25T08:59:29.404852Z",
     "shell.execute_reply.started": "2022-07-25T08:59:26.734298Z"
    },
    "tags": []
   },
   "outputs": [],
   "source": [
    "from encomp.units import Quantity as Q\n",
    "from encomp.utypes import *"
   ]
  }
 ],
 "metadata": {
  "hide_input": false,
  "kernelspec": {
   "display_name": "Python 3 (ipykernel)",
   "language": "python",
   "name": "python3"
  },
  "language_info": {
   "codemirror_mode": {
    "name": "ipython",
    "version": 3
   },
   "file_extension": ".py",
   "mimetype": "text/x-python",
   "name": "python",
   "nbconvert_exporter": "python",
   "pygments_lexer": "ipython3",
   "version": "3.9.13"
  },
  "toc": {
   "base_numbering": 1,
   "nav_menu": {},
   "number_sections": true,
   "sideBar": true,
   "skip_h1_title": false,
   "title_cell": "Table of Contents",
   "title_sidebar": "Contents",
   "toc_cell": false,
   "toc_position": {},
   "toc_section_display": true,
   "toc_window_display": false
  }
 },
 "nbformat": 4,
 "nbformat_minor": 5
}
