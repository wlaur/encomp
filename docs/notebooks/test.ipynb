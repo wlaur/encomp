{
 "cells": [
  {
   "cell_type": "code",
   "execution_count": 1,
   "id": "85550f14-d970-4f06-93b6-dd0e7268549c",
   "metadata": {
    "execution": {
     "iopub.execute_input": "2022-07-06T17:58:52.654589Z",
     "iopub.status.busy": "2022-07-06T17:58:52.654232Z",
     "iopub.status.idle": "2022-07-06T17:58:52.687744Z",
     "shell.execute_reply": "2022-07-06T17:58:52.686990Z",
     "shell.execute_reply.started": "2022-07-06T17:58:52.654509Z"
    },
    "tags": []
   },
   "outputs": [],
   "source": [
    "%load_ext autoreload\n",
    "%autoreload 2"
   ]
  },
  {
   "cell_type": "code",
   "execution_count": 2,
   "id": "7829b981",
   "metadata": {
    "ExecuteTime": {
     "end_time": "2021-08-01T08:00:28.106024Z",
     "start_time": "2021-08-01T08:00:28.077001Z"
    },
    "execution": {
     "iopub.execute_input": "2022-07-06T17:58:52.688953Z",
     "iopub.status.busy": "2022-07-06T17:58:52.688708Z",
     "iopub.status.idle": "2022-07-06T17:58:52.699149Z",
     "shell.execute_reply": "2022-07-06T17:58:52.698471Z",
     "shell.execute_reply.started": "2022-07-06T17:58:52.688930Z"
    },
    "tags": []
   },
   "outputs": [],
   "source": [
    "import sys\n",
    "sys.path.insert(0, '../..')"
   ]
  },
  {
   "cell_type": "markdown",
   "id": "a0468a07",
   "metadata": {
    "tags": []
   },
   "source": [
    "# Test notebook\n"
   ]
  },
  {
   "cell_type": "code",
   "execution_count": 3,
   "id": "4435bdfc-f315-4745-aacd-51ac8bf52ab8",
   "metadata": {
    "execution": {
     "iopub.execute_input": "2022-07-06T17:58:52.700195Z",
     "iopub.status.busy": "2022-07-06T17:58:52.699905Z",
     "iopub.status.idle": "2022-07-06T17:58:52.774814Z",
     "shell.execute_reply": "2022-07-06T17:58:52.774303Z",
     "shell.execute_reply.started": "2022-07-06T17:58:52.700179Z"
    },
    "tags": []
   },
   "outputs": [
    {
     "data": {
      "text/plain": [
       "('0.5.0',\n",
       " \"<module 'encomp' from '/mnt/c/Users/williaml/repos/encomp/docs/notebooks/../../encomp/__init__.py'>\")"
      ]
     },
     "execution_count": 3,
     "metadata": {},
     "output_type": "execute_result"
    }
   ],
   "source": [
    "import encomp\n",
    "encomp.__version__, str(encomp)"
   ]
  },
  {
   "cell_type": "code",
   "execution_count": 4,
   "id": "74bd0732-26f0-414a-8e44-250baf7a6bfe",
   "metadata": {
    "execution": {
     "iopub.execute_input": "2022-07-06T17:58:52.776844Z",
     "iopub.status.busy": "2022-07-06T17:58:52.776674Z",
     "iopub.status.idle": "2022-07-06T17:58:53.455297Z",
     "shell.execute_reply": "2022-07-06T17:58:53.454751Z",
     "shell.execute_reply.started": "2022-07-06T17:58:52.776831Z"
    },
    "tags": []
   },
   "outputs": [],
   "source": [
    "from encomp.utypes import Pressure, Temperature, Mass, NormalVolumeFlow, MassFlow\n",
    "from encomp.units import Quantity as Q"
   ]
  },
  {
   "cell_type": "code",
   "execution_count": 20,
   "id": "5e393c1c-1714-4ed9-a700-6c5f10341b1b",
   "metadata": {
    "execution": {
     "iopub.execute_input": "2022-07-06T19:58:54.589417Z",
     "iopub.status.busy": "2022-07-06T19:58:54.589182Z",
     "iopub.status.idle": "2022-07-06T19:58:54.715875Z",
     "shell.execute_reply": "2022-07-06T19:58:54.714982Z",
     "shell.execute_reply.started": "2022-07-06T19:58:54.589402Z"
    },
    "tags": []
   },
   "outputs": [
    {
     "name": "stdout",
     "output_type": "stream",
     "text": [
      "Unexpected exception formatting exception. Falling back to standard exception\n"
     ]
    },
    {
     "name": "stderr",
     "output_type": "stream",
     "text": [
      "Traceback (most recent call last):\n",
      "  File \"/home/williaml/miniconda3/envs/hbird-env/lib/python3.9/site-packages/IPython/core/interactiveshell.py\", line 3398, in run_code\n",
      "    exec(code_obj, self.user_global_ns, self.user_ns)\n",
      "  File \"/tmp/ipykernel_2517/3169434871.py\", line 2, in <cell line: 2>\n",
      "    test_Q()\n",
      "  File \"/mnt/c/Users/williaml/repos/encomp/docs/notebooks/../../encomp/tests/test_units.py\", line 85, in test_Q\n",
      "    Q[Temperature](1, 'kg')\n",
      "  File \"/mnt/c/Users/williaml/repos/encomp/docs/notebooks/../../encomp/units.py\", line 370, in __new__\n",
      "    raise ExpectedDimensionalityError(\n",
      "encomp.units.ExpectedDimensionalityError: Quantity with unit \"kg\" has incorrect dimensionality [mass], expected [temperature]\n",
      "\n",
      "During handling of the above exception, another exception occurred:\n",
      "\n",
      "Traceback (most recent call last):\n",
      "  File \"/home/williaml/miniconda3/envs/hbird-env/lib/python3.9/site-packages/IPython/core/interactiveshell.py\", line 1993, in showtraceback\n",
      "    stb = self.InteractiveTB.structured_traceback(\n",
      "  File \"/home/williaml/miniconda3/envs/hbird-env/lib/python3.9/site-packages/IPython/core/ultratb.py\", line 1118, in structured_traceback\n",
      "    return FormattedTB.structured_traceback(\n",
      "  File \"/home/williaml/miniconda3/envs/hbird-env/lib/python3.9/site-packages/IPython/core/ultratb.py\", line 1012, in structured_traceback\n",
      "    return VerboseTB.structured_traceback(\n",
      "  File \"/home/williaml/miniconda3/envs/hbird-env/lib/python3.9/site-packages/IPython/core/ultratb.py\", line 865, in structured_traceback\n",
      "    formatted_exception = self.format_exception_as_a_whole(etype, evalue, etb, number_of_lines_of_context,\n",
      "  File \"/home/williaml/miniconda3/envs/hbird-env/lib/python3.9/site-packages/IPython/core/ultratb.py\", line 818, in format_exception_as_a_whole\n",
      "    frames.append(self.format_record(r))\n",
      "  File \"/home/williaml/miniconda3/envs/hbird-env/lib/python3.9/site-packages/IPython/core/ultratb.py\", line 736, in format_record\n",
      "    result += ''.join(_format_traceback_lines(frame_info.lines, Colors, self.has_colors, lvals))\n",
      "  File \"/home/williaml/miniconda3/envs/hbird-env/lib/python3.9/site-packages/stack_data/utils.py\", line 145, in cached_property_wrapper\n",
      "    value = obj.__dict__[self.func.__name__] = self.func(obj)\n",
      "  File \"/home/williaml/miniconda3/envs/hbird-env/lib/python3.9/site-packages/stack_data/core.py\", line 698, in lines\n",
      "    pieces = self.included_pieces\n",
      "  File \"/home/williaml/miniconda3/envs/hbird-env/lib/python3.9/site-packages/stack_data/utils.py\", line 145, in cached_property_wrapper\n",
      "    value = obj.__dict__[self.func.__name__] = self.func(obj)\n",
      "  File \"/home/williaml/miniconda3/envs/hbird-env/lib/python3.9/site-packages/stack_data/core.py\", line 649, in included_pieces\n",
      "    pos = scope_pieces.index(self.executing_piece)\n",
      "  File \"/home/williaml/miniconda3/envs/hbird-env/lib/python3.9/site-packages/stack_data/utils.py\", line 145, in cached_property_wrapper\n",
      "    value = obj.__dict__[self.func.__name__] = self.func(obj)\n",
      "  File \"/home/williaml/miniconda3/envs/hbird-env/lib/python3.9/site-packages/stack_data/core.py\", line 628, in executing_piece\n",
      "    return only(\n",
      "  File \"/home/williaml/miniconda3/envs/hbird-env/lib/python3.9/site-packages/executing/executing.py\", line 164, in only\n",
      "    raise NotOneValueFound('Expected one value, found 0')\n",
      "executing.executing.NotOneValueFound: Expected one value, found 0\n"
     ]
    }
   ],
   "source": [
    "from encomp.tests.test_units import test_Q\n",
    "test_Q()"
   ]
  }
 ],
 "metadata": {
  "hide_input": false,
  "kernelspec": {
   "display_name": "Python 3 (ipykernel)",
   "language": "python",
   "name": "python3"
  },
  "language_info": {
   "codemirror_mode": {
    "name": "ipython",
    "version": 3
   },
   "file_extension": ".py",
   "mimetype": "text/x-python",
   "name": "python",
   "nbconvert_exporter": "python",
   "pygments_lexer": "ipython3",
   "version": "3.9.13"
  },
  "toc": {
   "base_numbering": 1,
   "nav_menu": {},
   "number_sections": true,
   "sideBar": true,
   "skip_h1_title": false,
   "title_cell": "Table of Contents",
   "title_sidebar": "Contents",
   "toc_cell": false,
   "toc_position": {},
   "toc_section_display": true,
   "toc_window_display": false
  }
 },
 "nbformat": 4,
 "nbformat_minor": 5
}
