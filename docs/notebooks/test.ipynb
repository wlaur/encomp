{
 "cells": [
  {
   "cell_type": "code",
   "execution_count": 1,
   "id": "85550f14-d970-4f06-93b6-dd0e7268549c",
   "metadata": {
    "execution": {
     "iopub.execute_input": "2022-07-08T14:57:10.709703Z",
     "iopub.status.busy": "2022-07-08T14:57:10.709443Z",
     "iopub.status.idle": "2022-07-08T14:57:10.735267Z",
     "shell.execute_reply": "2022-07-08T14:57:10.734585Z",
     "shell.execute_reply.started": "2022-07-08T14:57:10.709652Z"
    },
    "tags": []
   },
   "outputs": [],
   "source": [
    "%load_ext autoreload\n",
    "%autoreload 2"
   ]
  },
  {
   "cell_type": "code",
   "execution_count": 2,
   "id": "7829b981",
   "metadata": {
    "ExecuteTime": {
     "end_time": "2021-08-01T08:00:28.106024Z",
     "start_time": "2021-08-01T08:00:28.077001Z"
    },
    "execution": {
     "iopub.execute_input": "2022-07-08T14:57:10.736078Z",
     "iopub.status.busy": "2022-07-08T14:57:10.735913Z",
     "iopub.status.idle": "2022-07-08T14:57:10.756304Z",
     "shell.execute_reply": "2022-07-08T14:57:10.755686Z",
     "shell.execute_reply.started": "2022-07-08T14:57:10.736065Z"
    },
    "tags": []
   },
   "outputs": [],
   "source": [
    "import sys\n",
    "sys.path.insert(0, '../..')"
   ]
  },
  {
   "cell_type": "markdown",
   "id": "a0468a07",
   "metadata": {
    "tags": []
   },
   "source": [
    "# Test notebook\n"
   ]
  },
  {
   "cell_type": "code",
   "execution_count": 3,
   "id": "4435bdfc-f315-4745-aacd-51ac8bf52ab8",
   "metadata": {
    "execution": {
     "iopub.execute_input": "2022-07-08T14:57:10.757230Z",
     "iopub.status.busy": "2022-07-08T14:57:10.757027Z",
     "iopub.status.idle": "2022-07-08T14:57:10.827594Z",
     "shell.execute_reply": "2022-07-08T14:57:10.826942Z",
     "shell.execute_reply.started": "2022-07-08T14:57:10.757216Z"
    },
    "tags": []
   },
   "outputs": [
    {
     "data": {
      "text/plain": [
       "('0.5.0',\n",
       " \"<module 'encomp' from '/mnt/c/Users/williaml/repos/encomp/docs/notebooks/../../encomp/__init__.py'>\")"
      ]
     },
     "execution_count": 3,
     "metadata": {},
     "output_type": "execute_result"
    }
   ],
   "source": [
    "import encomp\n",
    "encomp.__version__, str(encomp)"
   ]
  },
  {
   "cell_type": "code",
   "execution_count": 4,
   "id": "74bd0732-26f0-414a-8e44-250baf7a6bfe",
   "metadata": {
    "execution": {
     "iopub.execute_input": "2022-07-08T14:57:10.829319Z",
     "iopub.status.busy": "2022-07-08T14:57:10.829127Z",
     "iopub.status.idle": "2022-07-08T14:57:11.547968Z",
     "shell.execute_reply": "2022-07-08T14:57:11.547282Z",
     "shell.execute_reply.started": "2022-07-08T14:57:10.829304Z"
    },
    "tags": []
   },
   "outputs": [],
   "source": [
    "from encomp.utypes import *\n",
    "from encomp.units import Quantity as Q"
   ]
  },
  {
   "cell_type": "code",
   "execution_count": 6,
   "id": "59a37a81-2bfa-44aa-9a20-eb09401ec67f",
   "metadata": {
    "execution": {
     "iopub.execute_input": "2022-07-08T14:57:15.590170Z",
     "iopub.status.busy": "2022-07-08T14:57:15.589834Z",
     "iopub.status.idle": "2022-07-08T14:57:15.619414Z",
     "shell.execute_reply": "2022-07-08T14:57:15.617309Z",
     "shell.execute_reply.started": "2022-07-08T14:57:15.590143Z"
    },
    "tags": []
   },
   "outputs": [
    {
     "data": {
      "text/plain": [
       "encomp.units.Quantity[Dimensionality[[mass] ** 2 / [length] ** 3]]"
      ]
     },
     "execution_count": 6,
     "metadata": {},
     "output_type": "execute_result"
    }
   ],
   "source": [
    "from encomp.units import Quantity as Q\n",
    "\n",
    "# the unit \"m\" is registered as a Mass unit\n",
    "m = Q(12, 'kg')  # Quantity[Mass]\n",
    "\n",
    "V = Q(25, 'liter')  # Quantity[Volume]\n",
    "\n",
    "# some common / and * operations are encoded\n",
    "rho = m / V  # Quantity[Density]\n",
    "\n",
    "# the unit \"kg/week\" is not registered by default\n",
    "m_ = Q(25, 'kg/week')  # Quantity[Unknown]\n",
    "\n",
    "# this operation is not defined for the type checker\n",
    "# at runtime, the type will \n",
    "x = m**2 / V  # Quantity[Unknown]\n",
    "type(x)"
   ]
  }
 ],
 "metadata": {
  "hide_input": false,
  "kernelspec": {
   "display_name": "Python 3 (ipykernel)",
   "language": "python",
   "name": "python3"
  },
  "language_info": {
   "codemirror_mode": {
    "name": "ipython",
    "version": 3
   },
   "file_extension": ".py",
   "mimetype": "text/x-python",
   "name": "python",
   "nbconvert_exporter": "python",
   "pygments_lexer": "ipython3",
   "version": "3.9.13"
  },
  "toc": {
   "base_numbering": 1,
   "nav_menu": {},
   "number_sections": true,
   "sideBar": true,
   "skip_h1_title": false,
   "title_cell": "Table of Contents",
   "title_sidebar": "Contents",
   "toc_cell": false,
   "toc_position": {},
   "toc_section_display": true,
   "toc_window_display": false
  }
 },
 "nbformat": 4,
 "nbformat_minor": 5
}
