{
 "cells": [
  {
   "cell_type": "code",
   "execution_count": 2,
   "id": "85550f14-d970-4f06-93b6-dd0e7268549c",
   "metadata": {
    "execution": {
     "iopub.execute_input": "2022-07-07T16:32:23.142641Z",
     "iopub.status.busy": "2022-07-07T16:32:23.142403Z",
     "iopub.status.idle": "2022-07-07T16:32:23.154481Z",
     "shell.execute_reply": "2022-07-07T16:32:23.153671Z",
     "shell.execute_reply.started": "2022-07-07T16:32:23.142622Z"
    },
    "tags": []
   },
   "outputs": [],
   "source": [
    "%load_ext autoreload\n",
    "%autoreload 2"
   ]
  },
  {
   "cell_type": "code",
   "execution_count": 3,
   "id": "7829b981",
   "metadata": {
    "ExecuteTime": {
     "end_time": "2021-08-01T08:00:28.106024Z",
     "start_time": "2021-08-01T08:00:28.077001Z"
    },
    "execution": {
     "iopub.execute_input": "2022-07-07T16:32:23.261577Z",
     "iopub.status.busy": "2022-07-07T16:32:23.261345Z",
     "iopub.status.idle": "2022-07-07T16:32:23.271492Z",
     "shell.execute_reply": "2022-07-07T16:32:23.270566Z",
     "shell.execute_reply.started": "2022-07-07T16:32:23.261562Z"
    },
    "tags": []
   },
   "outputs": [],
   "source": [
    "import sys\n",
    "sys.path.insert(0, '../..')"
   ]
  },
  {
   "cell_type": "markdown",
   "id": "a0468a07",
   "metadata": {
    "tags": []
   },
   "source": [
    "# Test notebook\n"
   ]
  },
  {
   "cell_type": "code",
   "execution_count": 4,
   "id": "4435bdfc-f315-4745-aacd-51ac8bf52ab8",
   "metadata": {
    "execution": {
     "iopub.execute_input": "2022-07-07T16:32:23.510908Z",
     "iopub.status.busy": "2022-07-07T16:32:23.510690Z",
     "iopub.status.idle": "2022-07-07T16:32:23.601381Z",
     "shell.execute_reply": "2022-07-07T16:32:23.600780Z",
     "shell.execute_reply.started": "2022-07-07T16:32:23.510893Z"
    },
    "tags": []
   },
   "outputs": [
    {
     "data": {
      "text/plain": [
       "('0.5.0',\n",
       " \"<module 'encomp' from '/mnt/c/Users/williaml/repos/encomp/docs/notebooks/../../encomp/__init__.py'>\")"
      ]
     },
     "execution_count": 4,
     "metadata": {},
     "output_type": "execute_result"
    }
   ],
   "source": [
    "import encomp\n",
    "encomp.__version__, str(encomp)"
   ]
  },
  {
   "cell_type": "code",
   "execution_count": 11,
   "id": "74bd0732-26f0-414a-8e44-250baf7a6bfe",
   "metadata": {
    "execution": {
     "iopub.execute_input": "2022-07-07T16:33:28.880972Z",
     "iopub.status.busy": "2022-07-07T16:33:28.880744Z",
     "iopub.status.idle": "2022-07-07T16:33:28.897971Z",
     "shell.execute_reply": "2022-07-07T16:33:28.897354Z",
     "shell.execute_reply.started": "2022-07-07T16:33:28.880957Z"
    },
    "tags": []
   },
   "outputs": [],
   "source": [
    "from encomp.utypes import *\n",
    "from encomp.units import Quantity as Q"
   ]
  },
  {
   "cell_type": "code",
   "execution_count": 29,
   "id": "3ce6af58-4506-49ee-b44f-ba59ef0b4e27",
   "metadata": {
    "execution": {
     "iopub.execute_input": "2022-07-07T16:37:11.218777Z",
     "iopub.status.busy": "2022-07-07T16:37:11.218449Z",
     "iopub.status.idle": "2022-07-07T16:37:11.239436Z",
     "shell.execute_reply": "2022-07-07T16:37:11.238638Z",
     "shell.execute_reply.started": "2022-07-07T16:37:11.218755Z"
    },
    "tags": []
   },
   "outputs": [
    {
     "name": "stdout",
     "output_type": "stream",
     "text": [
      "q_any=<Quantity(123.0, 'dimensionless')> q_t=<Quantity(25, 'degree_Celsius')> q_p=<Quantity(25, 'meter')>\n"
     ]
    }
   ],
   "source": [
    "from pydantic import BaseModel\n",
    "\n",
    "\n",
    "class Model(BaseModel):\n",
    "    \n",
    "    \n",
    "    q_any: Q\n",
    "    \n",
    "    q_t: Q[Temperature]\n",
    "    \n",
    "    q_p: Q[Length] = Q(25, 'm')\n",
    "    \n",
    "    \n",
    "    \n",
    "m = Model(\n",
    "    q_any=Q('123'),\n",
    "    q_t=Q(25, 'C'),\n",
    "    # q_p=Q(25, 's')\n",
    ")\n",
    "\n",
    "\n",
    "print(m)"
   ]
  },
  {
   "cell_type": "code",
   "execution_count": null,
   "id": "53ad6226-45ee-46ee-b5ad-5d2553504c9a",
   "metadata": {},
   "outputs": [],
   "source": []
  }
 ],
 "metadata": {
  "hide_input": false,
  "kernelspec": {
   "display_name": "Python 3 (ipykernel)",
   "language": "python",
   "name": "python3"
  },
  "language_info": {
   "codemirror_mode": {
    "name": "ipython",
    "version": 3
   },
   "file_extension": ".py",
   "mimetype": "text/x-python",
   "name": "python",
   "nbconvert_exporter": "python",
   "pygments_lexer": "ipython3",
   "version": "3.9.13"
  },
  "toc": {
   "base_numbering": 1,
   "nav_menu": {},
   "number_sections": true,
   "sideBar": true,
   "skip_h1_title": false,
   "title_cell": "Table of Contents",
   "title_sidebar": "Contents",
   "toc_cell": false,
   "toc_position": {},
   "toc_section_display": true,
   "toc_window_display": false
  }
 },
 "nbformat": 4,
 "nbformat_minor": 5
}
