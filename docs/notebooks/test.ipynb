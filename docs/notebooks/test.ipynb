{
 "cells": [
  {
   "cell_type": "code",
   "execution_count": 1,
   "id": "85550f14-d970-4f06-93b6-dd0e7268549c",
   "metadata": {
    "execution": {
     "iopub.execute_input": "2022-07-09T12:24:02.609797Z",
     "iopub.status.busy": "2022-07-09T12:24:02.609208Z",
     "iopub.status.idle": "2022-07-09T12:24:02.677881Z",
     "shell.execute_reply": "2022-07-09T12:24:02.673895Z",
     "shell.execute_reply.started": "2022-07-09T12:24:02.609663Z"
    },
    "tags": []
   },
   "outputs": [],
   "source": [
    "%load_ext autoreload\n",
    "%autoreload 2"
   ]
  },
  {
   "cell_type": "code",
   "execution_count": 2,
   "id": "7829b981",
   "metadata": {
    "ExecuteTime": {
     "end_time": "2021-08-01T08:00:28.106024Z",
     "start_time": "2021-08-01T08:00:28.077001Z"
    },
    "execution": {
     "iopub.execute_input": "2022-07-09T12:24:02.679863Z",
     "iopub.status.busy": "2022-07-09T12:24:02.679453Z",
     "iopub.status.idle": "2022-07-09T12:24:02.695297Z",
     "shell.execute_reply": "2022-07-09T12:24:02.693459Z",
     "shell.execute_reply.started": "2022-07-09T12:24:02.679827Z"
    },
    "tags": []
   },
   "outputs": [],
   "source": [
    "import sys\n",
    "sys.path.insert(0, '../..')"
   ]
  },
  {
   "cell_type": "markdown",
   "id": "a0468a07",
   "metadata": {
    "tags": []
   },
   "source": [
    "# Test notebook\n"
   ]
  },
  {
   "cell_type": "code",
   "execution_count": 3,
   "id": "4435bdfc-f315-4745-aacd-51ac8bf52ab8",
   "metadata": {
    "execution": {
     "iopub.execute_input": "2022-07-09T12:24:02.698242Z",
     "iopub.status.busy": "2022-07-09T12:24:02.696981Z",
     "iopub.status.idle": "2022-07-09T12:24:02.837308Z",
     "shell.execute_reply": "2022-07-09T12:24:02.835609Z",
     "shell.execute_reply.started": "2022-07-09T12:24:02.698211Z"
    },
    "tags": []
   },
   "outputs": [
    {
     "data": {
      "text/plain": [
       "('0.5.2',\n",
       " \"<module 'encomp' from '/mnt/c/Users/williaml/repos/encomp/docs/notebooks/../../encomp/__init__.py'>\")"
      ]
     },
     "execution_count": 3,
     "metadata": {},
     "output_type": "execute_result"
    }
   ],
   "source": [
    "import encomp\n",
    "encomp.__version__, str(encomp)"
   ]
  },
  {
   "cell_type": "code",
   "execution_count": 4,
   "id": "74bd0732-26f0-414a-8e44-250baf7a6bfe",
   "metadata": {
    "execution": {
     "iopub.execute_input": "2022-07-09T12:24:02.841480Z",
     "iopub.status.busy": "2022-07-09T12:24:02.841012Z",
     "iopub.status.idle": "2022-07-09T12:24:04.166358Z",
     "shell.execute_reply": "2022-07-09T12:24:04.163944Z",
     "shell.execute_reply.started": "2022-07-09T12:24:02.841439Z"
    },
    "tags": []
   },
   "outputs": [],
   "source": [
    "from encomp.utypes import *\n",
    "from encomp.units import Quantity as Q"
   ]
  },
  {
   "cell_type": "code",
   "execution_count": 9,
   "id": "98e6fe61-6763-453b-9918-1b1f45ba8ea0",
   "metadata": {
    "execution": {
     "iopub.execute_input": "2022-07-09T12:31:22.343897Z",
     "iopub.status.busy": "2022-07-09T12:31:22.343679Z",
     "iopub.status.idle": "2022-07-09T12:31:22.360857Z",
     "shell.execute_reply": "2022-07-09T12:31:22.360137Z",
     "shell.execute_reply.started": "2022-07-09T12:31:22.343884Z"
    },
    "tags": []
   },
   "outputs": [
    {
     "data": {
      "text/plain": [
       "encomp.units.Quantity[Dimensionality[[length] ** 2 * [mass] / [time]]]"
      ]
     },
     "execution_count": 9,
     "metadata": {},
     "output_type": "execute_result"
    }
   ],
   "source": [
    "type(Q(25, 'J') * Q(25, 'h'))"
   ]
  },
  {
   "cell_type": "code",
   "execution_count": null,
   "id": "c5bc0087-cf4b-4967-a14a-e3e555fdcaf7",
   "metadata": {},
   "outputs": [],
   "source": []
  }
 ],
 "metadata": {
  "hide_input": false,
  "kernelspec": {
   "display_name": "Python 3 (ipykernel)",
   "language": "python",
   "name": "python3"
  },
  "language_info": {
   "codemirror_mode": {
    "name": "ipython",
    "version": 3
   },
   "file_extension": ".py",
   "mimetype": "text/x-python",
   "name": "python",
   "nbconvert_exporter": "python",
   "pygments_lexer": "ipython3",
   "version": "3.9.13"
  },
  "toc": {
   "base_numbering": 1,
   "nav_menu": {},
   "number_sections": true,
   "sideBar": true,
   "skip_h1_title": false,
   "title_cell": "Table of Contents",
   "title_sidebar": "Contents",
   "toc_cell": false,
   "toc_position": {},
   "toc_section_display": true,
   "toc_window_display": false
  }
 },
 "nbformat": 4,
 "nbformat_minor": 5
}
