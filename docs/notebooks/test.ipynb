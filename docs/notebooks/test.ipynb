{
 "cells": [
  {
   "cell_type": "code",
   "execution_count": 1,
   "id": "85550f14-d970-4f06-93b6-dd0e7268549c",
   "metadata": {
    "tags": []
   },
   "outputs": [],
   "source": [
    "%load_ext autoreload\n",
    "%autoreload 2"
   ]
  },
  {
   "cell_type": "code",
   "execution_count": 2,
   "id": "7829b981",
   "metadata": {
    "ExecuteTime": {
     "end_time": "2021-08-01T08:00:28.106024Z",
     "start_time": "2021-08-01T08:00:28.077001Z"
    },
    "tags": []
   },
   "outputs": [],
   "source": [
    "from pathlib import Path\n",
    "import sys\n",
    "sys.path.insert(0, str(Path('../..').resolve()))"
   ]
  },
  {
   "cell_type": "markdown",
   "id": "a0468a07",
   "metadata": {
    "tags": []
   },
   "source": [
    "# Test notebook\n"
   ]
  },
  {
   "cell_type": "code",
   "execution_count": 3,
   "id": "4435bdfc-f315-4745-aacd-51ac8bf52ab8",
   "metadata": {
    "tags": []
   },
   "outputs": [
    {
     "data": {
      "text/plain": [
       "('0.8.0',\n",
       " <module 'encomp' from '/home/williaml@indmeas.local/repos/encomp/encomp/__init__.py'>)"
      ]
     },
     "execution_count": 3,
     "metadata": {},
     "output_type": "execute_result"
    }
   ],
   "source": [
    "import encomp\n",
    "encomp.__version__, encomp"
   ]
  },
  {
   "cell_type": "code",
   "execution_count": 4,
   "id": "3ceb6d5e-6eb1-48ff-acce-2df43888556c",
   "metadata": {},
   "outputs": [],
   "source": [
    "from encomp.units import Quantity as Q\n",
    "from encomp.utypes import *\n",
    "import numpy as np\n",
    "import pandas as pd"
   ]
  },
  {
   "cell_type": "code",
   "execution_count": 16,
   "id": "773a3b26",
   "metadata": {},
   "outputs": [
    {
     "data": {
      "text/html": [
       "<div>\n",
       "<style scoped>\n",
       "    .dataframe tbody tr th:only-of-type {\n",
       "        vertical-align: middle;\n",
       "    }\n",
       "\n",
       "    .dataframe tbody tr th {\n",
       "        vertical-align: top;\n",
       "    }\n",
       "\n",
       "    .dataframe thead th {\n",
       "        text-align: right;\n",
       "    }\n",
       "</style>\n",
       "<table border=\"1\" class=\"dataframe\">\n",
       "  <thead>\n",
       "    <tr style=\"text-align: right;\">\n",
       "      <th></th>\n",
       "      <th>input</th>\n",
       "      <th>A</th>\n",
       "      <th>B</th>\n",
       "      <th>C</th>\n",
       "      <th>D</th>\n",
       "    </tr>\n",
       "  </thead>\n",
       "  <tbody>\n",
       "    <tr>\n",
       "      <th>2020-01-01 00:00:00</th>\n",
       "      <td>0.000000</td>\n",
       "      <td>0.00</td>\n",
       "      <td>25.0 t/h</td>\n",
       "      <td>25.0 t/h</td>\n",
       "      <td>25.0</td>\n",
       "    </tr>\n",
       "    <tr>\n",
       "      <th>2020-01-01 01:00:00</th>\n",
       "      <td>0.041667</td>\n",
       "      <td>0.15</td>\n",
       "      <td>25.0 t/h</td>\n",
       "      <td>25.0 t/h</td>\n",
       "      <td>25.0</td>\n",
       "    </tr>\n",
       "    <tr>\n",
       "      <th>2020-01-01 02:00:00</th>\n",
       "      <td>0.083333</td>\n",
       "      <td>0.30</td>\n",
       "      <td>25.0 t/h</td>\n",
       "      <td>25.0 t/h</td>\n",
       "      <td>25.0</td>\n",
       "    </tr>\n",
       "    <tr>\n",
       "      <th>2020-01-01 03:00:00</th>\n",
       "      <td>0.125000</td>\n",
       "      <td>0.45</td>\n",
       "      <td>25.0 t/h</td>\n",
       "      <td>25.0 t/h</td>\n",
       "      <td>25.0</td>\n",
       "    </tr>\n",
       "    <tr>\n",
       "      <th>2020-01-01 04:00:00</th>\n",
       "      <td>0.166667</td>\n",
       "      <td>0.60</td>\n",
       "      <td>25.0 t/h</td>\n",
       "      <td>25.0 t/h</td>\n",
       "      <td>25.0</td>\n",
       "    </tr>\n",
       "  </tbody>\n",
       "</table>\n",
       "</div>"
      ],
      "text/plain": [
       "                        input     A         B         C     D\n",
       "2020-01-01 00:00:00  0.000000  0.00  25.0 t/h  25.0 t/h  25.0\n",
       "2020-01-01 01:00:00  0.041667  0.15  25.0 t/h  25.0 t/h  25.0\n",
       "2020-01-01 02:00:00  0.083333  0.30  25.0 t/h  25.0 t/h  25.0\n",
       "2020-01-01 03:00:00  0.125000  0.45  25.0 t/h  25.0 t/h  25.0\n",
       "2020-01-01 04:00:00  0.166667  0.60  25.0 t/h  25.0 t/h  25.0"
      ]
     },
     "execution_count": 16,
     "metadata": {},
     "output_type": "execute_result"
    }
   ],
   "source": [
    "\n",
    "index = pd.date_range('2020-01-01', '2020-01-02', freq='h')\n",
    "df = pd.DataFrame(index=index)\n",
    "\n",
    "df['input'] = np.linspace(0, 1, len(df))\n",
    "\n",
    "q_vector = Q(df['input'], 'm/s')\n",
    "\n",
    "# assigns a float array, as expected\n",
    "df['A'] = q_vector.to('kmh')\n",
    "\n",
    "q_scalar = Q(25, 'ton/h')\n",
    "\n",
    "# assigns a repeated array of Quantity objects\n",
    "df['B'] = q_scalar\n",
    "\n",
    "# identical to the previous assignment\n",
    "df['C'] = [q_scalar] * len(df)\n",
    "\n",
    "# this will be correctly broadcasted to a repeated int array\n",
    "df['D'] = q_scalar.m\n",
    "\n",
    "df.head()\n",
    "#                         input     A        B        C   D\n",
    "# 2020-01-01 00:00:00  0.000000  0.00  25 t/hr  25 t/hr  25\n",
    "# 2020-01-01 01:00:00  0.041667  0.15  25 t/hr  25 t/hr  25\n",
    "# 2020-01-01 02:00:00  0.083333  0.30  25 t/hr  25 t/hr  25\n",
    "# 2020-01-01 03:00:00  0.125000  0.45  25 t/hr  25 t/hr  25\n",
    "# 2020-01-01 04:00:00  0.166667  0.60  25 t/hr  25 t/hr  25\n",
    "\n",
    "# df.dtypes\n",
    "\n",
    "# input    float64\n",
    "# A        float64\n",
    "# B         object\n",
    "# C         object\n",
    "# D          int64\n",
    "# dtype: object\n"
   ]
  }
 ],
 "metadata": {
  "hide_input": false,
  "kernelspec": {
   "display_name": "Python 3 (ipykernel)",
   "language": "python",
   "name": "python3"
  },
  "language_info": {
   "codemirror_mode": {
    "name": "ipython",
    "version": 3
   },
   "file_extension": ".py",
   "mimetype": "text/x-python",
   "name": "python",
   "nbconvert_exporter": "python",
   "pygments_lexer": "ipython3",
   "version": "3.10.9"
  },
  "toc": {
   "base_numbering": 1,
   "nav_menu": {},
   "number_sections": true,
   "sideBar": true,
   "skip_h1_title": false,
   "title_cell": "Table of Contents",
   "title_sidebar": "Contents",
   "toc_cell": false,
   "toc_position": {},
   "toc_section_display": true,
   "toc_window_display": false
  }
 },
 "nbformat": 4,
 "nbformat_minor": 5
}
