{
 "cells": [
  {
   "cell_type": "code",
   "execution_count": 1,
   "id": "7829b981",
   "metadata": {
    "ExecuteTime": {
     "end_time": "2021-07-18T15:53:15.542020Z",
     "start_time": "2021-07-18T15:53:15.502508Z"
    }
   },
   "outputs": [],
   "source": [
    "import sys\n",
    "sys.path.insert(0, '../..')"
   ]
  },
  {
   "cell_type": "code",
   "execution_count": 2,
   "id": "88645d9b",
   "metadata": {
    "ExecuteTime": {
     "end_time": "2021-07-18T15:53:15.698541Z",
     "start_time": "2021-07-18T15:53:15.544545Z"
    }
   },
   "outputs": [
    {
     "data": {
      "text/plain": [
       "Settings(data_directory=WindowsPath('C:/local/repos/encomp/encomp/data'), additional_units=WindowsPath('C:/local/repos/encomp/encomp/data/additional-units.txt'), type_checking=False, typeset_symbol_scripts=True, ignore_ndarray_unit_stripped_warning=True, matplotlib_notebook_format='svg')"
      ]
     },
     "execution_count": 2,
     "metadata": {},
     "output_type": "execute_result"
    }
   ],
   "source": [
    "from encomp.settings import SETTINGS\n",
    "\n",
    "import os \n",
    "\n",
    "SETTINGS"
   ]
  },
  {
   "cell_type": "markdown",
   "id": "a0468a07",
   "metadata": {},
   "source": [
    "# Test notebook"
   ]
  },
  {
   "cell_type": "code",
   "execution_count": 3,
   "id": "10f83e1c",
   "metadata": {
    "ExecuteTime": {
     "end_time": "2021-07-18T15:53:18.644319Z",
     "start_time": "2021-07-18T15:53:15.700541Z"
    }
   },
   "outputs": [
    {
     "data": {
      "application/javascript": [
       "\n",
       "require(['notebook/js/codecell'], function(codecell) {\n",
       "codecell.CodeCell.options_default.highlight_modes['text/x-markdown'] = {'reg':[/^%%markdown/]} ;\n",
       "Jupyter.notebook.events.one('kernel_ready.Kernel', function(){\n",
       "Jupyter.notebook.get_cells().map(function(cell){\n",
       "    if (cell.cell_type == 'code'){ cell.auto_highlight(); } }) ;\n",
       "});\n",
       "});"
      ],
      "text/plain": [
       "<IPython.core.display.Javascript object>"
      ]
     },
     "metadata": {},
     "output_type": "display_data"
    }
   ],
   "source": [
    "from encomp.notebook import *"
   ]
  },
  {
   "cell_type": "markdown",
   "id": "4ea6c4fb",
   "metadata": {},
   "source": [
    "## Pumps"
   ]
  },
  {
   "cell_type": "code",
   "execution_count": 4,
   "id": "e4ac9971",
   "metadata": {
    "ExecuteTime": {
     "end_time": "2021-07-18T15:53:18.771284Z",
     "start_time": "2021-07-18T15:53:18.645320Z"
    }
   },
   "outputs": [
    {
     "data": {
      "text/plain": [
       "<Water (Liquid), P=200 kPa, T=25.0 °C, D=997.1 kg/m³, V=0.9 cP>"
      ]
     },
     "execution_count": 4,
     "metadata": {},
     "output_type": "execute_result"
    }
   ],
   "source": [
    "Water(T=Q(25, 'degC'), P=Q(2, 'bar'))"
   ]
  },
  {
   "cell_type": "code",
   "execution_count": 5,
   "id": "adddd2cb",
   "metadata": {
    "ExecuteTime": {
     "end_time": "2021-07-18T15:53:18.899321Z",
     "start_time": "2021-07-18T15:53:18.773283Z"
    },
    "scrolled": false
   },
   "outputs": [
    {
     "data": {
      "text/plain": [
       "array([[ 1.00e+00,  1.48e+02,  2.05e+00],\n",
       "       [ 2.00e+01,  1.10e+02,  2.30e+00],\n",
       "       [ 3.66e+02, -9.28e+02, -8.08e+00],\n",
       "       [ 4.00e+02, -1.03e+03, -9.10e+00]])"
      ]
     },
     "execution_count": 5,
     "metadata": {},
     "output_type": "execute_result"
    }
   ],
   "source": [
    "from encomp.pumps import CentrifugalPump\n",
    "\n",
    "data = np.array(\n",
    "    [\n",
    "        [0, 150, 2],\n",
    "        [10, 130, 2.5],\n",
    "        [20, 110, 2.3],\n",
    "        [30, 80, 2.]\n",
    "    ]\n",
    ")\n",
    "\n",
    "p = CentrifugalPump(data=data, units=('m3/hr', 'bar', 'kW'))\n",
    "\n",
    "p.grid_interpolation([1, 20, 366, 400], p.data, 0)"
   ]
  },
  {
   "cell_type": "code",
   "execution_count": 6,
   "id": "f1951941",
   "metadata": {
    "ExecuteTime": {
     "end_time": "2021-07-18T15:53:19.042328Z",
     "start_time": "2021-07-18T15:53:18.901283Z"
    }
   },
   "outputs": [
    {
     "data": {
      "text/html": [
       "<div>\n",
       "<style scoped>\n",
       "    .dataframe tbody tr th:only-of-type {\n",
       "        vertical-align: middle;\n",
       "    }\n",
       "\n",
       "    .dataframe tbody tr th {\n",
       "        vertical-align: top;\n",
       "    }\n",
       "\n",
       "    .dataframe thead th {\n",
       "        text-align: right;\n",
       "    }\n",
       "</style>\n",
       "<table border=\"1\" class=\"dataframe\">\n",
       "  <thead>\n",
       "    <tr style=\"text-align: right;\">\n",
       "      <th></th>\n",
       "      <th>x [kg]</th>\n",
       "      <th>y [m/s]</th>\n",
       "      <th>x [lbs]</th>\n",
       "    </tr>\n",
       "  </thead>\n",
       "  <tbody>\n",
       "    <tr>\n",
       "      <th>0</th>\n",
       "      <td>0.622200</td>\n",
       "      <td>0.061327</td>\n",
       "      <td>1.371715</td>\n",
       "    </tr>\n",
       "    <tr>\n",
       "      <th>1</th>\n",
       "      <td>0.080351</td>\n",
       "      <td>0.363268</td>\n",
       "      <td>0.177143</td>\n",
       "    </tr>\n",
       "    <tr>\n",
       "      <th>2</th>\n",
       "      <td>0.704193</td>\n",
       "      <td>0.668377</td>\n",
       "      <td>1.552481</td>\n",
       "    </tr>\n",
       "    <tr>\n",
       "      <th>3</th>\n",
       "      <td>0.048570</td>\n",
       "      <td>0.580554</td>\n",
       "      <td>0.107077</td>\n",
       "    </tr>\n",
       "    <tr>\n",
       "      <th>4</th>\n",
       "      <td>0.011544</td>\n",
       "      <td>0.222064</td>\n",
       "      <td>0.025450</td>\n",
       "    </tr>\n",
       "    <tr>\n",
       "      <th>5</th>\n",
       "      <td>0.511988</td>\n",
       "      <td>0.157150</td>\n",
       "      <td>1.128741</td>\n",
       "    </tr>\n",
       "    <tr>\n",
       "      <th>6</th>\n",
       "      <td>0.559547</td>\n",
       "      <td>0.927022</td>\n",
       "      <td>1.233591</td>\n",
       "    </tr>\n",
       "    <tr>\n",
       "      <th>7</th>\n",
       "      <td>0.332663</td>\n",
       "      <td>0.479489</td>\n",
       "      <td>0.733397</td>\n",
       "    </tr>\n",
       "    <tr>\n",
       "      <th>8</th>\n",
       "      <td>0.005913</td>\n",
       "      <td>0.537688</td>\n",
       "      <td>0.013035</td>\n",
       "    </tr>\n",
       "    <tr>\n",
       "      <th>9</th>\n",
       "      <td>0.124748</td>\n",
       "      <td>0.465452</td>\n",
       "      <td>0.275022</td>\n",
       "    </tr>\n",
       "  </tbody>\n",
       "</table>\n",
       "</div>"
      ],
      "text/latex": [
       "\\begin{tabular}{lrrr}\n",
       "\\toprule\n",
       "{} &    x [kg] &   y [m/s] &   x [lbs] \\\\\n",
       "\\midrule\n",
       "0 &  0.622200 &  0.061327 &  1.371715 \\\\\n",
       "1 &  0.080351 &  0.363268 &  0.177143 \\\\\n",
       "2 &  0.704193 &  0.668377 &  1.552481 \\\\\n",
       "3 &  0.048570 &  0.580554 &  0.107077 \\\\\n",
       "4 &  0.011544 &  0.222064 &  0.025450 \\\\\n",
       "5 &  0.511988 &  0.157150 &  1.128741 \\\\\n",
       "6 &  0.559547 &  0.927022 &  1.233591 \\\\\n",
       "7 &  0.332663 &  0.479489 &  0.733397 \\\\\n",
       "8 &  0.005913 &  0.537688 &  0.013035 \\\\\n",
       "9 &  0.124748 &  0.465452 &  0.275022 \\\\\n",
       "\\bottomrule\n",
       "\\end{tabular}\n"
      ],
      "text/plain": [
       "     x [kg]   y [m/s]   x [lbs]\n",
       "0  0.622200  0.061327  1.371715\n",
       "1  0.080351  0.363268  0.177143\n",
       "2  0.704193  0.668377  1.552481\n",
       "3  0.048570  0.580554  0.107077\n",
       "4  0.011544  0.222064  0.025450\n",
       "5  0.511988  0.157150  1.128741\n",
       "6  0.559547  0.927022  1.233591\n",
       "7  0.332663  0.479489  0.733397\n",
       "8  0.005913  0.537688  0.013035\n",
       "9  0.124748  0.465452  0.275022"
      ]
     },
     "execution_count": 6,
     "metadata": {},
     "output_type": "execute_result"
    }
   ],
   "source": [
    "df = pd.DataFrame(np.random.rand(10, 2), columns=['x [kg]', 'y [m/s]'])\n",
    "\n",
    "df['x [lbs]'] = Q(df['x [kg]'], 'kg').to('lbs')\n",
    "\n",
    "df"
   ]
  }
 ],
 "metadata": {
  "hide_input": false,
  "kernelspec": {
   "display_name": "Python 3",
   "language": "python",
   "name": "python3"
  },
  "language_info": {
   "codemirror_mode": {
    "name": "ipython",
    "version": 3
   },
   "file_extension": ".py",
   "mimetype": "text/x-python",
   "name": "python",
   "nbconvert_exporter": "python",
   "pygments_lexer": "ipython3",
   "version": "3.9.4"
  },
  "toc": {
   "base_numbering": 1,
   "nav_menu": {},
   "number_sections": true,
   "sideBar": true,
   "skip_h1_title": false,
   "title_cell": "Table of Contents",
   "title_sidebar": "Contents",
   "toc_cell": false,
   "toc_position": {},
   "toc_section_display": true,
   "toc_window_display": false
  }
 },
 "nbformat": 4,
 "nbformat_minor": 5
}
