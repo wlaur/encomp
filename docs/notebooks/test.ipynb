{
 "cells": [
  {
   "cell_type": "code",
   "execution_count": 1,
   "id": "85550f14-d970-4f06-93b6-dd0e7268549c",
   "metadata": {
    "execution": {
     "iopub.execute_input": "2022-08-01T07:37:53.122469Z",
     "iopub.status.busy": "2022-08-01T07:37:53.122057Z",
     "iopub.status.idle": "2022-08-01T07:37:53.148637Z",
     "shell.execute_reply": "2022-08-01T07:37:53.148016Z",
     "shell.execute_reply.started": "2022-08-01T07:37:53.122402Z"
    },
    "tags": []
   },
   "outputs": [],
   "source": [
    "%load_ext autoreload\n",
    "%autoreload 2"
   ]
  },
  {
   "cell_type": "code",
   "execution_count": 2,
   "id": "7829b981",
   "metadata": {
    "ExecuteTime": {
     "end_time": "2021-08-01T08:00:28.106024Z",
     "start_time": "2021-08-01T08:00:28.077001Z"
    },
    "execution": {
     "iopub.execute_input": "2022-08-01T07:37:53.149536Z",
     "iopub.status.busy": "2022-08-01T07:37:53.149358Z",
     "iopub.status.idle": "2022-08-01T07:37:53.157128Z",
     "shell.execute_reply": "2022-08-01T07:37:53.156456Z",
     "shell.execute_reply.started": "2022-08-01T07:37:53.149524Z"
    },
    "tags": []
   },
   "outputs": [],
   "source": [
    "from pathlib import Path\n",
    "import sys\n",
    "sys.path.insert(0, '../..')"
   ]
  },
  {
   "cell_type": "markdown",
   "id": "a0468a07",
   "metadata": {
    "tags": []
   },
   "source": [
    "# Test notebook\n"
   ]
  },
  {
   "cell_type": "code",
   "execution_count": 3,
   "id": "4435bdfc-f315-4745-aacd-51ac8bf52ab8",
   "metadata": {
    "execution": {
     "iopub.execute_input": "2022-08-01T07:37:53.157951Z",
     "iopub.status.busy": "2022-08-01T07:37:53.157794Z",
     "iopub.status.idle": "2022-08-01T07:37:53.183259Z",
     "shell.execute_reply": "2022-08-01T07:37:53.182661Z",
     "shell.execute_reply.started": "2022-08-01T07:37:53.157939Z"
    },
    "tags": []
   },
   "outputs": [
    {
     "data": {
      "text/plain": [
       "('0.6.2',\n",
       " \"<module 'encomp' from '/mnt/c/Users/williaml/repos/encomp/docs/notebooks/../../encomp/__init__.py'>\")"
      ]
     },
     "execution_count": 3,
     "metadata": {},
     "output_type": "execute_result"
    }
   ],
   "source": [
    "import trace\n",
    "import encomp\n",
    "encomp.__version__, str(encomp)"
   ]
  },
  {
   "cell_type": "code",
   "execution_count": 4,
   "id": "9d832c3c-d2c3-4980-b0da-3437734eed17",
   "metadata": {
    "execution": {
     "iopub.execute_input": "2022-08-01T07:37:53.185006Z",
     "iopub.status.busy": "2022-08-01T07:37:53.184675Z",
     "iopub.status.idle": "2022-08-01T07:37:53.937909Z",
     "shell.execute_reply": "2022-08-01T07:37:53.937279Z",
     "shell.execute_reply.started": "2022-08-01T07:37:53.184983Z"
    },
    "tags": []
   },
   "outputs": [],
   "source": [
    "from encomp.units import Quantity as Q\n",
    "from encomp.utypes import *"
   ]
  },
  {
   "cell_type": "code",
   "execution_count": 7,
   "id": "e461df39-e42d-438b-a875-ccca39462635",
   "metadata": {
    "execution": {
     "iopub.execute_input": "2022-08-01T07:42:09.573362Z",
     "iopub.status.busy": "2022-08-01T07:42:09.572995Z",
     "iopub.status.idle": "2022-08-01T07:42:09.616118Z",
     "shell.execute_reply": "2022-08-01T07:42:09.615406Z",
     "shell.execute_reply.started": "2022-08-01T07:42:09.573337Z"
    },
    "tags": []
   },
   "outputs": [
    {
     "name": "stdout",
     "output_type": "stream",
     "text": [
      "<class 'encomp.units.Quantity[HeatingValue]'> <class 'encomp.units.Quantity[HeatingValue]'>\n"
     ]
    }
   ],
   "source": [
    "from encomp.tests.test_units import test_asdim\n",
    "\n",
    "test_asdim()"
   ]
  },
  {
   "cell_type": "code",
   "execution_count": null,
   "id": "4df4fb32-5640-4c67-8ab9-9bbab3f58baf",
   "metadata": {},
   "outputs": [],
   "source": []
  }
 ],
 "metadata": {
  "hide_input": false,
  "kernelspec": {
   "display_name": "Python 3 (ipykernel)",
   "language": "python",
   "name": "python3"
  },
  "language_info": {
   "codemirror_mode": {
    "name": "ipython",
    "version": 3
   },
   "file_extension": ".py",
   "mimetype": "text/x-python",
   "name": "python",
   "nbconvert_exporter": "python",
   "pygments_lexer": "ipython3",
   "version": "3.10.5"
  },
  "toc": {
   "base_numbering": 1,
   "nav_menu": {},
   "number_sections": true,
   "sideBar": true,
   "skip_h1_title": false,
   "title_cell": "Table of Contents",
   "title_sidebar": "Contents",
   "toc_cell": false,
   "toc_position": {},
   "toc_section_display": true,
   "toc_window_display": false
  }
 },
 "nbformat": 4,
 "nbformat_minor": 5
}
