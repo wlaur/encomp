{
 "cells": [
  {
   "cell_type": "code",
   "execution_count": 1,
   "id": "7829b981",
   "metadata": {
    "ExecuteTime": {
     "end_time": "2021-07-29T08:57:57.923379Z",
     "start_time": "2021-07-29T08:57:57.893347Z"
    }
   },
   "outputs": [],
   "source": [
    "import sys\n",
    "sys.path.insert(0, '../..')"
   ]
  },
  {
   "cell_type": "markdown",
   "id": "a0468a07",
   "metadata": {},
   "source": [
    "# Test notebook\n"
   ]
  },
  {
   "cell_type": "code",
   "execution_count": 2,
   "id": "459d01cb",
   "metadata": {
    "ExecuteTime": {
     "end_time": "2021-07-29T08:57:59.252421Z",
     "start_time": "2021-07-29T08:57:57.924344Z"
    }
   },
   "outputs": [],
   "source": [
    "from dataclasses import dataclass\n",
    "import numpy as np\n",
    "import pandas as pd \n",
    "import json\n",
    "\n",
    "from encomp.serialize import serialize, decode\n",
    "from encomp.units import Q"
   ]
  },
  {
   "cell_type": "code",
   "execution_count": 3,
   "id": "dc751a5a",
   "metadata": {
    "ExecuteTime": {
     "end_time": "2021-07-29T08:57:59.347616Z",
     "start_time": "2021-07-29T08:57:59.252421Z"
    }
   },
   "outputs": [],
   "source": [
    "@dataclass\n",
    "class CustomOtherClass:\n",
    "\n",
    "    s: pd.Series\n",
    "    df: pd.DataFrame\n",
    "\n",
    "    @classmethod\n",
    "    def from_dict(cls, d):\n",
    "        return cls(**d)\n",
    "\n",
    "    def to_json(self):\n",
    "\n",
    "        return json.dumps(serialize(self.__dict__))\n",
    "    \n",
    "    \n",
    "@dataclass\n",
    "class CustomClass:\n",
    "\n",
    "    arr: np.ndarray\n",
    "    name: str\n",
    "        \n",
    "    nested: CustomOtherClass\n",
    "\n",
    "    @classmethod\n",
    "    def from_dict(cls, d):\n",
    "        return cls(**d)\n",
    "\n",
    "    def to_json(self):\n",
    "        return self.__dict__\n",
    "\n",
    "    \n",
    "    \n",
    "s = pd.Series(np.random.rand(10), name='test')\n",
    "df = pd.DataFrame(np.random.rand(5, 5), columns=['A', 2, '3', '4', '5'])\n",
    "\n",
    "a = CustomClass(arr=np.random.rand(19, 2), name='asd', \n",
    "               nested=CustomOtherClass(s=s, df=df))\n",
    "\n",
    "json = serialize(a)\n",
    "\n",
    "a_decoded = decode(json, custom=[CustomClass, CustomOtherClass])\n",
    "\n",
    "assert (a_decoded.nested.df - df).max().max() < 1e-10"
   ]
  },
  {
   "cell_type": "code",
   "execution_count": 4,
   "id": "eee4939b",
   "metadata": {
    "ExecuteTime": {
     "end_time": "2021-07-29T08:57:59.426655Z",
     "start_time": "2021-07-29T08:57:59.349451Z"
    }
   },
   "outputs": [
    {
     "data": {
      "text/plain": [
       "CustomClass(arr=array([[0.74494385, 0.81206501],\n",
       "       [0.58147108, 0.25224401],\n",
       "       [0.75705681, 0.89547949],\n",
       "       [0.99289547, 0.69264069],\n",
       "       [0.18393375, 0.05839989],\n",
       "       [0.78016533, 0.91663766],\n",
       "       [0.79263146, 0.07427325],\n",
       "       [0.51354073, 0.7354609 ],\n",
       "       [0.86420676, 0.47704694],\n",
       "       [0.91245841, 0.72768525],\n",
       "       [0.91664045, 0.02899026],\n",
       "       [0.42045929, 0.78833867],\n",
       "       [0.20378121, 0.26410561],\n",
       "       [0.88895622, 0.30735306],\n",
       "       [0.17423982, 0.01606826],\n",
       "       [0.17212197, 0.02958449],\n",
       "       [0.77912023, 0.52014164],\n",
       "       [0.17566993, 0.82967675],\n",
       "       [0.30366799, 0.15220379]]), name='asd', nested=CustomOtherClass(s=0    0.112843\n",
       "1    0.732571\n",
       "2    0.378046\n",
       "3    0.135330\n",
       "4    0.458721\n",
       "5    0.422090\n",
       "6    0.769226\n",
       "7    0.116891\n",
       "8    0.569682\n",
       "9    0.679996\n",
       "Name: test, dtype: float64, df=          A         2         3         4         5\n",
       "0  0.318830  0.229878  0.623267  0.610501  0.071371\n",
       "1  0.118458  0.133658  0.517144  0.662888  0.756049\n",
       "2  0.731958  0.129405  0.165240  0.898238  0.865070\n",
       "3  0.695309  0.852225  0.275305  0.752067  0.855715\n",
       "4  0.398153  0.624567  0.339546  0.252126  0.722059))"
      ]
     },
     "execution_count": 4,
     "metadata": {},
     "output_type": "execute_result"
    }
   ],
   "source": [
    "a_decoded"
   ]
  }
 ],
 "metadata": {
  "hide_input": false,
  "kernelspec": {
   "display_name": "Python 3 (ipykernel)",
   "language": "python",
   "name": "python3"
  },
  "language_info": {
   "codemirror_mode": {
    "name": "ipython",
    "version": 3
   },
   "file_extension": ".py",
   "mimetype": "text/x-python",
   "name": "python",
   "nbconvert_exporter": "python",
   "pygments_lexer": "ipython3",
   "version": "3.9.6"
  },
  "toc": {
   "base_numbering": 1,
   "nav_menu": {},
   "number_sections": true,
   "sideBar": true,
   "skip_h1_title": false,
   "title_cell": "Table of Contents",
   "title_sidebar": "Contents",
   "toc_cell": false,
   "toc_position": {},
   "toc_section_display": true,
   "toc_window_display": false
  }
 },
 "nbformat": 4,
 "nbformat_minor": 5
}
