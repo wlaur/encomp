{
 "cells": [
  {
   "cell_type": "code",
   "execution_count": 1,
   "id": "7829b981",
   "metadata": {
    "ExecuteTime": {
     "end_time": "2021-07-26T11:46:15.262365Z",
     "start_time": "2021-07-26T11:46:15.233024Z"
    }
   },
   "outputs": [],
   "source": [
    "import sys\n",
    "sys.path.insert(0, '../..')"
   ]
  },
  {
   "cell_type": "markdown",
   "id": "a0468a07",
   "metadata": {},
   "source": [
    "# Test notebook\n"
   ]
  },
  {
   "cell_type": "code",
   "execution_count": 34,
   "id": "ac17e472",
   "metadata": {
    "ExecuteTime": {
     "end_time": "2021-07-26T11:57:24.914709Z",
     "start_time": "2021-07-26T11:57:24.817155Z"
    }
   },
   "outputs": [
    {
     "data": {
      "text/latex": [
       "$\\displaystyle 26860.5 \\text{kg}$"
      ],
      "text/plain": [
       "26860.5*\\text{kg}"
      ]
     },
     "metadata": {},
     "output_type": "display_data"
    },
    {
     "data": {
      "text/html": [
       "26860.499999999996 kg"
      ],
      "text/latex": [
       "$26860.499999999996\\ \\mathrm{kg}$"
      ],
      "text/plain": [
       "26860.499999999996 <Unit('kilogram')>"
      ]
     },
     "execution_count": 34,
     "metadata": {},
     "output_type": "execute_result"
    }
   ],
   "source": [
    "from encomp.units import Q, define_dimensionality\n",
    "from encomp.sympy import sp\n",
    "\n",
    "x, y, z = sp.symbols('x, y, z')\n",
    "\n",
    "expr = 25 * x * y / z\n",
    "\n",
    "result_expr = expr.subs({\n",
    "    x: Q(235, 'yard'),\n",
    "    y: Q(2, 'm²'),\n",
    "    z: Q(0.4, 'm³/kg')\n",
    "})\n",
    "\n",
    "display(result_expr)\n",
    "\n",
    "result_qty = Q.from_expr(result_expr)\n",
    "\n",
    "result_qty"
   ]
  }
 ],
 "metadata": {
  "hide_input": false,
  "kernelspec": {
   "display_name": "Python 3",
   "language": "python",
   "name": "python3"
  },
  "language_info": {
   "codemirror_mode": {
    "name": "ipython",
    "version": 3
   },
   "file_extension": ".py",
   "mimetype": "text/x-python",
   "name": "python",
   "nbconvert_exporter": "python",
   "pygments_lexer": "ipython3",
   "version": "3.9.4"
  },
  "toc": {
   "base_numbering": 1,
   "nav_menu": {},
   "number_sections": true,
   "sideBar": true,
   "skip_h1_title": false,
   "title_cell": "Table of Contents",
   "title_sidebar": "Contents",
   "toc_cell": false,
   "toc_position": {},
   "toc_section_display": true,
   "toc_window_display": false
  }
 },
 "nbformat": 4,
 "nbformat_minor": 5
}
