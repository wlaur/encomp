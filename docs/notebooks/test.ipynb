{
 "cells": [
  {
   "cell_type": "code",
   "execution_count": 1,
   "id": "85550f14-d970-4f06-93b6-dd0e7268549c",
   "metadata": {
    "tags": []
   },
   "outputs": [],
   "source": [
    "%load_ext pyinstrument\n",
    "%load_ext autoreload\n",
    "%autoreload 2"
   ]
  },
  {
   "cell_type": "code",
   "execution_count": 2,
   "id": "7829b981",
   "metadata": {
    "ExecuteTime": {
     "end_time": "2021-08-01T08:00:28.106024Z",
     "start_time": "2021-08-01T08:00:28.077001Z"
    },
    "tags": []
   },
   "outputs": [],
   "source": [
    "from pathlib import Path\n",
    "import sys\n",
    "sys.path.insert(0, '../..')"
   ]
  },
  {
   "cell_type": "markdown",
   "id": "a0468a07",
   "metadata": {
    "tags": []
   },
   "source": [
    "# Test notebook\n"
   ]
  },
  {
   "cell_type": "code",
   "execution_count": 3,
   "id": "4435bdfc-f315-4745-aacd-51ac8bf52ab8",
   "metadata": {
    "tags": []
   },
   "outputs": [
    {
     "data": {
      "text/plain": [
       "('0.7.0',\n",
       " \"<module 'encomp' from 'C:\\\\\\\\Users\\\\\\\\williaml\\\\\\\\repos\\\\\\\\encomp\\\\\\\\docs\\\\\\\\notebooks\\\\\\\\../..\\\\\\\\encomp\\\\\\\\__init__.py'>\")"
      ]
     },
     "execution_count": 3,
     "metadata": {},
     "output_type": "execute_result"
    }
   ],
   "source": [
    "import encomp\n",
    "encomp.__version__, str(encomp)"
   ]
  },
  {
   "cell_type": "code",
   "execution_count": 4,
   "id": "3ceb6d5e-6eb1-48ff-acce-2df43888556c",
   "metadata": {},
   "outputs": [],
   "source": [
    "from encomp.units import Quantity as Q\n",
    "import numpy as np\n",
    "import pandas as pd"
   ]
  },
  {
   "cell_type": "code",
   "execution_count": 5,
   "id": "781a2d39-4814-4d21-accc-6115abb63ba7",
   "metadata": {},
   "outputs": [
    {
     "name": "stdout",
     "output_type": "stream",
     "text": [
      "rmul meter 1\n",
      "rmul meter 2\n",
      "rmul meter 3\n"
     ]
    },
    {
     "data": {
      "text/plain": [
       "array([<Quantity(1, 'meter')>, <Quantity(2, 'meter')>,\n",
       "       <Quantity(3, 'meter')>], dtype=object)"
      ]
     },
     "execution_count": 5,
     "metadata": {},
     "output_type": "execute_result"
    }
   ],
   "source": [
    "from encomp.units import ureg\n",
    "np.array([1, 2, 3]) * ureg.m"
   ]
  },
  {
   "cell_type": "code",
   "execution_count": 6,
   "id": "5b49a106-84d0-439f-b4e3-0f79c7eee19f",
   "metadata": {},
   "outputs": [
    {
     "name": "stdout",
     "output_type": "stream",
     "text": [
      "mul meter [1 2]\n",
      "rmul meter 1\n",
      "rmul meter 2\n"
     ]
    },
    {
     "ename": "AssertionError",
     "evalue": "",
     "output_type": "error",
     "traceback": [
      "\u001b[1;31m---------------------------------------------------------------------------\u001b[0m",
      "\u001b[1;31mAssertionError\u001b[0m                            Traceback (most recent call last)",
      "Cell \u001b[1;32mIn [6], line 2\u001b[0m\n\u001b[0;32m      1\u001b[0m \u001b[38;5;28;01mfrom\u001b[39;00m \u001b[38;5;21;01mencomp\u001b[39;00m\u001b[38;5;21;01m.\u001b[39;00m\u001b[38;5;21;01mtests\u001b[39;00m\u001b[38;5;21;01m.\u001b[39;00m\u001b[38;5;21;01mtest_units\u001b[39;00m \u001b[38;5;28;01mimport\u001b[39;00m test_mul_rmul_initialization\n\u001b[1;32m----> 2\u001b[0m \u001b[43mtest_mul_rmul_initialization\u001b[49m\u001b[43m(\u001b[49m\u001b[43m)\u001b[49m\n",
      "File \u001b[1;32m~\\repos\\encomp\\docs\\notebooks\\../..\\encomp\\tests\\test_units.py:1144\u001b[0m, in \u001b[0;36mtest_mul_rmul_initialization\u001b[1;34m()\u001b[0m\n\u001b[0;32m   1141\u001b[0m \u001b[38;5;28;01mdef\u001b[39;00m \u001b[38;5;21mtest_mul_rmul_initialization\u001b[39m():\n\u001b[0;32m   1143\u001b[0m     \u001b[38;5;28;01massert\u001b[39;00m \u001b[38;5;28misinstance\u001b[39m(ureg\u001b[38;5;241m.\u001b[39mm \u001b[38;5;241m*\u001b[39m np\u001b[38;5;241m.\u001b[39marray([\u001b[38;5;241m1\u001b[39m, \u001b[38;5;241m2\u001b[39m]), Q[Length])\n\u001b[1;32m-> 1144\u001b[0m     \u001b[38;5;28;01massert\u001b[39;00m \u001b[38;5;28misinstance\u001b[39m(np\u001b[38;5;241m.\u001b[39marray([\u001b[38;5;241m1\u001b[39m, \u001b[38;5;241m2\u001b[39m]) \u001b[38;5;241m*\u001b[39m ureg\u001b[38;5;241m.\u001b[39mm, Q[Length])\n\u001b[0;32m   1145\u001b[0m     \u001b[38;5;28;01massert\u001b[39;00m \u001b[38;5;28misinstance\u001b[39m([\u001b[38;5;241m1\u001b[39m, \u001b[38;5;241m2\u001b[39m] \u001b[38;5;241m*\u001b[39m Q(\u001b[38;5;241m1\u001b[39m, \u001b[38;5;124m'\u001b[39m\u001b[38;5;124mm\u001b[39m\u001b[38;5;124m'\u001b[39m), Q[Length])\n\u001b[0;32m   1146\u001b[0m     \u001b[38;5;28;01massert\u001b[39;00m \u001b[38;5;28misinstance\u001b[39m(np\u001b[38;5;241m.\u001b[39marray([\u001b[38;5;241m1\u001b[39m, \u001b[38;5;241m2\u001b[39m]) \u001b[38;5;241m*\u001b[39m Q(\u001b[38;5;241m1\u001b[39m, \u001b[38;5;124m'\u001b[39m\u001b[38;5;124mm\u001b[39m\u001b[38;5;124m'\u001b[39m), Q[Length])\n",
      "\u001b[1;31mAssertionError\u001b[0m: "
     ]
    }
   ],
   "source": [
    "from encomp.tests.test_units import test_mul_rmul_initialization\n",
    "test_mul_rmul_initialization()"
   ]
  },
  {
   "cell_type": "code",
   "execution_count": null,
   "id": "e3db6a59-4eb3-4b70-90bc-3d4fd64f08fb",
   "metadata": {},
   "outputs": [],
   "source": []
  }
 ],
 "metadata": {
  "hide_input": false,
  "kernelspec": {
   "display_name": "Python 3 (ipykernel)",
   "language": "python",
   "name": "python3"
  },
  "language_info": {
   "codemirror_mode": {
    "name": "ipython",
    "version": 3
   },
   "file_extension": ".py",
   "mimetype": "text/x-python",
   "name": "python",
   "nbconvert_exporter": "python",
   "pygments_lexer": "ipython3",
   "version": "3.10.6"
  },
  "toc": {
   "base_numbering": 1,
   "nav_menu": {},
   "number_sections": true,
   "sideBar": true,
   "skip_h1_title": false,
   "title_cell": "Table of Contents",
   "title_sidebar": "Contents",
   "toc_cell": false,
   "toc_position": {},
   "toc_section_display": true,
   "toc_window_display": false
  }
 },
 "nbformat": 4,
 "nbformat_minor": 5
}
