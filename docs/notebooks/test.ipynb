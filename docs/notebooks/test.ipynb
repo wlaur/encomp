{
 "cells": [
  {
   "cell_type": "code",
   "execution_count": 1,
   "id": "7829b981",
   "metadata": {
    "ExecuteTime": {
     "end_time": "2021-07-25T09:54:42.971281Z",
     "start_time": "2021-07-25T09:54:42.941278Z"
    }
   },
   "outputs": [],
   "source": [
    "import sys\n",
    "sys.path.insert(0, '../..')"
   ]
  },
  {
   "cell_type": "markdown",
   "id": "a0468a07",
   "metadata": {},
   "source": [
    "# Test notebook\n"
   ]
  },
  {
   "cell_type": "code",
   "execution_count": 3,
   "id": "10f83e1c",
   "metadata": {
    "ExecuteTime": {
     "end_time": "2021-07-25T09:54:45.319874Z",
     "start_time": "2021-07-25T09:54:43.100236Z"
    }
   },
   "outputs": [
    {
     "data": {
      "application/javascript": [
       "\n",
       "require(['notebook/js/codecell'], function(codecell) {\n",
       "codecell.CodeCell.options_default.highlight_modes['text/x-markdown'] = {'reg':[/^%%markdown/]} ;\n",
       "Jupyter.notebook.events.one('kernel_ready.Kernel', function(){\n",
       "Jupyter.notebook.get_cells().map(function(cell){\n",
       "    if (cell.cell_type == 'code'){ cell.auto_highlight(); } }) ;\n",
       "});\n",
       "});"
      ],
      "text/plain": [
       "<IPython.core.display.Javascript object>"
      ]
     },
     "metadata": {},
     "output_type": "display_data"
    }
   ],
   "source": [
    "from encomp.notebook import *"
   ]
  },
  {
   "cell_type": "code",
   "execution_count": 4,
   "id": "f1951941",
   "metadata": {
    "ExecuteTime": {
     "end_time": "2021-07-25T09:54:45.429876Z",
     "start_time": "2021-07-25T09:54:45.320876Z"
    }
   },
   "outputs": [
    {
     "data": {
      "text/html": [
       "<div>\n",
       "<style scoped>\n",
       "    .dataframe tbody tr th:only-of-type {\n",
       "        vertical-align: middle;\n",
       "    }\n",
       "\n",
       "    .dataframe tbody tr th {\n",
       "        vertical-align: top;\n",
       "    }\n",
       "\n",
       "    .dataframe thead th {\n",
       "        text-align: right;\n",
       "    }\n",
       "</style>\n",
       "<table border=\"1\" class=\"dataframe\">\n",
       "  <thead>\n",
       "    <tr style=\"text-align: right;\">\n",
       "      <th></th>\n",
       "      <th>x [kg]</th>\n",
       "      <th>y [m/s]</th>\n",
       "      <th>x [lbs]</th>\n",
       "    </tr>\n",
       "  </thead>\n",
       "  <tbody>\n",
       "    <tr>\n",
       "      <th>0</th>\n",
       "      <td>0.194470</td>\n",
       "      <td>0.715934</td>\n",
       "      <td>0.428733</td>\n",
       "    </tr>\n",
       "    <tr>\n",
       "      <th>1</th>\n",
       "      <td>0.672304</td>\n",
       "      <td>0.969268</td>\n",
       "      <td>1.482177</td>\n",
       "    </tr>\n",
       "    <tr>\n",
       "      <th>2</th>\n",
       "      <td>0.425270</td>\n",
       "      <td>0.313726</td>\n",
       "      <td>0.937559</td>\n",
       "    </tr>\n",
       "    <tr>\n",
       "      <th>3</th>\n",
       "      <td>0.016201</td>\n",
       "      <td>0.573257</td>\n",
       "      <td>0.035716</td>\n",
       "    </tr>\n",
       "    <tr>\n",
       "      <th>4</th>\n",
       "      <td>0.014888</td>\n",
       "      <td>0.860357</td>\n",
       "      <td>0.032822</td>\n",
       "    </tr>\n",
       "    <tr>\n",
       "      <th>5</th>\n",
       "      <td>0.934219</td>\n",
       "      <td>0.533226</td>\n",
       "      <td>2.059601</td>\n",
       "    </tr>\n",
       "    <tr>\n",
       "      <th>6</th>\n",
       "      <td>0.081154</td>\n",
       "      <td>0.252596</td>\n",
       "      <td>0.178914</td>\n",
       "    </tr>\n",
       "    <tr>\n",
       "      <th>7</th>\n",
       "      <td>0.191936</td>\n",
       "      <td>0.259623</td>\n",
       "      <td>0.423146</td>\n",
       "    </tr>\n",
       "    <tr>\n",
       "      <th>8</th>\n",
       "      <td>0.267699</td>\n",
       "      <td>0.635360</td>\n",
       "      <td>0.590175</td>\n",
       "    </tr>\n",
       "    <tr>\n",
       "      <th>9</th>\n",
       "      <td>0.552841</td>\n",
       "      <td>0.899404</td>\n",
       "      <td>1.218805</td>\n",
       "    </tr>\n",
       "  </tbody>\n",
       "</table>\n",
       "</div>"
      ],
      "text/latex": [
       "\\begin{tabular}{lrrr}\n",
       "\\toprule\n",
       "{} &    x [kg] &   y [m/s] &   x [lbs] \\\\\n",
       "\\midrule\n",
       "0 &  0.194470 &  0.715934 &  0.428733 \\\\\n",
       "1 &  0.672304 &  0.969268 &  1.482177 \\\\\n",
       "2 &  0.425270 &  0.313726 &  0.937559 \\\\\n",
       "3 &  0.016201 &  0.573257 &  0.035716 \\\\\n",
       "4 &  0.014888 &  0.860357 &  0.032822 \\\\\n",
       "5 &  0.934219 &  0.533226 &  2.059601 \\\\\n",
       "6 &  0.081154 &  0.252596 &  0.178914 \\\\\n",
       "7 &  0.191936 &  0.259623 &  0.423146 \\\\\n",
       "8 &  0.267699 &  0.635360 &  0.590175 \\\\\n",
       "9 &  0.552841 &  0.899404 &  1.218805 \\\\\n",
       "\\bottomrule\n",
       "\\end{tabular}\n"
      ],
      "text/plain": [
       "     x [kg]   y [m/s]   x [lbs]\n",
       "0  0.194470  0.715934  0.428733\n",
       "1  0.672304  0.969268  1.482177\n",
       "2  0.425270  0.313726  0.937559\n",
       "3  0.016201  0.573257  0.035716\n",
       "4  0.014888  0.860357  0.032822\n",
       "5  0.934219  0.533226  2.059601\n",
       "6  0.081154  0.252596  0.178914\n",
       "7  0.191936  0.259623  0.423146\n",
       "8  0.267699  0.635360  0.590175\n",
       "9  0.552841  0.899404  1.218805"
      ]
     },
     "execution_count": 4,
     "metadata": {},
     "output_type": "execute_result"
    }
   ],
   "source": [
    "df = pd.DataFrame(np.random.rand(10, 2), columns=['x [kg]', 'y [m/s]'])\n",
    "\n",
    "df['x [lbs]'] = Q(df['x [kg]'], 'kg').to('lbs')\n",
    "\n",
    "df"
   ]
  }
 ],
 "metadata": {
  "hide_input": false,
  "kernelspec": {
   "display_name": "Python 3",
   "language": "python",
   "name": "python3"
  },
  "language_info": {
   "codemirror_mode": {
    "name": "ipython",
    "version": 3
   },
   "file_extension": ".py",
   "mimetype": "text/x-python",
   "name": "python",
   "nbconvert_exporter": "python",
   "pygments_lexer": "ipython3",
   "version": "3.9.4"
  },
  "toc": {
   "base_numbering": 1,
   "nav_menu": {},
   "number_sections": true,
   "sideBar": true,
   "skip_h1_title": false,
   "title_cell": "Table of Contents",
   "title_sidebar": "Contents",
   "toc_cell": false,
   "toc_position": {},
   "toc_section_display": true,
   "toc_window_display": false
  }
 },
 "nbformat": 4,
 "nbformat_minor": 5
}
