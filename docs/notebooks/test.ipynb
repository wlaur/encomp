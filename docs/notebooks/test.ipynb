{
 "cells": [
  {
   "cell_type": "code",
   "execution_count": 1,
   "id": "85550f14-d970-4f06-93b6-dd0e7268549c",
   "metadata": {
    "execution": {
     "iopub.execute_input": "2021-12-28T11:32:58.185044Z",
     "iopub.status.busy": "2021-12-28T11:32:58.184685Z",
     "iopub.status.idle": "2021-12-28T11:32:58.247643Z",
     "shell.execute_reply": "2021-12-28T11:32:58.246234Z",
     "shell.execute_reply.started": "2021-12-28T11:32:58.184942Z"
    },
    "tags": []
   },
   "outputs": [],
   "source": [
    "%load_ext autoreload\n",
    "%autoreload 2"
   ]
  },
  {
   "cell_type": "code",
   "execution_count": 2,
   "id": "7829b981",
   "metadata": {
    "ExecuteTime": {
     "end_time": "2021-08-01T08:00:28.106024Z",
     "start_time": "2021-08-01T08:00:28.077001Z"
    },
    "execution": {
     "iopub.execute_input": "2021-12-28T11:32:58.249402Z",
     "iopub.status.busy": "2021-12-28T11:32:58.249125Z",
     "iopub.status.idle": "2021-12-28T11:32:58.282875Z",
     "shell.execute_reply": "2021-12-28T11:32:58.281584Z",
     "shell.execute_reply.started": "2021-12-28T11:32:58.249367Z"
    },
    "tags": []
   },
   "outputs": [],
   "source": [
    "import sys\n",
    "sys.path.insert(0, '../..')"
   ]
  },
  {
   "cell_type": "markdown",
   "id": "a0468a07",
   "metadata": {
    "tags": []
   },
   "source": [
    "# Test notebook\n"
   ]
  },
  {
   "cell_type": "code",
   "execution_count": 3,
   "id": "4435bdfc-f315-4745-aacd-51ac8bf52ab8",
   "metadata": {
    "execution": {
     "iopub.execute_input": "2021-12-28T11:32:58.287422Z",
     "iopub.status.busy": "2021-12-28T11:32:58.286950Z",
     "iopub.status.idle": "2021-12-28T11:32:58.395915Z",
     "shell.execute_reply": "2021-12-28T11:32:58.395304Z",
     "shell.execute_reply.started": "2021-12-28T11:32:58.287371Z"
    },
    "tags": []
   },
   "outputs": [
    {
     "data": {
      "text/plain": [
       "('0.2.0',\n",
       " \"<module 'encomp' from '/mnt/c/Users/williaml/repos/encomp/docs/notebooks/../../encomp/__init__.py'>\")"
      ]
     },
     "execution_count": 3,
     "metadata": {},
     "output_type": "execute_result"
    }
   ],
   "source": [
    "import encomp\n",
    "encomp.__version__, str(encomp)"
   ]
  },
  {
   "cell_type": "code",
   "execution_count": 4,
   "id": "459d01cb",
   "metadata": {
    "ExecuteTime": {
     "end_time": "2021-08-01T08:00:29.602741Z",
     "start_time": "2021-08-01T08:00:28.106998Z"
    },
    "execution": {
     "iopub.execute_input": "2021-12-28T11:32:58.396791Z",
     "iopub.status.busy": "2021-12-28T11:32:58.396533Z",
     "iopub.status.idle": "2021-12-28T11:33:00.319654Z",
     "shell.execute_reply": "2021-12-28T11:33:00.318235Z",
     "shell.execute_reply.started": "2021-12-28T11:32:58.396770Z"
    },
    "tags": []
   },
   "outputs": [
    {
     "name": "stdout",
     "output_type": "stream",
     "text": [
      "1 kg <class 'encomp.units.Quantity[Dimensionless]'>\n"
     ]
    },
    {
     "data": {
      "text/html": [
       "68947.57293168364 kilogram/(meter second<sup>2</sup>)"
      ],
      "text/latex": [
       "$68947.57293168364\\ \\frac{\\mathrm{kilogram}}{\\left(\\mathrm{meter} \\cdot \\mathrm{second}^{2}\\right)}$"
      ],
      "text/plain": [
       "68947.57293168364 <Unit('kilogram / meter / second ** 2')>"
      ]
     },
     "execution_count": 4,
     "metadata": {},
     "output_type": "execute_result"
    }
   ],
   "source": [
    "from encomp.units import Q\n",
    "\n",
    "print(Q['Mass'](1, 'kg'), type(Q(1)))\n",
    "\n",
    "Q(10, 'psi').to_base_units()"
   ]
  },
  {
   "cell_type": "code",
   "execution_count": 5,
   "id": "e52106df-b5e4-474d-ae18-4a766d212727",
   "metadata": {
    "execution": {
     "iopub.execute_input": "2021-12-28T11:33:00.322035Z",
     "iopub.status.busy": "2021-12-28T11:33:00.321511Z",
     "iopub.status.idle": "2021-12-28T11:33:00.382038Z",
     "shell.execute_reply": "2021-12-28T11:33:00.380547Z",
     "shell.execute_reply.started": "2021-12-28T11:33:00.321980Z"
    },
    "tags": []
   },
   "outputs": [
    {
     "data": {
      "text/plain": [
       "(100000.0 <Unit('kilogram / meter / second ** 2')>,\n",
       " encomp.units.Quantity[Pressure],\n",
       " encomp.units.Quantity[Pressure])"
      ]
     },
     "execution_count": 5,
     "metadata": {},
     "output_type": "execute_result"
    }
   ],
   "source": [
    "q = Q(1, 'bar')\n",
    "\n",
    "q.ito_base_units()\n",
    "\n",
    "q2 = q.to_base_units()\n",
    "\n",
    "q, type(q), type(q2)"
   ]
  },
  {
   "cell_type": "code",
   "execution_count": 29,
   "id": "0185786d-1ccb-47bf-b302-e6a1572c04e1",
   "metadata": {
    "execution": {
     "iopub.execute_input": "2021-12-28T12:29:47.164182Z",
     "iopub.status.busy": "2021-12-28T12:29:47.164005Z",
     "iopub.status.idle": "2021-12-28T12:29:47.212021Z",
     "shell.execute_reply": "2021-12-28T12:29:47.210879Z",
     "shell.execute_reply.started": "2021-12-28T12:29:47.164165Z"
    },
    "tags": []
   },
   "outputs": [
    {
     "data": {
      "text/plain": [
       "True"
      ]
     },
     "execution_count": 29,
     "metadata": {},
     "output_type": "execute_result"
    }
   ],
   "source": [
    "from encomp.units import Q, Quantity\n",
    "from encomp.misc import isinstance_types\n",
    "\n",
    "\n",
    "isinstance_types((2, 4), tuple[int, ...])"
   ]
  },
  {
   "cell_type": "code",
   "execution_count": 41,
   "id": "7b9f7546-0967-413b-84f3-25fdef840718",
   "metadata": {
    "execution": {
     "iopub.execute_input": "2021-12-28T12:51:40.731562Z",
     "iopub.status.busy": "2021-12-28T12:51:40.731163Z",
     "iopub.status.idle": "2021-12-28T12:51:40.802295Z",
     "shell.execute_reply": "2021-12-28T12:51:40.801774Z",
     "shell.execute_reply.started": "2021-12-28T12:51:40.731495Z"
    }
   },
   "outputs": [
    {
     "data": {
      "text/plain": [
       "True"
      ]
     },
     "execution_count": 41,
     "metadata": {},
     "output_type": "execute_result"
    }
   ],
   "source": [
    "from typing import Iterable, Sequence\n",
    "\n",
    "\n",
    "from encomp.misc import isinstance_types \n",
    "\n",
    "isinstance_types([1, 2, 3], Sequence)"
   ]
  }
 ],
 "metadata": {
  "hide_input": false,
  "kernelspec": {
   "display_name": "Python 3 (ipykernel)",
   "language": "python",
   "name": "python3"
  },
  "language_info": {
   "codemirror_mode": {
    "name": "ipython",
    "version": 3
   },
   "file_extension": ".py",
   "mimetype": "text/x-python",
   "name": "python",
   "nbconvert_exporter": "python",
   "pygments_lexer": "ipython3",
   "version": "3.9.9"
  },
  "toc": {
   "base_numbering": 1,
   "nav_menu": {},
   "number_sections": true,
   "sideBar": true,
   "skip_h1_title": false,
   "title_cell": "Table of Contents",
   "title_sidebar": "Contents",
   "toc_cell": false,
   "toc_position": {},
   "toc_section_display": true,
   "toc_window_display": false
  }
 },
 "nbformat": 4,
 "nbformat_minor": 5
}
