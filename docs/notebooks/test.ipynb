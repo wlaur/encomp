{
 "cells": [
  {
   "cell_type": "code",
   "execution_count": 1,
   "id": "85550f14-d970-4f06-93b6-dd0e7268549c",
   "metadata": {
    "execution": {
     "iopub.execute_input": "2022-08-01T15:54:27.748141Z",
     "iopub.status.busy": "2022-08-01T15:54:27.747785Z",
     "iopub.status.idle": "2022-08-01T15:54:27.775900Z",
     "shell.execute_reply": "2022-08-01T15:54:27.774589Z",
     "shell.execute_reply.started": "2022-08-01T15:54:27.748048Z"
    },
    "tags": []
   },
   "outputs": [],
   "source": [
    "%load_ext autoreload\n",
    "%autoreload 2"
   ]
  },
  {
   "cell_type": "code",
   "execution_count": 2,
   "id": "7829b981",
   "metadata": {
    "ExecuteTime": {
     "end_time": "2021-08-01T08:00:28.106024Z",
     "start_time": "2021-08-01T08:00:28.077001Z"
    },
    "execution": {
     "iopub.execute_input": "2022-08-01T15:54:27.777661Z",
     "iopub.status.busy": "2022-08-01T15:54:27.777405Z",
     "iopub.status.idle": "2022-08-01T15:54:27.787531Z",
     "shell.execute_reply": "2022-08-01T15:54:27.785285Z",
     "shell.execute_reply.started": "2022-08-01T15:54:27.777639Z"
    },
    "tags": []
   },
   "outputs": [],
   "source": [
    "from pathlib import Path\n",
    "import sys\n",
    "sys.path.insert(0, '../..')"
   ]
  },
  {
   "cell_type": "markdown",
   "id": "a0468a07",
   "metadata": {
    "tags": []
   },
   "source": [
    "# Test notebook\n"
   ]
  },
  {
   "cell_type": "code",
   "execution_count": 3,
   "id": "4435bdfc-f315-4745-aacd-51ac8bf52ab8",
   "metadata": {
    "execution": {
     "iopub.execute_input": "2022-08-01T15:54:27.788728Z",
     "iopub.status.busy": "2022-08-01T15:54:27.788473Z",
     "iopub.status.idle": "2022-08-01T15:54:27.814056Z",
     "shell.execute_reply": "2022-08-01T15:54:27.813284Z",
     "shell.execute_reply.started": "2022-08-01T15:54:27.788704Z"
    },
    "tags": []
   },
   "outputs": [
    {
     "data": {
      "text/plain": [
       "('0.6.5',\n",
       " \"<module 'encomp' from '/mnt/c/Users/williaml/repos/encomp/docs/notebooks/../../encomp/__init__.py'>\")"
      ]
     },
     "execution_count": 3,
     "metadata": {},
     "output_type": "execute_result"
    }
   ],
   "source": [
    "import trace\n",
    "import encomp\n",
    "encomp.__version__, str(encomp)"
   ]
  },
  {
   "cell_type": "code",
   "execution_count": 4,
   "id": "9d832c3c-d2c3-4980-b0da-3437734eed17",
   "metadata": {
    "execution": {
     "iopub.execute_input": "2022-08-01T15:54:27.816601Z",
     "iopub.status.busy": "2022-08-01T15:54:27.815819Z",
     "iopub.status.idle": "2022-08-01T15:54:28.570570Z",
     "shell.execute_reply": "2022-08-01T15:54:28.569930Z",
     "shell.execute_reply.started": "2022-08-01T15:54:27.816582Z"
    },
    "tags": []
   },
   "outputs": [],
   "source": [
    "from encomp.units import Quantity as Q\n",
    "from encomp.utypes import *"
   ]
  },
  {
   "cell_type": "code",
   "execution_count": null,
   "id": "404d2f43-30bb-4b39-8c7c-ca95f8be105a",
   "metadata": {
    "execution": {
     "iopub.status.busy": "2022-08-01T15:54:29.080468Z",
     "iopub.status.idle": "2022-08-01T15:54:29.080882Z",
     "shell.execute_reply": "2022-08-01T15:54:29.080790Z",
     "shell.execute_reply.started": "2022-08-01T15:54:29.080779Z"
    },
    "tags": []
   },
   "outputs": [],
   "source": [
    "type(1 / Q(1, 'delta_C'))"
   ]
  },
  {
   "cell_type": "code",
   "execution_count": null,
   "id": "190e2f1b-35a0-4a5f-96b1-775f20bce030",
   "metadata": {},
   "outputs": [],
   "source": []
  }
 ],
 "metadata": {
  "hide_input": false,
  "kernelspec": {
   "display_name": "Python 3 (ipykernel)",
   "language": "python",
   "name": "python3"
  },
  "language_info": {
   "codemirror_mode": {
    "name": "ipython",
    "version": 3
   },
   "file_extension": ".py",
   "mimetype": "text/x-python",
   "name": "python",
   "nbconvert_exporter": "python",
   "pygments_lexer": "ipython3",
   "version": "3.10.5"
  },
  "toc": {
   "base_numbering": 1,
   "nav_menu": {},
   "number_sections": true,
   "sideBar": true,
   "skip_h1_title": false,
   "title_cell": "Table of Contents",
   "title_sidebar": "Contents",
   "toc_cell": false,
   "toc_position": {},
   "toc_section_display": true,
   "toc_window_display": false
  }
 },
 "nbformat": 4,
 "nbformat_minor": 5
}
