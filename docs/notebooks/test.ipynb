{
 "cells": [
  {
   "cell_type": "code",
   "execution_count": 1,
   "id": "85550f14-d970-4f06-93b6-dd0e7268549c",
   "metadata": {
    "tags": []
   },
   "outputs": [],
   "source": [
    "%load_ext autoreload\n",
    "%autoreload 2"
   ]
  },
  {
   "cell_type": "code",
   "execution_count": 2,
   "id": "7829b981",
   "metadata": {
    "ExecuteTime": {
     "end_time": "2021-08-01T08:00:28.106024Z",
     "start_time": "2021-08-01T08:00:28.077001Z"
    },
    "tags": []
   },
   "outputs": [],
   "source": [
    "from pathlib import Path\n",
    "import sys\n",
    "sys.path.insert(0, '../..')"
   ]
  },
  {
   "cell_type": "markdown",
   "id": "a0468a07",
   "metadata": {
    "tags": []
   },
   "source": [
    "# Test notebook\n"
   ]
  },
  {
   "cell_type": "code",
   "execution_count": 3,
   "id": "4435bdfc-f315-4745-aacd-51ac8bf52ab8",
   "metadata": {
    "tags": []
   },
   "outputs": [
    {
     "data": {
      "text/plain": [
       "('0.7.0',\n",
       " \"<module 'encomp' from 'C:\\\\\\\\Users\\\\\\\\williaml\\\\\\\\repos\\\\\\\\encomp\\\\\\\\docs\\\\\\\\notebooks\\\\\\\\../..\\\\\\\\encomp\\\\\\\\__init__.py'>\")"
      ]
     },
     "execution_count": 3,
     "metadata": {},
     "output_type": "execute_result"
    }
   ],
   "source": [
    "import encomp\n",
    "encomp.__version__, str(encomp)"
   ]
  },
  {
   "cell_type": "code",
   "execution_count": 4,
   "id": "fd77b2dc-6d4d-46ab-9694-d350a45f031f",
   "metadata": {},
   "outputs": [],
   "source": [
    "from encomp.tests.test_context import test_context\n",
    "\n",
    "test_context()"
   ]
  },
  {
   "cell_type": "code",
   "execution_count": 5,
   "id": "3ceb6d5e-6eb1-48ff-acce-2df43888556c",
   "metadata": {},
   "outputs": [
    {
     "data": {
      "text/html": [
       "<table><tbody><tr><th>Magnitude</th><td style='text-align:left;'><pre>[0.08 0.16 0.24]</pre></td></tr><tr><th>Units</th><td style='text-align:left;'>kg/bar</td></tr></tbody></table>"
      ],
      "text/latex": [
       "$\\begin{pmatrix}0.08 & 0.16 & 0.24\\end{pmatrix}\\ \\frac{\\mathrm{kg}}{\\mathrm{bar}}$"
      ],
      "text/plain": [
       "<Quantity([0.08 0.16 0.24], 'kilogram / bar')>"
      ]
     },
     "execution_count": 5,
     "metadata": {},
     "output_type": "execute_result"
    }
   ],
   "source": [
    "from encomp.units import Quantity as Q\n",
    "\n",
    "Q([1, 2, 3], 'kg') * 2 / Q(25, 'bar')"
   ]
  },
  {
   "cell_type": "code",
   "execution_count": 9,
   "id": "3425510e-4587-4507-8ec9-9b1f52700632",
   "metadata": {},
   "outputs": [
    {
     "data": {
      "text/html": [
       "84.0 d"
      ],
      "text/latex": [
       "$84.0\\ \\mathrm{d}$"
      ],
      "text/plain": [
       "<Quantity(84.0, 'day')>"
      ]
     },
     "execution_count": 9,
     "metadata": {},
     "output_type": "execute_result"
    }
   ],
   "source": [
    "Q(12, 'w').to('day')"
   ]
  },
  {
   "cell_type": "code",
   "execution_count": null,
   "id": "5b49a106-84d0-439f-b4e3-0f79c7eee19f",
   "metadata": {},
   "outputs": [],
   "source": []
  }
 ],
 "metadata": {
  "hide_input": false,
  "kernelspec": {
   "display_name": "Python 3 (ipykernel)",
   "language": "python",
   "name": "python3"
  },
  "language_info": {
   "codemirror_mode": {
    "name": "ipython",
    "version": 3
   },
   "file_extension": ".py",
   "mimetype": "text/x-python",
   "name": "python",
   "nbconvert_exporter": "python",
   "pygments_lexer": "ipython3",
   "version": "3.10.6"
  },
  "toc": {
   "base_numbering": 1,
   "nav_menu": {},
   "number_sections": true,
   "sideBar": true,
   "skip_h1_title": false,
   "title_cell": "Table of Contents",
   "title_sidebar": "Contents",
   "toc_cell": false,
   "toc_position": {},
   "toc_section_display": true,
   "toc_window_display": false
  }
 },
 "nbformat": 4,
 "nbformat_minor": 5
}
