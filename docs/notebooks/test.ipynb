{
 "cells": [
  {
   "cell_type": "code",
   "execution_count": 1,
   "id": "7829b981",
   "metadata": {
    "ExecuteTime": {
     "end_time": "2021-07-26T08:22:15.550566Z",
     "start_time": "2021-07-26T08:22:15.520567Z"
    }
   },
   "outputs": [],
   "source": [
    "import sys\n",
    "sys.path.insert(0, '../..')"
   ]
  },
  {
   "cell_type": "markdown",
   "id": "a0468a07",
   "metadata": {},
   "source": [
    "# Test notebook\n"
   ]
  },
  {
   "cell_type": "code",
   "execution_count": 31,
   "id": "10f83e1c",
   "metadata": {
    "ExecuteTime": {
     "end_time": "2021-07-26T08:34:37.283954Z",
     "start_time": "2021-07-26T08:34:37.204481Z"
    }
   },
   "outputs": [
    {
     "data": {
      "text/html": [
       "100000.0 Pa"
      ],
      "text/latex": [
       "$100000.0\\ \\mathrm{Pa}$"
      ],
      "text/plain": [
       "100000.0 <Unit('pascal')>"
      ]
     },
     "execution_count": 31,
     "metadata": {},
     "output_type": "execute_result"
    }
   ],
   "source": [
    "from encomp.notebook import *\n",
    "\n",
    "Q(1, 'bar').to('Pa')"
   ]
  }
 ],
 "metadata": {
  "hide_input": false,
  "kernelspec": {
   "display_name": "Python 3",
   "language": "python",
   "name": "python3"
  },
  "language_info": {
   "codemirror_mode": {
    "name": "ipython",
    "version": 3
   },
   "file_extension": ".py",
   "mimetype": "text/x-python",
   "name": "python",
   "nbconvert_exporter": "python",
   "pygments_lexer": "ipython3",
   "version": "3.9.4"
  },
  "toc": {
   "base_numbering": 1,
   "nav_menu": {},
   "number_sections": true,
   "sideBar": true,
   "skip_h1_title": false,
   "title_cell": "Table of Contents",
   "title_sidebar": "Contents",
   "toc_cell": false,
   "toc_position": {},
   "toc_section_display": true,
   "toc_window_display": false
  }
 },
 "nbformat": 4,
 "nbformat_minor": 5
}
