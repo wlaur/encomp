{
 "cells": [
  {
   "cell_type": "code",
   "execution_count": 1,
   "id": "85550f14-d970-4f06-93b6-dd0e7268549c",
   "metadata": {
    "execution": {
     "iopub.execute_input": "2022-07-12T11:31:48.300886Z",
     "iopub.status.busy": "2022-07-12T11:31:48.300564Z",
     "iopub.status.idle": "2022-07-12T11:31:48.327156Z",
     "shell.execute_reply": "2022-07-12T11:31:48.326532Z",
     "shell.execute_reply.started": "2022-07-12T11:31:48.300786Z"
    },
    "tags": []
   },
   "outputs": [],
   "source": [
    "%load_ext autoreload\n",
    "%autoreload 2"
   ]
  },
  {
   "cell_type": "code",
   "execution_count": 2,
   "id": "7829b981",
   "metadata": {
    "ExecuteTime": {
     "end_time": "2021-08-01T08:00:28.106024Z",
     "start_time": "2021-08-01T08:00:28.077001Z"
    },
    "execution": {
     "iopub.execute_input": "2022-07-12T11:31:48.327983Z",
     "iopub.status.busy": "2022-07-12T11:31:48.327820Z",
     "iopub.status.idle": "2022-07-12T11:31:48.336567Z",
     "shell.execute_reply": "2022-07-12T11:31:48.335966Z",
     "shell.execute_reply.started": "2022-07-12T11:31:48.327970Z"
    },
    "tags": []
   },
   "outputs": [],
   "source": [
    "import sys\n",
    "sys.path.insert(0, '../..')"
   ]
  },
  {
   "cell_type": "markdown",
   "id": "a0468a07",
   "metadata": {
    "tags": []
   },
   "source": [
    "# Test notebook\n"
   ]
  },
  {
   "cell_type": "code",
   "execution_count": 3,
   "id": "4435bdfc-f315-4745-aacd-51ac8bf52ab8",
   "metadata": {
    "execution": {
     "iopub.execute_input": "2022-07-12T11:31:48.337451Z",
     "iopub.status.busy": "2022-07-12T11:31:48.337291Z",
     "iopub.status.idle": "2022-07-12T11:31:48.404905Z",
     "shell.execute_reply": "2022-07-12T11:31:48.404336Z",
     "shell.execute_reply.started": "2022-07-12T11:31:48.337438Z"
    },
    "tags": []
   },
   "outputs": [
    {
     "data": {
      "text/plain": [
       "('0.5.4',\n",
       " \"<module 'encomp' from '/mnt/c/Users/williaml/repos/encomp/docs/notebooks/../../encomp/__init__.py'>\")"
      ]
     },
     "execution_count": 3,
     "metadata": {},
     "output_type": "execute_result"
    }
   ],
   "source": [
    "import encomp\n",
    "encomp.__version__, str(encomp)"
   ]
  },
  {
   "cell_type": "code",
   "execution_count": 4,
   "id": "74bd0732-26f0-414a-8e44-250baf7a6bfe",
   "metadata": {
    "execution": {
     "iopub.execute_input": "2022-07-12T11:31:48.406628Z",
     "iopub.status.busy": "2022-07-12T11:31:48.406193Z",
     "iopub.status.idle": "2022-07-12T11:31:49.068109Z",
     "shell.execute_reply": "2022-07-12T11:31:49.067367Z",
     "shell.execute_reply.started": "2022-07-12T11:31:48.406613Z"
    },
    "tags": []
   },
   "outputs": [],
   "source": [
    "from encomp.utypes import *\n",
    "from encomp.units import Quantity as Q"
   ]
  },
  {
   "cell_type": "code",
   "execution_count": 5,
   "id": "c5bc0087-cf4b-4967-a14a-e3e555fdcaf7",
   "metadata": {
    "execution": {
     "iopub.execute_input": "2022-07-12T11:31:49.069259Z",
     "iopub.status.busy": "2022-07-12T11:31:49.068848Z",
     "iopub.status.idle": "2022-07-12T11:31:49.170030Z",
     "shell.execute_reply": "2022-07-12T11:31:49.169213Z",
     "shell.execute_reply.started": "2022-07-12T11:31:49.069239Z"
    },
    "tags": []
   },
   "outputs": [],
   "source": [
    "from encomp.tests.test_quantity_types import test_quantity_comparison_types\n",
    "\n",
    "test_quantity_comparison_types()"
   ]
  },
  {
   "cell_type": "code",
   "execution_count": 8,
   "id": "f0caa091-c209-4cc5-b368-d5733fccda51",
   "metadata": {
    "execution": {
     "iopub.execute_input": "2022-07-12T11:32:03.088730Z",
     "iopub.status.busy": "2022-07-12T11:32:03.088509Z",
     "iopub.status.idle": "2022-07-12T11:32:03.113467Z",
     "shell.execute_reply": "2022-07-12T11:32:03.112253Z",
     "shell.execute_reply.started": "2022-07-12T11:32:03.088715Z"
    },
    "tags": []
   },
   "outputs": [
    {
     "data": {
      "text/plain": [
       "encomp.units.Quantity[Dimensionality[[currency] / [time]]]"
      ]
     },
     "execution_count": 8,
     "metadata": {},
     "output_type": "execute_result"
    }
   ],
   "source": [
    "type(Q(25, 'SEK') / Q(25, 'day'))"
   ]
  },
  {
   "cell_type": "code",
   "execution_count": null,
   "id": "5f8c76c4-62e9-439c-9dc6-4d87f82ec31a",
   "metadata": {},
   "outputs": [],
   "source": []
  }
 ],
 "metadata": {
  "hide_input": false,
  "kernelspec": {
   "display_name": "Python 3 (ipykernel)",
   "language": "python",
   "name": "python3"
  },
  "language_info": {
   "codemirror_mode": {
    "name": "ipython",
    "version": 3
   },
   "file_extension": ".py",
   "mimetype": "text/x-python",
   "name": "python",
   "nbconvert_exporter": "python",
   "pygments_lexer": "ipython3",
   "version": "3.9.13"
  },
  "toc": {
   "base_numbering": 1,
   "nav_menu": {},
   "number_sections": true,
   "sideBar": true,
   "skip_h1_title": false,
   "title_cell": "Table of Contents",
   "title_sidebar": "Contents",
   "toc_cell": false,
   "toc_position": {},
   "toc_section_display": true,
   "toc_window_display": false
  }
 },
 "nbformat": 4,
 "nbformat_minor": 5
}
