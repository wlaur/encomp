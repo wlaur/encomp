{
 "cells": [
  {
   "cell_type": "code",
   "execution_count": 1,
   "id": "7829b981",
   "metadata": {
    "ExecuteTime": {
     "end_time": "2021-05-15T07:11:42.632259Z",
     "start_time": "2021-05-15T07:11:42.564291Z"
    }
   },
   "outputs": [],
   "source": [
    "import sys\n",
    "sys.path.insert(0, '../..')"
   ]
  },
  {
   "cell_type": "markdown",
   "id": "a0468a07",
   "metadata": {},
   "source": [
    "# Test notebook"
   ]
  },
  {
   "cell_type": "code",
   "execution_count": 2,
   "id": "0e86d543",
   "metadata": {
    "ExecuteTime": {
     "end_time": "2021-05-15T07:11:46.187151Z",
     "start_time": "2021-05-15T07:11:42.638585Z"
    }
   },
   "outputs": [
    {
     "data": {
      "application/javascript": [
       "\n",
       "require(['notebook/js/codecell'], function(codecell) {\n",
       "codecell.CodeCell.options_default.highlight_modes['text/x-markdown'] = {'reg':[/^%%markdown/]} ;\n",
       "Jupyter.notebook.events.one('kernel_ready.Kernel', function(){\n",
       "Jupyter.notebook.get_cells().map(function(cell){\n",
       "    if (cell.cell_type == 'code'){ cell.auto_highlight(); } }) ;\n",
       "});\n",
       "});"
      ],
      "text/plain": [
       "<IPython.core.display.Javascript object>"
      ]
     },
     "metadata": {},
     "output_type": "display_data"
    }
   ],
   "source": [
    "from encomp.notebook import *"
   ]
  },
  {
   "cell_type": "markdown",
   "id": "4ea6c4fb",
   "metadata": {},
   "source": [
    "## Pumps"
   ]
  },
  {
   "cell_type": "code",
   "execution_count": 3,
   "id": "adddd2cb",
   "metadata": {
    "ExecuteTime": {
     "end_time": "2021-05-15T07:11:46.372773Z",
     "start_time": "2021-05-15T07:11:46.191880Z"
    },
    "scrolled": false
   },
   "outputs": [
    {
     "data": {
      "text/plain": [
       "array([[ 1.00e+00,  1.48e+02,  2.05e+00],\n",
       "       [ 2.00e+01,  1.10e+02,  2.30e+00],\n",
       "       [ 3.66e+02, -9.28e+02, -8.08e+00],\n",
       "       [ 4.00e+02, -1.03e+03, -9.10e+00]])"
      ]
     },
     "execution_count": 3,
     "metadata": {},
     "output_type": "execute_result"
    }
   ],
   "source": [
    "from encomp.pumps import CentrifugalPump\n",
    "\n",
    "data = np.array(\n",
    "    [\n",
    "        [0, 150, 2],\n",
    "        [10, 130, 2.5],\n",
    "        [20, 110, 2.3],\n",
    "        [30, 80, 2.]\n",
    "    ]\n",
    ")\n",
    "\n",
    "p = CentrifugalPump(data=data, units=('m3/hr', 'bar', 'kW'))\n",
    "\n",
    "p.grid_interpolation([1, 20, 366, 400], p.data, 0)"
   ]
  }
 ],
 "metadata": {
  "kernelspec": {
   "display_name": "Python 3",
   "language": "python",
   "name": "python3"
  },
  "language_info": {
   "codemirror_mode": {
    "name": "ipython",
    "version": 3
   },
   "file_extension": ".py",
   "mimetype": "text/x-python",
   "name": "python",
   "nbconvert_exporter": "python",
   "pygments_lexer": "ipython3",
   "version": "3.9.4"
  },
  "toc": {
   "base_numbering": 1,
   "nav_menu": {},
   "number_sections": true,
   "sideBar": true,
   "skip_h1_title": false,
   "title_cell": "Table of Contents",
   "title_sidebar": "Contents",
   "toc_cell": false,
   "toc_position": {},
   "toc_section_display": true,
   "toc_window_display": false
  }
 },
 "nbformat": 4,
 "nbformat_minor": 5
}
