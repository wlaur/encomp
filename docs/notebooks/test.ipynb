{
 "cells": [
  {
   "cell_type": "code",
   "execution_count": 1,
   "id": "85550f14-d970-4f06-93b6-dd0e7268549c",
   "metadata": {
    "execution": {
     "iopub.execute_input": "2022-07-23T20:45:12.102014Z",
     "iopub.status.busy": "2022-07-23T20:45:12.101700Z",
     "iopub.status.idle": "2022-07-23T20:45:12.134844Z",
     "shell.execute_reply": "2022-07-23T20:45:12.133880Z",
     "shell.execute_reply.started": "2022-07-23T20:45:12.101938Z"
    },
    "tags": []
   },
   "outputs": [],
   "source": [
    "%load_ext autoreload\n",
    "%autoreload 2"
   ]
  },
  {
   "cell_type": "code",
   "execution_count": 2,
   "id": "7829b981",
   "metadata": {
    "ExecuteTime": {
     "end_time": "2021-08-01T08:00:28.106024Z",
     "start_time": "2021-08-01T08:00:28.077001Z"
    },
    "execution": {
     "iopub.execute_input": "2022-07-23T20:45:12.135796Z",
     "iopub.status.busy": "2022-07-23T20:45:12.135609Z",
     "iopub.status.idle": "2022-07-23T20:45:12.146601Z",
     "shell.execute_reply": "2022-07-23T20:45:12.145692Z",
     "shell.execute_reply.started": "2022-07-23T20:45:12.135782Z"
    },
    "tags": []
   },
   "outputs": [],
   "source": [
    "import sys\n",
    "sys.path.insert(0, '../..')"
   ]
  },
  {
   "cell_type": "markdown",
   "id": "a0468a07",
   "metadata": {
    "tags": []
   },
   "source": [
    "# Test notebook\n"
   ]
  },
  {
   "cell_type": "code",
   "execution_count": 3,
   "id": "4435bdfc-f315-4745-aacd-51ac8bf52ab8",
   "metadata": {
    "execution": {
     "iopub.execute_input": "2022-07-23T20:45:12.148266Z",
     "iopub.status.busy": "2022-07-23T20:45:12.147648Z",
     "iopub.status.idle": "2022-07-23T20:45:12.175976Z",
     "shell.execute_reply": "2022-07-23T20:45:12.174644Z",
     "shell.execute_reply.started": "2022-07-23T20:45:12.148246Z"
    },
    "tags": []
   },
   "outputs": [
    {
     "data": {
      "text/plain": [
       "('0.6.0',\n",
       " \"<module 'encomp' from '/mnt/c/Users/williaml/repos/encomp/docs/notebooks/../../encomp/__init__.py'>\")"
      ]
     },
     "execution_count": 3,
     "metadata": {},
     "output_type": "execute_result"
    }
   ],
   "source": [
    "import trace\n",
    "import encomp\n",
    "encomp.__version__, str(encomp)"
   ]
  },
  {
   "cell_type": "code",
   "execution_count": 4,
   "id": "9d832c3c-d2c3-4980-b0da-3437734eed17",
   "metadata": {
    "execution": {
     "iopub.execute_input": "2022-07-23T20:45:12.178654Z",
     "iopub.status.busy": "2022-07-23T20:45:12.177940Z",
     "iopub.status.idle": "2022-07-23T20:45:13.216814Z",
     "shell.execute_reply": "2022-07-23T20:45:13.216095Z",
     "shell.execute_reply.started": "2022-07-23T20:45:12.178625Z"
    },
    "tags": []
   },
   "outputs": [],
   "source": [
    "from encomp.units import Quantity as Q\n",
    "from encomp.utypes import *"
   ]
  }
 ],
 "metadata": {
  "hide_input": false,
  "kernelspec": {
   "display_name": "Python 3 (ipykernel)",
   "language": "python",
   "name": "python3"
  },
  "language_info": {
   "codemirror_mode": {
    "name": "ipython",
    "version": 3
   },
   "file_extension": ".py",
   "mimetype": "text/x-python",
   "name": "python",
   "nbconvert_exporter": "python",
   "pygments_lexer": "ipython3",
   "version": "3.9.13"
  },
  "toc": {
   "base_numbering": 1,
   "nav_menu": {},
   "number_sections": true,
   "sideBar": true,
   "skip_h1_title": false,
   "title_cell": "Table of Contents",
   "title_sidebar": "Contents",
   "toc_cell": false,
   "toc_position": {},
   "toc_section_display": true,
   "toc_window_display": false
  }
 },
 "nbformat": 4,
 "nbformat_minor": 5
}
