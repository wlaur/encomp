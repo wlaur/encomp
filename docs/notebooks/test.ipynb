{
 "cells": [
  {
   "cell_type": "code",
   "execution_count": 1,
   "id": "85550f14-d970-4f06-93b6-dd0e7268549c",
   "metadata": {
    "execution": {
     "iopub.execute_input": "2021-12-28T09:28:09.431261Z",
     "iopub.status.busy": "2021-12-28T09:28:09.430447Z",
     "iopub.status.idle": "2021-12-28T09:28:09.485759Z",
     "shell.execute_reply": "2021-12-28T09:28:09.484604Z",
     "shell.execute_reply.started": "2021-12-28T09:28:09.431157Z"
    },
    "tags": []
   },
   "outputs": [],
   "source": [
    "%load_ext autoreload\n",
    "%autoreload 2"
   ]
  },
  {
   "cell_type": "code",
   "execution_count": 2,
   "id": "7829b981",
   "metadata": {
    "ExecuteTime": {
     "end_time": "2021-08-01T08:00:28.106024Z",
     "start_time": "2021-08-01T08:00:28.077001Z"
    },
    "execution": {
     "iopub.execute_input": "2021-12-28T09:28:09.487379Z",
     "iopub.status.busy": "2021-12-28T09:28:09.486986Z",
     "iopub.status.idle": "2021-12-28T09:28:09.514980Z",
     "shell.execute_reply": "2021-12-28T09:28:09.513144Z",
     "shell.execute_reply.started": "2021-12-28T09:28:09.487330Z"
    },
    "tags": []
   },
   "outputs": [],
   "source": [
    "import sys\n",
    "sys.path.insert(0, '../..')"
   ]
  },
  {
   "cell_type": "markdown",
   "id": "a0468a07",
   "metadata": {
    "tags": []
   },
   "source": [
    "# Test notebook\n"
   ]
  },
  {
   "cell_type": "code",
   "execution_count": 3,
   "id": "4435bdfc-f315-4745-aacd-51ac8bf52ab8",
   "metadata": {
    "execution": {
     "iopub.execute_input": "2021-12-28T09:28:09.518399Z",
     "iopub.status.busy": "2021-12-28T09:28:09.518005Z",
     "iopub.status.idle": "2021-12-28T09:28:09.637259Z",
     "shell.execute_reply": "2021-12-28T09:28:09.635700Z",
     "shell.execute_reply.started": "2021-12-28T09:28:09.518350Z"
    },
    "tags": []
   },
   "outputs": [
    {
     "data": {
      "text/plain": [
       "('0.2.0',\n",
       " \"<module 'encomp' from '/mnt/c/Users/williaml/repos/encomp/docs/notebooks/../../encomp/__init__.py'>\")"
      ]
     },
     "execution_count": 3,
     "metadata": {},
     "output_type": "execute_result"
    }
   ],
   "source": [
    "import encomp\n",
    "encomp.__version__, str(encomp)"
   ]
  },
  {
   "cell_type": "code",
   "execution_count": 15,
   "id": "459d01cb",
   "metadata": {
    "ExecuteTime": {
     "end_time": "2021-08-01T08:00:29.602741Z",
     "start_time": "2021-08-01T08:00:28.106998Z"
    },
    "execution": {
     "iopub.execute_input": "2021-12-28T09:33:05.569770Z",
     "iopub.status.busy": "2021-12-28T09:33:05.569386Z",
     "iopub.status.idle": "2021-12-28T09:33:05.630765Z",
     "shell.execute_reply": "2021-12-28T09:33:05.629883Z",
     "shell.execute_reply.started": "2021-12-28T09:33:05.569735Z"
    },
    "tags": []
   },
   "outputs": [
    {
     "name": "stdout",
     "output_type": "stream",
     "text": [
      "1 kg <class 'encomp.units.Quantity[Dimensionless]'>\n"
     ]
    },
    {
     "data": {
      "text/html": [
       "2 dimensionless"
      ],
      "text/latex": [
       "$2\\ dimensionless$"
      ],
      "text/plain": [
       "2 <Unit('dimensionless')>"
      ]
     },
     "execution_count": 15,
     "metadata": {},
     "output_type": "execute_result"
    }
   ],
   "source": [
    "from encomp.units import Q\n",
    "\n",
    "print(Q['Mass'](1, 'kg'), type(Q(1)))\n",
    "\n",
    "Q[Q(1)](2)"
   ]
  }
 ],
 "metadata": {
  "hide_input": false,
  "kernelspec": {
   "display_name": "Python 3 (ipykernel)",
   "language": "python",
   "name": "python3"
  },
  "language_info": {
   "codemirror_mode": {
    "name": "ipython",
    "version": 3
   },
   "file_extension": ".py",
   "mimetype": "text/x-python",
   "name": "python",
   "nbconvert_exporter": "python",
   "pygments_lexer": "ipython3",
   "version": "3.9.9"
  },
  "toc": {
   "base_numbering": 1,
   "nav_menu": {},
   "number_sections": true,
   "sideBar": true,
   "skip_h1_title": false,
   "title_cell": "Table of Contents",
   "title_sidebar": "Contents",
   "toc_cell": false,
   "toc_position": {},
   "toc_section_display": true,
   "toc_window_display": false
  }
 },
 "nbformat": 4,
 "nbformat_minor": 5
}
