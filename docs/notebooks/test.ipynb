{
 "cells": [
  {
   "cell_type": "code",
   "execution_count": 1,
   "id": "85550f14-d970-4f06-93b6-dd0e7268549c",
   "metadata": {},
   "outputs": [],
   "source": [
    "%load_ext autoreload\n",
    "%autoreload 2"
   ]
  },
  {
   "cell_type": "code",
   "execution_count": 2,
   "id": "7829b981",
   "metadata": {
    "ExecuteTime": {
     "end_time": "2021-08-01T08:00:28.106024Z",
     "start_time": "2021-08-01T08:00:28.077001Z"
    }
   },
   "outputs": [],
   "source": [
    "import sys\n",
    "sys.path.insert(0, '../..')"
   ]
  },
  {
   "cell_type": "markdown",
   "id": "a0468a07",
   "metadata": {},
   "source": [
    "# Test notebook\n"
   ]
  },
  {
   "cell_type": "code",
   "execution_count": 3,
   "id": "4435bdfc-f315-4745-aacd-51ac8bf52ab8",
   "metadata": {},
   "outputs": [
    {
     "data": {
      "text/plain": [
       "('0.1.21',\n",
       " \"<module 'encomp' from '/mnt/c/Users/williaml/repos/encomp/docs/notebooks/../../encomp/__init__.py'>\")"
      ]
     },
     "execution_count": 3,
     "metadata": {},
     "output_type": "execute_result"
    }
   ],
   "source": [
    "import encomp\n",
    "encomp.__version__, str(encomp)"
   ]
  },
  {
   "cell_type": "code",
   "execution_count": 10,
   "id": "459d01cb",
   "metadata": {
    "ExecuteTime": {
     "end_time": "2021-08-01T08:00:29.602741Z",
     "start_time": "2021-08-01T08:00:28.106998Z"
    }
   },
   "outputs": [],
   "source": [
    "from dataclasses import dataclass\n",
    "import numpy as np\n",
    "import pandas as pd \n",
    "import json\n",
    "\n",
    "from encomp.serialize import serialize, decode\n",
    "from encomp.units import Q, check"
   ]
  },
  {
   "cell_type": "code",
   "execution_count": 16,
   "id": "ec2b1fd2-3ab0-44b3-a91d-4e2483d171a6",
   "metadata": {},
   "outputs": [
    {
     "data": {
      "text/html": [
       "9.797958971132712 meter<sup>0.5</sup>"
      ],
      "text/latex": [
       "$9.797958971132712\\ \\mathrm{meter}^{0.5}$"
      ],
      "text/plain": [
       "9.797958971132712 <Unit('meter ** 0.5')>"
      ]
     },
     "execution_count": 16,
     "metadata": {},
     "output_type": "execute_result"
    }
   ],
   "source": [
    "@check('[length]')\n",
    "def pendulum_period(length):\n",
    "    return 2*2*np.sqrt(length/2)\n",
    "\n",
    "pendulum_period(Q(12, 'm'))"
   ]
  },
  {
   "cell_type": "code",
   "execution_count": 22,
   "id": "895489dc-5d6c-46c6-95d5-08a7511c317a",
   "metadata": {},
   "outputs": [
    {
     "data": {
      "text/plain": [
       "True"
      ]
     },
     "execution_count": 22,
     "metadata": {},
     "output_type": "execute_result"
    }
   ],
   "source": [
    "Q(1) == Q(100, '%')"
   ]
  },
  {
   "cell_type": "code",
   "execution_count": 32,
   "id": "e40dc769-2cc7-471c-ac12-2061b3e51c90",
   "metadata": {},
   "outputs": [
    {
     "data": {
      "text/html": [
       "20 pound yard"
      ],
      "text/latex": [
       "$20\\ \\mathrm{pound} \\cdot \\mathrm{yard}$"
      ],
      "text/plain": [
       "20 <Unit('pound * yard')>"
      ]
     },
     "execution_count": 32,
     "metadata": {},
     "output_type": "execute_result"
    }
   ],
   "source": [
    "from encomp.utypes import *\n",
    "assert not Q(1, 'kg').check('[energy]')\n",
    "assert Q(1, 'kg').check(Mass)\n",
    "assert not Q(1, 'kg').check(Energy)\n",
    "\n",
    "@check('[length]', '[mass]')\n",
    "def func(a, b):\n",
    "\n",
    "    return a * b\n",
    "\n",
    "func(Q(1, 'yd'), Q(20, 'lbs'))"
   ]
  }
 ],
 "metadata": {
  "hide_input": false,
  "kernelspec": {
   "display_name": "Python 3 (ipykernel)",
   "language": "python",
   "name": "python3"
  },
  "language_info": {
   "codemirror_mode": {
    "name": "ipython",
    "version": 3
   },
   "file_extension": ".py",
   "mimetype": "text/x-python",
   "name": "python",
   "nbconvert_exporter": "python",
   "pygments_lexer": "ipython3",
   "version": "3.9.9"
  },
  "toc": {
   "base_numbering": 1,
   "nav_menu": {},
   "number_sections": true,
   "sideBar": true,
   "skip_h1_title": false,
   "title_cell": "Table of Contents",
   "title_sidebar": "Contents",
   "toc_cell": false,
   "toc_position": {},
   "toc_section_display": true,
   "toc_window_display": false
  }
 },
 "nbformat": 4,
 "nbformat_minor": 5
}
