{
 "cells": [
  {
   "cell_type": "code",
   "execution_count": 1,
   "id": "85550f14-d970-4f06-93b6-dd0e7268549c",
   "metadata": {
    "execution": {
     "iopub.execute_input": "2022-07-08T09:48:59.267862Z",
     "iopub.status.busy": "2022-07-08T09:48:59.267614Z",
     "iopub.status.idle": "2022-07-08T09:48:59.294013Z",
     "shell.execute_reply": "2022-07-08T09:48:59.293340Z",
     "shell.execute_reply.started": "2022-07-08T09:48:59.267813Z"
    },
    "tags": []
   },
   "outputs": [],
   "source": [
    "%load_ext autoreload\n",
    "%autoreload 2"
   ]
  },
  {
   "cell_type": "code",
   "execution_count": 2,
   "id": "7829b981",
   "metadata": {
    "ExecuteTime": {
     "end_time": "2021-08-01T08:00:28.106024Z",
     "start_time": "2021-08-01T08:00:28.077001Z"
    },
    "execution": {
     "iopub.execute_input": "2022-07-08T09:48:59.295368Z",
     "iopub.status.busy": "2022-07-08T09:48:59.295087Z",
     "iopub.status.idle": "2022-07-08T09:48:59.302897Z",
     "shell.execute_reply": "2022-07-08T09:48:59.302361Z",
     "shell.execute_reply.started": "2022-07-08T09:48:59.295345Z"
    },
    "tags": []
   },
   "outputs": [],
   "source": [
    "import sys\n",
    "sys.path.insert(0, '../..')"
   ]
  },
  {
   "cell_type": "markdown",
   "id": "a0468a07",
   "metadata": {
    "tags": []
   },
   "source": [
    "# Test notebook\n"
   ]
  },
  {
   "cell_type": "code",
   "execution_count": 3,
   "id": "4435bdfc-f315-4745-aacd-51ac8bf52ab8",
   "metadata": {
    "execution": {
     "iopub.execute_input": "2022-07-08T09:48:59.303985Z",
     "iopub.status.busy": "2022-07-08T09:48:59.303740Z",
     "iopub.status.idle": "2022-07-08T09:48:59.368117Z",
     "shell.execute_reply": "2022-07-08T09:48:59.367506Z",
     "shell.execute_reply.started": "2022-07-08T09:48:59.303932Z"
    },
    "tags": []
   },
   "outputs": [
    {
     "data": {
      "text/plain": [
       "('0.5.0',\n",
       " \"<module 'encomp' from '/mnt/c/Users/williaml/repos/encomp/docs/notebooks/../../encomp/__init__.py'>\")"
      ]
     },
     "execution_count": 3,
     "metadata": {},
     "output_type": "execute_result"
    }
   ],
   "source": [
    "import encomp\n",
    "encomp.__version__, str(encomp)"
   ]
  },
  {
   "cell_type": "code",
   "execution_count": 4,
   "id": "74bd0732-26f0-414a-8e44-250baf7a6bfe",
   "metadata": {
    "execution": {
     "iopub.execute_input": "2022-07-08T09:48:59.369725Z",
     "iopub.status.busy": "2022-07-08T09:48:59.369563Z",
     "iopub.status.idle": "2022-07-08T09:49:00.030478Z",
     "shell.execute_reply": "2022-07-08T09:49:00.029679Z",
     "shell.execute_reply.started": "2022-07-08T09:48:59.369712Z"
    },
    "tags": []
   },
   "outputs": [],
   "source": [
    "from encomp.utypes import *\n",
    "from encomp.units import Quantity as Q"
   ]
  }
 ],
 "metadata": {
  "hide_input": false,
  "kernelspec": {
   "display_name": "Python 3 (ipykernel)",
   "language": "python",
   "name": "python3"
  },
  "language_info": {
   "codemirror_mode": {
    "name": "ipython",
    "version": 3
   },
   "file_extension": ".py",
   "mimetype": "text/x-python",
   "name": "python",
   "nbconvert_exporter": "python",
   "pygments_lexer": "ipython3",
   "version": "3.9.13"
  },
  "toc": {
   "base_numbering": 1,
   "nav_menu": {},
   "number_sections": true,
   "sideBar": true,
   "skip_h1_title": false,
   "title_cell": "Table of Contents",
   "title_sidebar": "Contents",
   "toc_cell": false,
   "toc_position": {},
   "toc_section_display": true,
   "toc_window_display": false
  }
 },
 "nbformat": 4,
 "nbformat_minor": 5
}
