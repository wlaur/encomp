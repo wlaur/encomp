{
 "cells": [
  {
   "cell_type": "code",
   "execution_count": 1,
   "id": "85550f14-d970-4f06-93b6-dd0e7268549c",
   "metadata": {
    "execution": {
     "iopub.execute_input": "2022-01-02T17:26:58.390398Z",
     "iopub.status.busy": "2022-01-02T17:26:58.389786Z",
     "iopub.status.idle": "2022-01-02T17:26:58.434983Z",
     "shell.execute_reply": "2022-01-02T17:26:58.434014Z",
     "shell.execute_reply.started": "2022-01-02T17:26:58.390286Z"
    },
    "tags": []
   },
   "outputs": [],
   "source": [
    "%load_ext autoreload\n",
    "%autoreload 2"
   ]
  },
  {
   "cell_type": "code",
   "execution_count": 2,
   "id": "7829b981",
   "metadata": {
    "ExecuteTime": {
     "end_time": "2021-08-01T08:00:28.106024Z",
     "start_time": "2021-08-01T08:00:28.077001Z"
    },
    "execution": {
     "iopub.execute_input": "2022-01-02T17:26:58.436234Z",
     "iopub.status.busy": "2022-01-02T17:26:58.436105Z",
     "iopub.status.idle": "2022-01-02T17:26:58.463414Z",
     "shell.execute_reply": "2022-01-02T17:26:58.462761Z",
     "shell.execute_reply.started": "2022-01-02T17:26:58.436215Z"
    },
    "tags": []
   },
   "outputs": [],
   "source": [
    "import sys\n",
    "sys.path.insert(0, '../..')"
   ]
  },
  {
   "cell_type": "markdown",
   "id": "a0468a07",
   "metadata": {
    "tags": []
   },
   "source": [
    "# Test notebook\n"
   ]
  },
  {
   "cell_type": "code",
   "execution_count": 3,
   "id": "4435bdfc-f315-4745-aacd-51ac8bf52ab8",
   "metadata": {
    "execution": {
     "iopub.execute_input": "2022-01-02T17:26:58.465072Z",
     "iopub.status.busy": "2022-01-02T17:26:58.464973Z",
     "iopub.status.idle": "2022-01-02T17:26:58.573043Z",
     "shell.execute_reply": "2022-01-02T17:26:58.571676Z",
     "shell.execute_reply.started": "2022-01-02T17:26:58.465058Z"
    },
    "tags": []
   },
   "outputs": [
    {
     "data": {
      "text/plain": [
       "('0.2.6',\n",
       " \"<module 'encomp' from '/mnt/c/Users/williaml/repos/encomp/docs/notebooks/../../encomp/__init__.py'>\")"
      ]
     },
     "execution_count": 3,
     "metadata": {},
     "output_type": "execute_result"
    }
   ],
   "source": [
    "import encomp\n",
    "encomp.__version__, str(encomp)"
   ]
  },
  {
   "cell_type": "code",
   "execution_count": 4,
   "id": "a22fa95c-0ce0-4eb7-9fa2-4232b0c0e4f5",
   "metadata": {
    "ExecuteTime": {
     "end_time": "2021-08-01T08:00:29.602741Z",
     "start_time": "2021-08-01T08:00:28.106998Z"
    },
    "execution": {
     "iopub.execute_input": "2022-01-02T17:26:58.575062Z",
     "iopub.status.busy": "2022-01-02T17:26:58.574676Z",
     "iopub.status.idle": "2022-01-02T17:27:00.122719Z",
     "shell.execute_reply": "2022-01-02T17:27:00.121926Z",
     "shell.execute_reply.started": "2022-01-02T17:26:58.575014Z"
    },
    "tags": []
   },
   "outputs": [],
   "source": [
    "from encomp.units import Q, Quantity\n",
    "from encomp.fluids import Fluid, HumidAir\n",
    "import numpy as np\n",
    "import pandas as pd"
   ]
  }
 ],
 "metadata": {
  "hide_input": false,
  "kernelspec": {
   "display_name": "Python 3 (ipykernel)",
   "language": "python",
   "name": "python3"
  },
  "language_info": {
   "codemirror_mode": {
    "name": "ipython",
    "version": 3
   },
   "file_extension": ".py",
   "mimetype": "text/x-python",
   "name": "python",
   "nbconvert_exporter": "python",
   "pygments_lexer": "ipython3",
   "version": "3.9.9"
  },
  "toc": {
   "base_numbering": 1,
   "nav_menu": {},
   "number_sections": true,
   "sideBar": true,
   "skip_h1_title": false,
   "title_cell": "Table of Contents",
   "title_sidebar": "Contents",
   "toc_cell": false,
   "toc_position": {},
   "toc_section_display": true,
   "toc_window_display": false
  }
 },
 "nbformat": 4,
 "nbformat_minor": 5
}
