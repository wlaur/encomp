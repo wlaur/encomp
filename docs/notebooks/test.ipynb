{
 "cells": [
  {
   "cell_type": "code",
   "execution_count": 1,
   "id": "85550f14-d970-4f06-93b6-dd0e7268549c",
   "metadata": {
    "execution": {
     "iopub.execute_input": "2022-07-06T12:02:40.739927Z",
     "iopub.status.busy": "2022-07-06T12:02:40.739696Z",
     "iopub.status.idle": "2022-07-06T12:02:40.775463Z",
     "shell.execute_reply": "2022-07-06T12:02:40.773758Z",
     "shell.execute_reply.started": "2022-07-06T12:02:40.739873Z"
    },
    "tags": []
   },
   "outputs": [],
   "source": [
    "%load_ext autoreload\n",
    "%autoreload 2"
   ]
  },
  {
   "cell_type": "code",
   "execution_count": 2,
   "id": "7829b981",
   "metadata": {
    "ExecuteTime": {
     "end_time": "2021-08-01T08:00:28.106024Z",
     "start_time": "2021-08-01T08:00:28.077001Z"
    },
    "execution": {
     "iopub.execute_input": "2022-07-06T12:02:40.776703Z",
     "iopub.status.busy": "2022-07-06T12:02:40.776535Z",
     "iopub.status.idle": "2022-07-06T12:02:40.787555Z",
     "shell.execute_reply": "2022-07-06T12:02:40.786774Z",
     "shell.execute_reply.started": "2022-07-06T12:02:40.776685Z"
    },
    "tags": []
   },
   "outputs": [],
   "source": [
    "import sys\n",
    "sys.path.insert(0, '../..')"
   ]
  },
  {
   "cell_type": "markdown",
   "id": "a0468a07",
   "metadata": {
    "tags": []
   },
   "source": [
    "# Test notebook\n"
   ]
  },
  {
   "cell_type": "code",
   "execution_count": 3,
   "id": "4435bdfc-f315-4745-aacd-51ac8bf52ab8",
   "metadata": {
    "execution": {
     "iopub.execute_input": "2022-07-06T12:02:40.788954Z",
     "iopub.status.busy": "2022-07-06T12:02:40.788761Z",
     "iopub.status.idle": "2022-07-06T12:02:40.885144Z",
     "shell.execute_reply": "2022-07-06T12:02:40.883354Z",
     "shell.execute_reply.started": "2022-07-06T12:02:40.788933Z"
    },
    "tags": []
   },
   "outputs": [
    {
     "data": {
      "text/plain": [
       "('0.5.0',\n",
       " \"<module 'encomp' from '/mnt/c/Users/williaml/repos/encomp/docs/notebooks/../../encomp/__init__.py'>\")"
      ]
     },
     "execution_count": 3,
     "metadata": {},
     "output_type": "execute_result"
    }
   ],
   "source": [
    "import encomp\n",
    "encomp.__version__, str(encomp)"
   ]
  },
  {
   "cell_type": "code",
   "execution_count": 5,
   "id": "74bd0732-26f0-414a-8e44-250baf7a6bfe",
   "metadata": {
    "execution": {
     "iopub.execute_input": "2022-07-06T12:02:41.752102Z",
     "iopub.status.busy": "2022-07-06T12:02:41.751768Z",
     "iopub.status.idle": "2022-07-06T12:02:41.780324Z",
     "shell.execute_reply": "2022-07-06T12:02:41.779489Z",
     "shell.execute_reply.started": "2022-07-06T12:02:41.752082Z"
    },
    "tags": []
   },
   "outputs": [],
   "source": [
    "from encomp.utypes import Pressure, Temperature, Mass\n",
    "from encomp.units import Quantity as Q"
   ]
  },
  {
   "cell_type": "code",
   "execution_count": 14,
   "id": "9ee1e575-9ebd-48d5-a5d8-684b13007aa1",
   "metadata": {
    "execution": {
     "iopub.execute_input": "2022-07-06T12:02:42.008143Z",
     "iopub.status.busy": "2022-07-06T12:02:42.007839Z",
     "iopub.status.idle": "2022-07-06T12:02:42.083896Z",
     "shell.execute_reply": "2022-07-06T12:02:42.083025Z",
     "shell.execute_reply.started": "2022-07-06T12:02:42.008118Z"
    },
    "tags": []
   },
   "outputs": [
    {
     "data": {
      "text/plain": [
       "True"
      ]
     },
     "execution_count": 14,
     "metadata": {},
     "output_type": "execute_result"
    }
   ],
   "source": [
    "from encomp.misc import isinstance_types\n",
    "\n",
    "l = [Q[Pressure](2, 'kPa'), Q[Pressure](25, 'bar')]\n",
    "\n",
    "isinstance_types(l, list[Q[Pressure]])"
   ]
  },
  {
   "cell_type": "code",
   "execution_count": 31,
   "id": "8813ddd0-d6ea-4847-976b-a574baf697dd",
   "metadata": {
    "execution": {
     "iopub.execute_input": "2022-07-06T12:04:08.697309Z",
     "iopub.status.busy": "2022-07-06T12:04:08.696324Z",
     "iopub.status.idle": "2022-07-06T12:04:08.780977Z",
     "shell.execute_reply": "2022-07-06T12:04:08.779897Z",
     "shell.execute_reply.started": "2022-07-06T12:04:08.697267Z"
    },
    "tags": []
   },
   "outputs": [],
   "source": [
    "from encomp.tests.test_units import test_typed_dict\n",
    "\n",
    "test_typed_dict()"
   ]
  },
  {
   "cell_type": "code",
   "execution_count": 24,
   "id": "733e3bd5-0fb7-4a71-baea-8f5ac5500cc2",
   "metadata": {
    "execution": {
     "iopub.execute_input": "2022-07-06T12:02:42.322189Z",
     "iopub.status.busy": "2022-07-06T12:02:42.321820Z",
     "iopub.status.idle": "2022-07-06T12:02:42.344765Z",
     "shell.execute_reply": "2022-07-06T12:02:42.344028Z",
     "shell.execute_reply.started": "2022-07-06T12:02:42.322161Z"
    },
    "tags": []
   },
   "outputs": [
    {
     "data": {
      "text/plain": [
       "(1 <Unit('gram / kelvin ** 2')>, 1 <Unit('gram / kelvin ** 2')>)"
      ]
     },
     "execution_count": 24,
     "metadata": {},
     "output_type": "execute_result"
    }
   ],
   "source": [
    "from encomp.utypes import Dimensionality, UnitsContainer\n",
    "\n",
    "class CustomDimensionality(Dimensionality):\n",
    "    dimensions = UnitsContainer({'[mass]': 1, '[temperature]': -2})\n",
    "    \n",
    "q1 = Q(1, 'g/K^2')\n",
    "q2 = Q[CustomDimensionality](1, 'g/K^2')\n",
    "\n",
    "q1, q2"
   ]
  }
 ],
 "metadata": {
  "hide_input": false,
  "kernelspec": {
   "display_name": "Python 3 (ipykernel)",
   "language": "python",
   "name": "python3"
  },
  "language_info": {
   "codemirror_mode": {
    "name": "ipython",
    "version": 3
   },
   "file_extension": ".py",
   "mimetype": "text/x-python",
   "name": "python",
   "nbconvert_exporter": "python",
   "pygments_lexer": "ipython3",
   "version": "3.9.13"
  },
  "toc": {
   "base_numbering": 1,
   "nav_menu": {},
   "number_sections": true,
   "sideBar": true,
   "skip_h1_title": false,
   "title_cell": "Table of Contents",
   "title_sidebar": "Contents",
   "toc_cell": false,
   "toc_position": {},
   "toc_section_display": true,
   "toc_window_display": false
  }
 },
 "nbformat": 4,
 "nbformat_minor": 5
}
