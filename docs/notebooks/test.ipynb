{
 "cells": [
  {
   "cell_type": "code",
   "execution_count": 1,
   "id": "7829b981",
   "metadata": {
    "ExecuteTime": {
     "end_time": "2021-07-19T08:13:14.765870Z",
     "start_time": "2021-07-19T08:13:14.736239Z"
    }
   },
   "outputs": [],
   "source": [
    "import sys\n",
    "sys.path.insert(0, '../..')"
   ]
  },
  {
   "cell_type": "code",
   "execution_count": 2,
   "id": "88645d9b",
   "metadata": {
    "ExecuteTime": {
     "end_time": "2021-07-19T08:13:14.877207Z",
     "start_time": "2021-07-19T08:13:14.768180Z"
    }
   },
   "outputs": [
    {
     "data": {
      "text/plain": [
       "Settings(data_directory=WindowsPath('C:/local/repos/encomp/encomp/data'), additional_units=WindowsPath('C:/local/repos/encomp/encomp/data/additional-units.txt'), type_checking=True, typeset_symbol_scripts=True, ignore_ndarray_unit_stripped_warning=True, matplotlib_notebook_format='retina')"
      ]
     },
     "execution_count": 2,
     "metadata": {},
     "output_type": "execute_result"
    }
   ],
   "source": [
    "from encomp.settings import SETTINGS\n",
    "\n",
    "SETTINGS"
   ]
  },
  {
   "cell_type": "markdown",
   "id": "a0468a07",
   "metadata": {},
   "source": [
    "# Test notebook"
   ]
  },
  {
   "cell_type": "code",
   "execution_count": 5,
   "id": "0fd651b1",
   "metadata": {
    "ExecuteTime": {
     "end_time": "2021-07-19T08:15:39.580785Z",
     "start_time": "2021-07-19T08:15:39.492153Z"
    }
   },
   "outputs": [],
   "source": [
    "%%write test.json\n",
    "\n",
    "a = Q(1, 'bar')"
   ]
  },
  {
   "cell_type": "code",
   "execution_count": 3,
   "id": "10f83e1c",
   "metadata": {
    "ExecuteTime": {
     "end_time": "2021-07-19T08:13:16.778001Z",
     "start_time": "2021-07-19T08:13:14.879180Z"
    }
   },
   "outputs": [
    {
     "data": {
      "application/javascript": [
       "\n",
       "require(['notebook/js/codecell'], function(codecell) {\n",
       "codecell.CodeCell.options_default.highlight_modes['text/x-markdown'] = {'reg':[/^%%markdown/]} ;\n",
       "Jupyter.notebook.events.one('kernel_ready.Kernel', function(){\n",
       "Jupyter.notebook.get_cells().map(function(cell){\n",
       "    if (cell.cell_type == 'code'){ cell.auto_highlight(); } }) ;\n",
       "});\n",
       "});"
      ],
      "text/plain": [
       "<IPython.core.display.Javascript object>"
      ]
     },
     "metadata": {},
     "output_type": "display_data"
    }
   ],
   "source": [
    "from encomp.notebook import *"
   ]
  },
  {
   "cell_type": "code",
   "execution_count": 4,
   "id": "f1951941",
   "metadata": {
    "ExecuteTime": {
     "end_time": "2021-07-19T08:13:16.872472Z",
     "start_time": "2021-07-19T08:13:16.779765Z"
    }
   },
   "outputs": [
    {
     "data": {
      "text/html": [
       "<div>\n",
       "<style scoped>\n",
       "    .dataframe tbody tr th:only-of-type {\n",
       "        vertical-align: middle;\n",
       "    }\n",
       "\n",
       "    .dataframe tbody tr th {\n",
       "        vertical-align: top;\n",
       "    }\n",
       "\n",
       "    .dataframe thead th {\n",
       "        text-align: right;\n",
       "    }\n",
       "</style>\n",
       "<table border=\"1\" class=\"dataframe\">\n",
       "  <thead>\n",
       "    <tr style=\"text-align: right;\">\n",
       "      <th></th>\n",
       "      <th>x [kg]</th>\n",
       "      <th>y [m/s]</th>\n",
       "      <th>x [lbs]</th>\n",
       "    </tr>\n",
       "  </thead>\n",
       "  <tbody>\n",
       "    <tr>\n",
       "      <th>0</th>\n",
       "      <td>0.723936</td>\n",
       "      <td>0.615298</td>\n",
       "      <td>1.596005</td>\n",
       "    </tr>\n",
       "    <tr>\n",
       "      <th>1</th>\n",
       "      <td>0.129603</td>\n",
       "      <td>0.015849</td>\n",
       "      <td>0.285725</td>\n",
       "    </tr>\n",
       "    <tr>\n",
       "      <th>2</th>\n",
       "      <td>0.962421</td>\n",
       "      <td>0.472037</td>\n",
       "      <td>2.121775</td>\n",
       "    </tr>\n",
       "    <tr>\n",
       "      <th>3</th>\n",
       "      <td>0.783062</td>\n",
       "      <td>0.054399</td>\n",
       "      <td>1.726357</td>\n",
       "    </tr>\n",
       "    <tr>\n",
       "      <th>4</th>\n",
       "      <td>0.928368</td>\n",
       "      <td>0.122310</td>\n",
       "      <td>2.046701</td>\n",
       "    </tr>\n",
       "    <tr>\n",
       "      <th>5</th>\n",
       "      <td>0.601486</td>\n",
       "      <td>0.548122</td>\n",
       "      <td>1.326049</td>\n",
       "    </tr>\n",
       "    <tr>\n",
       "      <th>6</th>\n",
       "      <td>0.516022</td>\n",
       "      <td>0.940956</td>\n",
       "      <td>1.137633</td>\n",
       "    </tr>\n",
       "    <tr>\n",
       "      <th>7</th>\n",
       "      <td>0.129843</td>\n",
       "      <td>0.543343</td>\n",
       "      <td>0.286256</td>\n",
       "    </tr>\n",
       "    <tr>\n",
       "      <th>8</th>\n",
       "      <td>0.025066</td>\n",
       "      <td>0.711115</td>\n",
       "      <td>0.055261</td>\n",
       "    </tr>\n",
       "    <tr>\n",
       "      <th>9</th>\n",
       "      <td>0.905390</td>\n",
       "      <td>0.997381</td>\n",
       "      <td>1.996042</td>\n",
       "    </tr>\n",
       "  </tbody>\n",
       "</table>\n",
       "</div>"
      ],
      "text/latex": [
       "\\begin{tabular}{lrrr}\n",
       "\\toprule\n",
       "{} &    x [kg] &   y [m/s] &   x [lbs] \\\\\n",
       "\\midrule\n",
       "0 &  0.723936 &  0.615298 &  1.596005 \\\\\n",
       "1 &  0.129603 &  0.015849 &  0.285725 \\\\\n",
       "2 &  0.962421 &  0.472037 &  2.121775 \\\\\n",
       "3 &  0.783062 &  0.054399 &  1.726357 \\\\\n",
       "4 &  0.928368 &  0.122310 &  2.046701 \\\\\n",
       "5 &  0.601486 &  0.548122 &  1.326049 \\\\\n",
       "6 &  0.516022 &  0.940956 &  1.137633 \\\\\n",
       "7 &  0.129843 &  0.543343 &  0.286256 \\\\\n",
       "8 &  0.025066 &  0.711115 &  0.055261 \\\\\n",
       "9 &  0.905390 &  0.997381 &  1.996042 \\\\\n",
       "\\bottomrule\n",
       "\\end{tabular}\n"
      ],
      "text/plain": [
       "     x [kg]   y [m/s]   x [lbs]\n",
       "0  0.723936  0.615298  1.596005\n",
       "1  0.129603  0.015849  0.285725\n",
       "2  0.962421  0.472037  2.121775\n",
       "3  0.783062  0.054399  1.726357\n",
       "4  0.928368  0.122310  2.046701\n",
       "5  0.601486  0.548122  1.326049\n",
       "6  0.516022  0.940956  1.137633\n",
       "7  0.129843  0.543343  0.286256\n",
       "8  0.025066  0.711115  0.055261\n",
       "9  0.905390  0.997381  1.996042"
      ]
     },
     "execution_count": 4,
     "metadata": {},
     "output_type": "execute_result"
    }
   ],
   "source": [
    "df = pd.DataFrame(np.random.rand(10, 2), columns=['x [kg]', 'y [m/s]'])\n",
    "\n",
    "df['x [lbs]'] = Q(df['x [kg]'], 'kg').to('lbs')\n",
    "\n",
    "df"
   ]
  }
 ],
 "metadata": {
  "hide_input": false,
  "kernelspec": {
   "display_name": "Python 3",
   "language": "python",
   "name": "python3"
  },
  "language_info": {
   "codemirror_mode": {
    "name": "ipython",
    "version": 3
   },
   "file_extension": ".py",
   "mimetype": "text/x-python",
   "name": "python",
   "nbconvert_exporter": "python",
   "pygments_lexer": "ipython3",
   "version": "3.9.4"
  },
  "toc": {
   "base_numbering": 1,
   "nav_menu": {},
   "number_sections": true,
   "sideBar": true,
   "skip_h1_title": false,
   "title_cell": "Table of Contents",
   "title_sidebar": "Contents",
   "toc_cell": false,
   "toc_position": {},
   "toc_section_display": true,
   "toc_window_display": false
  }
 },
 "nbformat": 4,
 "nbformat_minor": 5
}
