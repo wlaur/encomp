{
 "cells": [
  {
   "cell_type": "code",
   "execution_count": 1,
   "id": "85550f14-d970-4f06-93b6-dd0e7268549c",
   "metadata": {
    "execution": {
     "iopub.execute_input": "2022-07-06T16:19:13.775737Z",
     "iopub.status.busy": "2022-07-06T16:19:13.775332Z",
     "iopub.status.idle": "2022-07-06T16:19:13.809310Z",
     "shell.execute_reply": "2022-07-06T16:19:13.807675Z",
     "shell.execute_reply.started": "2022-07-06T16:19:13.775652Z"
    },
    "tags": []
   },
   "outputs": [],
   "source": [
    "%load_ext autoreload\n",
    "%autoreload 2"
   ]
  },
  {
   "cell_type": "code",
   "execution_count": 2,
   "id": "7829b981",
   "metadata": {
    "ExecuteTime": {
     "end_time": "2021-08-01T08:00:28.106024Z",
     "start_time": "2021-08-01T08:00:28.077001Z"
    },
    "execution": {
     "iopub.execute_input": "2022-07-06T16:19:13.811645Z",
     "iopub.status.busy": "2022-07-06T16:19:13.810738Z",
     "iopub.status.idle": "2022-07-06T16:19:13.820376Z",
     "shell.execute_reply": "2022-07-06T16:19:13.819134Z",
     "shell.execute_reply.started": "2022-07-06T16:19:13.811622Z"
    },
    "tags": []
   },
   "outputs": [],
   "source": [
    "import sys\n",
    "sys.path.insert(0, '../..')"
   ]
  },
  {
   "cell_type": "markdown",
   "id": "a0468a07",
   "metadata": {
    "tags": []
   },
   "source": [
    "# Test notebook\n"
   ]
  },
  {
   "cell_type": "code",
   "execution_count": 3,
   "id": "4435bdfc-f315-4745-aacd-51ac8bf52ab8",
   "metadata": {
    "execution": {
     "iopub.execute_input": "2022-07-06T16:19:13.821453Z",
     "iopub.status.busy": "2022-07-06T16:19:13.821247Z",
     "iopub.status.idle": "2022-07-06T16:19:13.936000Z",
     "shell.execute_reply": "2022-07-06T16:19:13.935219Z",
     "shell.execute_reply.started": "2022-07-06T16:19:13.821437Z"
    },
    "tags": []
   },
   "outputs": [
    {
     "data": {
      "text/plain": [
       "('0.5.0',\n",
       " \"<module 'encomp' from '/mnt/c/Users/williaml/repos/encomp/docs/notebooks/../../encomp/__init__.py'>\")"
      ]
     },
     "execution_count": 3,
     "metadata": {},
     "output_type": "execute_result"
    }
   ],
   "source": [
    "import encomp\n",
    "encomp.__version__, str(encomp)"
   ]
  },
  {
   "cell_type": "code",
   "execution_count": 4,
   "id": "74bd0732-26f0-414a-8e44-250baf7a6bfe",
   "metadata": {
    "execution": {
     "iopub.execute_input": "2022-07-06T16:19:13.939026Z",
     "iopub.status.busy": "2022-07-06T16:19:13.938255Z",
     "iopub.status.idle": "2022-07-06T16:19:15.526291Z",
     "shell.execute_reply": "2022-07-06T16:19:15.525248Z",
     "shell.execute_reply.started": "2022-07-06T16:19:13.939001Z"
    },
    "tags": []
   },
   "outputs": [],
   "source": [
    "from encomp.utypes import Pressure, Temperature, Mass, NormalVolumeFlow, MassFlow\n",
    "from encomp.units import Quantity as Q"
   ]
  },
  {
   "cell_type": "code",
   "execution_count": 5,
   "id": "5e393c1c-1714-4ed9-a700-6c5f10341b1b",
   "metadata": {
    "execution": {
     "iopub.execute_input": "2022-07-06T16:19:15.527941Z",
     "iopub.status.busy": "2022-07-06T16:19:15.527531Z",
     "iopub.status.idle": "2022-07-06T16:19:15.735958Z",
     "shell.execute_reply": "2022-07-06T16:19:15.735311Z",
     "shell.execute_reply.started": "2022-07-06T16:19:15.527910Z"
    },
    "tags": []
   },
   "outputs": [],
   "source": [
    "from encomp.tests.test_units import test_Q\n",
    "test_Q()"
   ]
  },
  {
   "cell_type": "code",
   "execution_count": 7,
   "id": "4edbd1fc-b3c6-4fb0-a1a7-0147665bc9df",
   "metadata": {
    "execution": {
     "iopub.execute_input": "2022-07-06T16:19:53.239516Z",
     "iopub.status.busy": "2022-07-06T16:19:53.239245Z",
     "iopub.status.idle": "2022-07-06T16:19:53.260393Z",
     "shell.execute_reply": "2022-07-06T16:19:53.259407Z",
     "shell.execute_reply.started": "2022-07-06T16:19:53.239499Z"
    }
   },
   "outputs": [
    {
     "data": {
      "text/plain": [
       "['__bound__',\n",
       " '__class__',\n",
       " '__constraints__',\n",
       " '__contravariant__',\n",
       " '__copy__',\n",
       " '__covariant__',\n",
       " '__deepcopy__',\n",
       " '__delattr__',\n",
       " '__dict__',\n",
       " '__dir__',\n",
       " '__doc__',\n",
       " '__eq__',\n",
       " '__format__',\n",
       " '__ge__',\n",
       " '__getattribute__',\n",
       " '__gt__',\n",
       " '__hash__',\n",
       " '__init__',\n",
       " '__init_subclass__',\n",
       " '__le__',\n",
       " '__lt__',\n",
       " '__module__',\n",
       " '__name__',\n",
       " '__ne__',\n",
       " '__new__',\n",
       " '__reduce__',\n",
       " '__reduce_ex__',\n",
       " '__repr__',\n",
       " '__setattr__',\n",
       " '__sizeof__',\n",
       " '__slots__',\n",
       " '__str__',\n",
       " '__subclasshook__',\n",
       " '__weakref__']"
      ]
     },
     "execution_count": 7,
     "metadata": {},
     "output_type": "execute_result"
    }
   ],
   "source": [
    "from typing import TypeVar\n",
    "\n",
    "\n",
    "dir(TypeVar)"
   ]
  },
  {
   "cell_type": "code",
   "execution_count": 13,
   "id": "f4e7dd7f-5821-4288-a1e1-ba8b48bd8f8f",
   "metadata": {
    "execution": {
     "iopub.execute_input": "2022-07-06T16:37:49.172820Z",
     "iopub.status.busy": "2022-07-06T16:37:49.172593Z",
     "iopub.status.idle": "2022-07-06T16:37:49.196839Z",
     "shell.execute_reply": "2022-07-06T16:37:49.196270Z",
     "shell.execute_reply.started": "2022-07-06T16:37:49.172806Z"
    },
    "tags": []
   },
   "outputs": [
    {
     "data": {
      "text/plain": [
       "False"
      ]
     },
     "execution_count": 13,
     "metadata": {},
     "output_type": "execute_result"
    }
   ],
   "source": [
    "isinstance(Q(25, 'degC'), (Q[Mass], Q[MassFlow]))"
   ]
  },
  {
   "cell_type": "code",
   "execution_count": 6,
   "id": "a0e7aab3-2dfe-46f7-88f7-edad2e9d21d3",
   "metadata": {
    "execution": {
     "iopub.execute_input": "2022-07-06T16:19:15.737042Z",
     "iopub.status.busy": "2022-07-06T16:19:15.736876Z",
     "iopub.status.idle": "2022-07-06T16:19:15.770951Z",
     "shell.execute_reply": "2022-07-06T16:19:15.770047Z",
     "shell.execute_reply.started": "2022-07-06T16:19:15.737028Z"
    },
    "tags": []
   },
   "outputs": [
    {
     "data": {
      "text/plain": [
       "False"
      ]
     },
     "execution_count": 6,
     "metadata": {},
     "output_type": "execute_result"
    }
   ],
   "source": [
    "m = Q[MassFlow](1, 'kg/s')\n",
    "n = Q[NormalVolumeFlow](1, 'Nm^3/h')\n",
    "d = Q(25)\n",
    "s_int = 5\n",
    "s_float = 0.1\n",
    "\n",
    "m == None"
   ]
  }
 ],
 "metadata": {
  "hide_input": false,
  "kernelspec": {
   "display_name": "Python 3 (ipykernel)",
   "language": "python",
   "name": "python3"
  },
  "language_info": {
   "codemirror_mode": {
    "name": "ipython",
    "version": 3
   },
   "file_extension": ".py",
   "mimetype": "text/x-python",
   "name": "python",
   "nbconvert_exporter": "python",
   "pygments_lexer": "ipython3",
   "version": "3.9.13"
  },
  "toc": {
   "base_numbering": 1,
   "nav_menu": {},
   "number_sections": true,
   "sideBar": true,
   "skip_h1_title": false,
   "title_cell": "Table of Contents",
   "title_sidebar": "Contents",
   "toc_cell": false,
   "toc_position": {},
   "toc_section_display": true,
   "toc_window_display": false
  }
 },
 "nbformat": 4,
 "nbformat_minor": 5
}
