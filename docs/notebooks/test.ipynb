{
 "cells": [
  {
   "cell_type": "code",
   "execution_count": 1,
   "id": "85550f14-d970-4f06-93b6-dd0e7268549c",
   "metadata": {
    "tags": []
   },
   "outputs": [],
   "source": [
    "%load_ext autoreload\n",
    "%autoreload 2"
   ]
  },
  {
   "cell_type": "code",
   "execution_count": 2,
   "id": "7829b981",
   "metadata": {
    "ExecuteTime": {
     "end_time": "2021-08-01T08:00:28.106024Z",
     "start_time": "2021-08-01T08:00:28.077001Z"
    },
    "tags": []
   },
   "outputs": [],
   "source": [
    "from pathlib import Path\n",
    "import sys\n",
    "sys.path.insert(0, '../..')"
   ]
  },
  {
   "cell_type": "markdown",
   "id": "a0468a07",
   "metadata": {
    "tags": []
   },
   "source": [
    "# Test notebook\n"
   ]
  },
  {
   "cell_type": "code",
   "execution_count": 3,
   "id": "4435bdfc-f315-4745-aacd-51ac8bf52ab8",
   "metadata": {
    "tags": []
   },
   "outputs": [
    {
     "data": {
      "text/plain": [
       "('0.7.0',\n",
       " \"<module 'encomp' from 'C:\\\\\\\\Users\\\\\\\\williaml\\\\\\\\repos\\\\\\\\encomp\\\\\\\\docs\\\\\\\\notebooks\\\\\\\\../..\\\\\\\\encomp\\\\\\\\__init__.py'>\")"
      ]
     },
     "execution_count": 3,
     "metadata": {},
     "output_type": "execute_result"
    }
   ],
   "source": [
    "import encomp\n",
    "encomp.__version__, str(encomp)"
   ]
  },
  {
   "cell_type": "code",
   "execution_count": 4,
   "id": "43ca8b8d-3ce7-45e0-a792-6bbcaa955093",
   "metadata": {},
   "outputs": [
    {
     "data": {
      "text/plain": [
       "(False, True)"
      ]
     },
     "execution_count": 4,
     "metadata": {},
     "output_type": "execute_result"
    }
   ],
   "source": [
    "from pint.facets.plain.unit import PlainUnit\n",
    "u = PlainUnit('kg')\n",
    "\n",
    "from encomp.units import Unit\n",
    "\n",
    "isinstance(u, Unit), isinstance(Unit(u), Unit)"
   ]
  },
  {
   "cell_type": "code",
   "execution_count": 5,
   "id": "9d832c3c-d2c3-4980-b0da-3437734eed17",
   "metadata": {
    "tags": []
   },
   "outputs": [],
   "source": [
    "from encomp.units import Quantity as Q\n",
    "from encomp.utypes import *"
   ]
  },
  {
   "cell_type": "code",
   "execution_count": 6,
   "id": "ba6d913a-b1b8-4c5f-be02-60ee526132f0",
   "metadata": {},
   "outputs": [
    {
     "data": {
      "text/plain": [
       "encomp.units.Unit"
      ]
     },
     "execution_count": 6,
     "metadata": {},
     "output_type": "execute_result"
    }
   ],
   "source": [
    "type(Q.get_unit('kg'))"
   ]
  },
  {
   "cell_type": "code",
   "execution_count": 7,
   "id": "f62f3f1c-3306-4d7b-8f84-869f04a35874",
   "metadata": {},
   "outputs": [
    {
     "data": {
      "text/plain": [
       "encomp.units.Unit"
      ]
     },
     "execution_count": 7,
     "metadata": {},
     "output_type": "execute_result"
    }
   ],
   "source": [
    "type(Q(1, 'kg').u)"
   ]
  },
  {
   "cell_type": "code",
   "execution_count": null,
   "id": "fd77b2dc-6d4d-46ab-9694-d350a45f031f",
   "metadata": {},
   "outputs": [],
   "source": []
  }
 ],
 "metadata": {
  "hide_input": false,
  "kernelspec": {
   "display_name": "Python 3 (ipykernel)",
   "language": "python",
   "name": "python3"
  },
  "language_info": {
   "codemirror_mode": {
    "name": "ipython",
    "version": 3
   },
   "file_extension": ".py",
   "mimetype": "text/x-python",
   "name": "python",
   "nbconvert_exporter": "python",
   "pygments_lexer": "ipython3",
   "version": "3.10.6"
  },
  "toc": {
   "base_numbering": 1,
   "nav_menu": {},
   "number_sections": true,
   "sideBar": true,
   "skip_h1_title": false,
   "title_cell": "Table of Contents",
   "title_sidebar": "Contents",
   "toc_cell": false,
   "toc_position": {},
   "toc_section_display": true,
   "toc_window_display": false
  }
 },
 "nbformat": 4,
 "nbformat_minor": 5
}
