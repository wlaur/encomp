{
 "cells": [
  {
   "cell_type": "code",
   "execution_count": 1,
   "id": "85550f14-d970-4f06-93b6-dd0e7268549c",
   "metadata": {
    "tags": []
   },
   "outputs": [],
   "source": [
    "%load_ext autoreload\n",
    "%autoreload 2"
   ]
  },
  {
   "cell_type": "code",
   "execution_count": 2,
   "id": "7829b981",
   "metadata": {
    "ExecuteTime": {
     "end_time": "2021-08-01T08:00:28.106024Z",
     "start_time": "2021-08-01T08:00:28.077001Z"
    },
    "tags": []
   },
   "outputs": [],
   "source": [
    "from pathlib import Path\n",
    "import sys\n",
    "\n",
    "sys.path.insert(0, str(Path(\"../..\").resolve()))"
   ]
  },
  {
   "attachments": {},
   "cell_type": "markdown",
   "id": "a0468a07",
   "metadata": {
    "tags": []
   },
   "source": [
    "# Test notebook\n"
   ]
  },
  {
   "cell_type": "code",
   "execution_count": 3,
   "id": "4435bdfc-f315-4745-aacd-51ac8bf52ab8",
   "metadata": {
    "tags": []
   },
   "outputs": [
    {
     "data": {
      "text/plain": [
       "('0.9.1',\n",
       " <module 'encomp' from '/home/williaml@indmeas.local/repos/encomp/encomp/__init__.py'>)"
      ]
     },
     "execution_count": 3,
     "metadata": {},
     "output_type": "execute_result"
    }
   ],
   "source": [
    "import encomp\n",
    "\n",
    "encomp.__version__, encomp"
   ]
  },
  {
   "cell_type": "code",
   "execution_count": 4,
   "id": "3ceb6d5e-6eb1-48ff-acce-2df43888556c",
   "metadata": {},
   "outputs": [],
   "source": [
    "from encomp.units import Quantity as Q\n",
    "from encomp.utypes import *\n",
    "import numpy as np\n",
    "import pandas as pd"
   ]
  },
  {
   "cell_type": "code",
   "execution_count": 5,
   "id": "2d5d0c64",
   "metadata": {},
   "outputs": [
    {
     "data": {
      "text/plain": [
       "2021-01-01    1.0\n",
       "2021-01-02    2.0\n",
       "2021-01-03    3.0\n",
       "Name: s1, dtype: float64"
      ]
     },
     "execution_count": 5,
     "metadata": {},
     "output_type": "execute_result"
    }
   ],
   "source": [
    "index = pd.DatetimeIndex([\"2021-01-01\", \"2021-01-02\", \"2021-01-03\"])\n",
    "\n",
    "s1 = pd.Series([1, 2, 3], name=\"s1\", index=index)\n",
    "s2 = pd.Series([1, 2, 3], name=\"s2\", index=index)\n",
    "\n",
    "q1 = Q(s1, \"kg\")\n",
    "q2 = Q(s2, \"kg\")\n",
    "\n",
    "q1.m"
   ]
  },
  {
   "cell_type": "code",
   "execution_count": 6,
   "id": "37685d29",
   "metadata": {},
   "outputs": [
    {
     "data": {
      "text/plain": [
       "array([1412.07566785, 1416.83223463, 1421.47730404])"
      ]
     },
     "execution_count": 6,
     "metadata": {},
     "output_type": "execute_result"
    }
   ],
   "source": [
    "from encomp.fluids import Fluid, Water\n",
    "\n",
    "\n",
    "f = Fluid(\"water\", P=Q([1, 2, 3], \"kPa\"), T=Q([2, 3, 4], \"degC\"))\n",
    "\n",
    "f.A.m"
   ]
  },
  {
   "cell_type": "code",
   "execution_count": 7,
   "id": "2ad424e0",
   "metadata": {},
   "outputs": [
    {
     "data": {
      "text/plain": [
       "1426.0098245341437"
      ]
     },
     "execution_count": 7,
     "metadata": {},
     "output_type": "execute_result"
    }
   ],
   "source": [
    "f = Fluid(\"water\", P=Q(2, \"kPa\"), T=Q(5, \"degC\"))\n",
    "\n",
    "f.A.m"
   ]
  },
  {
   "cell_type": "code",
   "execution_count": 8,
   "id": "54f3e18d",
   "metadata": {},
   "outputs": [
    {
     "data": {
      "text/plain": [
       "array([647.096, 647.096, 647.096])"
      ]
     },
     "execution_count": 8,
     "metadata": {},
     "output_type": "execute_result"
    }
   ],
   "source": [
    "w = Water(P=Q([2, 3, 4], \"kPa\"), T=Q([2, 3, 4], \"degC\"))\n",
    "\n",
    "w.T_REDUCING.m"
   ]
  },
  {
   "cell_type": "code",
   "execution_count": 10,
   "id": "087c9cdf",
   "metadata": {},
   "outputs": [
    {
     "data": {
      "text/html": [
       "<table><tbody><tr><th>Magnitude</th><td style='text-align:left;'><pre>[1.0]</pre></td></tr><tr><th>Units</th><td style='text-align:left;'>kg</td></tr></tbody></table>"
      ],
      "text/latex": [
       "$\\begin{pmatrix}1.0\\end{pmatrix}\\ \\mathrm{kg}$"
      ],
      "text/plain": [
       "<Quantity([1.], 'kilogram')>"
      ]
     },
     "execution_count": 10,
     "metadata": {},
     "output_type": "execute_result"
    }
   ],
   "source": [
    "from encomp.utypes import Mass\n",
    "\n",
    "aa = Q(25, \"kg\").asdim(Mass).astype(np.ndarray)\n",
    "\n",
    "b = aa.astype(bool)"
   ]
  }
 ],
 "metadata": {
  "hide_input": false,
  "kernelspec": {
   "display_name": "Python 3 (ipykernel)",
   "language": "python",
   "name": "python3"
  },
  "language_info": {
   "codemirror_mode": {
    "name": "ipython",
    "version": 3
   },
   "file_extension": ".py",
   "mimetype": "text/x-python",
   "name": "python",
   "nbconvert_exporter": "python",
   "pygments_lexer": "ipython3",
   "version": "3.11.3"
  },
  "toc": {
   "base_numbering": 1,
   "nav_menu": {},
   "number_sections": true,
   "sideBar": true,
   "skip_h1_title": false,
   "title_cell": "Table of Contents",
   "title_sidebar": "Contents",
   "toc_cell": false,
   "toc_position": {},
   "toc_section_display": true,
   "toc_window_display": false
  }
 },
 "nbformat": 4,
 "nbformat_minor": 5
}
