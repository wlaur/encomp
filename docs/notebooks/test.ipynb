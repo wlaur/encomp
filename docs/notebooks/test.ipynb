{
 "cells": [
  {
   "cell_type": "code",
   "execution_count": 1,
   "id": "7829b981",
   "metadata": {
    "ExecuteTime": {
     "end_time": "2021-07-30T09:41:04.926516Z",
     "start_time": "2021-07-30T09:41:04.882330Z"
    }
   },
   "outputs": [],
   "source": [
    "import sys\n",
    "sys.path.insert(0, '../..')"
   ]
  },
  {
   "cell_type": "markdown",
   "id": "a0468a07",
   "metadata": {},
   "source": [
    "# Test notebook\n"
   ]
  },
  {
   "cell_type": "code",
   "execution_count": null,
   "id": "459d01cb",
   "metadata": {
    "ExecuteTime": {
     "end_time": "2021-07-30T09:41:06.121581Z",
     "start_time": "2021-07-30T09:41:06.121581Z"
    }
   },
   "outputs": [],
   "source": [
    "from dataclasses import dataclass\n",
    "import numpy as np\n",
    "import pandas as pd \n",
    "import json\n",
    "\n",
    "from encomp.serialize import serialize, decode\n",
    "from encomp.units import Q"
   ]
  },
  {
   "cell_type": "code",
   "execution_count": null,
   "id": "dc751a5a",
   "metadata": {
    "ExecuteTime": {
     "end_time": "2021-07-30T09:41:06.123584Z",
     "start_time": "2021-07-30T09:41:06.123584Z"
    }
   },
   "outputs": [],
   "source": [
    "@dataclass\n",
    "class CustomOtherClass:\n",
    "\n",
    "    s: pd.Series\n",
    "    df: pd.DataFrame\n",
    "\n",
    "    @classmethod\n",
    "    def from_dict(cls, d):\n",
    "        return cls(**d)\n",
    "\n",
    "    def to_json(self):\n",
    "\n",
    "        return json.dumps(serialize(self.__dict__))\n",
    "    \n",
    "    \n",
    "@dataclass\n",
    "class CustomClass:\n",
    "\n",
    "    arr: np.ndarray\n",
    "    name: str\n",
    "        \n",
    "    nested: CustomOtherClass\n",
    "\n",
    "    @classmethod\n",
    "    def from_dict(cls, d):\n",
    "        return cls(**d)\n",
    "\n",
    "    def to_json(self):\n",
    "        return self.__dict__\n",
    "\n",
    "    \n",
    "    \n",
    "s = pd.Series(np.random.rand(10), name='test')\n",
    "df = pd.DataFrame(np.random.rand(5, 5), columns=['A', 2, '3', '4', '5'])\n",
    "\n",
    "a = CustomClass(arr=np.random.rand(19, 2), name='asd', \n",
    "               nested=CustomOtherClass(s=s, df=df))\n",
    "\n",
    "json = serialize(a)\n",
    "\n",
    "a_decoded = decode(json, custom=[CustomClass, CustomOtherClass])\n",
    "\n",
    "assert (a_decoded.nested.df - df).max().max() < 1e-10"
   ]
  },
  {
   "cell_type": "code",
   "execution_count": null,
   "id": "eee4939b",
   "metadata": {
    "ExecuteTime": {
     "end_time": "2021-07-30T09:41:06.124582Z",
     "start_time": "2021-07-30T09:41:06.124582Z"
    }
   },
   "outputs": [],
   "source": [
    "a_decoded"
   ]
  }
 ],
 "metadata": {
  "hide_input": false,
  "kernelspec": {
   "display_name": "Python 3 (ipykernel)",
   "language": "python",
   "name": "python3"
  },
  "language_info": {
   "codemirror_mode": {
    "name": "ipython",
    "version": 3
   },
   "file_extension": ".py",
   "mimetype": "text/x-python",
   "name": "python",
   "nbconvert_exporter": "python",
   "pygments_lexer": "ipython3",
   "version": "3.9.6"
  },
  "toc": {
   "base_numbering": 1,
   "nav_menu": {},
   "number_sections": true,
   "sideBar": true,
   "skip_h1_title": false,
   "title_cell": "Table of Contents",
   "title_sidebar": "Contents",
   "toc_cell": false,
   "toc_position": {},
   "toc_section_display": true,
   "toc_window_display": false
  }
 },
 "nbformat": 4,
 "nbformat_minor": 5
}
