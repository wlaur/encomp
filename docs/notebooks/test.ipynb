{
 "cells": [
  {
   "cell_type": "code",
   "execution_count": 1,
   "id": "85550f14-d970-4f06-93b6-dd0e7268549c",
   "metadata": {
    "tags": []
   },
   "outputs": [],
   "source": [
    "%load_ext autoreload\n",
    "%autoreload 2"
   ]
  },
  {
   "cell_type": "code",
   "execution_count": 2,
   "id": "7829b981",
   "metadata": {
    "ExecuteTime": {
     "end_time": "2021-08-01T08:00:28.106024Z",
     "start_time": "2021-08-01T08:00:28.077001Z"
    },
    "tags": []
   },
   "outputs": [],
   "source": [
    "from pathlib import Path\n",
    "import sys\n",
    "sys.path.insert(0, '../..')"
   ]
  },
  {
   "cell_type": "markdown",
   "id": "a0468a07",
   "metadata": {
    "tags": []
   },
   "source": [
    "# Test notebook\n"
   ]
  },
  {
   "cell_type": "code",
   "execution_count": 3,
   "id": "4435bdfc-f315-4745-aacd-51ac8bf52ab8",
   "metadata": {
    "tags": []
   },
   "outputs": [
    {
     "data": {
      "text/plain": [
       "('0.7.0',\n",
       " \"<module 'encomp' from 'C:\\\\\\\\Users\\\\\\\\williaml\\\\\\\\repos\\\\\\\\encomp\\\\\\\\docs\\\\\\\\notebooks\\\\\\\\../..\\\\\\\\encomp\\\\\\\\__init__.py'>\")"
      ]
     },
     "execution_count": 3,
     "metadata": {},
     "output_type": "execute_result"
    }
   ],
   "source": [
    "import encomp\n",
    "encomp.__version__, str(encomp)"
   ]
  },
  {
   "cell_type": "code",
   "execution_count": 4,
   "id": "9d832c3c-d2c3-4980-b0da-3437734eed17",
   "metadata": {
    "tags": []
   },
   "outputs": [
    {
     "ename": "DefinitionSyntaxError",
     "evalue": "Derived dimensions cannot have aliases.\n    248,0-248,40 [velocity] = [length] / [time] = [speed]\n    C:\\Users\\williaml\\repos\\encomp\\encomp\\data\\constants.txt",
     "output_type": "error",
     "traceback": [
      "\u001b[1;31m---------------------------------------------------------------------------\u001b[0m",
      "\u001b[1;31mDefinitionSyntaxError\u001b[0m                     Traceback (most recent call last)",
      "Cell \u001b[1;32mIn [4], line 1\u001b[0m\n\u001b[1;32m----> 1\u001b[0m \u001b[38;5;28;01mfrom\u001b[39;00m \u001b[38;5;21;01mencomp\u001b[39;00m\u001b[38;5;21;01m.\u001b[39;00m\u001b[38;5;21;01munits\u001b[39;00m \u001b[38;5;28;01mimport\u001b[39;00m Quantity \u001b[38;5;28;01mas\u001b[39;00m Q\n\u001b[0;32m      2\u001b[0m \u001b[38;5;28;01mfrom\u001b[39;00m \u001b[38;5;21;01mencomp\u001b[39;00m\u001b[38;5;21;01m.\u001b[39;00m\u001b[38;5;21;01mutypes\u001b[39;00m \u001b[38;5;28;01mimport\u001b[39;00m \u001b[38;5;241m*\u001b[39m\n",
      "File \u001b[1;32m~\\repos\\encomp\\docs\\notebooks\\../..\\encomp\\units.py:137\u001b[0m\n\u001b[0;32m    135\u001b[0m ureg: UnitRegistry \u001b[38;5;241m=\u001b[39m _LazyRegistry()  \u001b[38;5;66;03m# type: ignore\u001b[39;00m\n\u001b[0;32m    136\u001b[0m \u001b[38;5;28;01mfor\u001b[39;00m k, v \u001b[38;5;129;01min\u001b[39;00m _REGISTRY_STATIC_OPTIONS\u001b[38;5;241m.\u001b[39mitems():\n\u001b[1;32m--> 137\u001b[0m     \u001b[38;5;28;43msetattr\u001b[39;49m\u001b[43m(\u001b[49m\u001b[43mureg\u001b[49m\u001b[43m,\u001b[49m\u001b[43m \u001b[49m\u001b[43mk\u001b[49m\u001b[43m,\u001b[49m\u001b[43m \u001b[49m\u001b[43mv\u001b[49m\u001b[43m)\u001b[49m\n\u001b[0;32m    139\u001b[0m \u001b[38;5;66;03m# make sure that ureg is the only registry that can be used\u001b[39;00m\n\u001b[0;32m    140\u001b[0m pint\u001b[38;5;241m.\u001b[39m_DEFAULT_REGISTRY \u001b[38;5;241m=\u001b[39m ureg  \u001b[38;5;66;03m# type: ignore\u001b[39;00m\n",
      "File \u001b[1;32m~\\Miniconda3\\envs\\encomp-env\\lib\\site-packages\\pint\\registry.py:164\u001b[0m, in \u001b[0;36mLazyRegistry.__setattr__\u001b[1;34m(self, key, value)\u001b[0m\n\u001b[0;32m    162\u001b[0m     \u001b[38;5;28msuper\u001b[39m()\u001b[38;5;241m.\u001b[39m\u001b[38;5;21m__setattr__\u001b[39m(key, value)\n\u001b[0;32m    163\u001b[0m \u001b[38;5;28;01melse\u001b[39;00m:\n\u001b[1;32m--> 164\u001b[0m     \u001b[38;5;28;43mself\u001b[39;49m\u001b[38;5;241;43m.\u001b[39;49m\u001b[43m__init\u001b[49m\u001b[43m(\u001b[49m\u001b[43m)\u001b[49m\n\u001b[0;32m    165\u001b[0m     \u001b[38;5;28msetattr\u001b[39m(\u001b[38;5;28mself\u001b[39m, key, value)\n",
      "File \u001b[1;32m~\\repos\\encomp\\docs\\notebooks\\../..\\encomp\\units.py:132\u001b[0m, in \u001b[0;36m_LazyRegistry.__init\u001b[1;34m(self)\u001b[0m\n\u001b[0;32m    130\u001b[0m \u001b[38;5;28mself\u001b[39m\u001b[38;5;241m.\u001b[39m\u001b[38;5;18m__class__\u001b[39m \u001b[38;5;241m=\u001b[39m _UnitRegistry\n\u001b[0;32m    131\u001b[0m \u001b[38;5;28mself\u001b[39m\u001b[38;5;241m.\u001b[39m\u001b[38;5;21m__init__\u001b[39m(\u001b[38;5;241m*\u001b[39margs, \u001b[38;5;241m*\u001b[39m\u001b[38;5;241m*\u001b[39mkwargs)\n\u001b[1;32m--> 132\u001b[0m \u001b[38;5;28;43mself\u001b[39;49m\u001b[38;5;241;43m.\u001b[39;49m\u001b[43m_after_init\u001b[49m\u001b[43m(\u001b[49m\u001b[43m)\u001b[49m\n",
      "File \u001b[1;32m~\\Miniconda3\\envs\\encomp-env\\lib\\site-packages\\pint\\facets\\system\\registry.py:78\u001b[0m, in \u001b[0;36mSystemRegistry._after_init\u001b[1;34m(self)\u001b[0m\n\u001b[0;32m     72\u001b[0m \u001b[38;5;28;01mdef\u001b[39;00m \u001b[38;5;21m_after_init\u001b[39m(\u001b[38;5;28mself\u001b[39m) \u001b[38;5;241m-\u001b[39m\u001b[38;5;241m>\u001b[39m \u001b[38;5;28;01mNone\u001b[39;00m:\n\u001b[0;32m     73\u001b[0m     \u001b[38;5;124;03m\"\"\"Invoked at the end of ``__init__``.\u001b[39;00m\n\u001b[0;32m     74\u001b[0m \n\u001b[0;32m     75\u001b[0m \u001b[38;5;124;03m    - Create default group and add all orphan units to it\u001b[39;00m\n\u001b[0;32m     76\u001b[0m \u001b[38;5;124;03m    - Set default system\u001b[39;00m\n\u001b[0;32m     77\u001b[0m \u001b[38;5;124;03m    \"\"\"\u001b[39;00m\n\u001b[1;32m---> 78\u001b[0m     \u001b[38;5;28;43msuper\u001b[39;49m\u001b[43m(\u001b[49m\u001b[43m)\u001b[49m\u001b[38;5;241;43m.\u001b[39;49m\u001b[43m_after_init\u001b[49m\u001b[43m(\u001b[49m\u001b[43m)\u001b[49m\n\u001b[0;32m     80\u001b[0m     \u001b[38;5;66;03m#: System name to be used by default.\u001b[39;00m\n\u001b[0;32m     81\u001b[0m     \u001b[38;5;28mself\u001b[39m\u001b[38;5;241m.\u001b[39m_default_system \u001b[38;5;241m=\u001b[39m \u001b[38;5;28mself\u001b[39m\u001b[38;5;241m.\u001b[39m_default_system \u001b[38;5;129;01mor\u001b[39;00m \u001b[38;5;28mself\u001b[39m\u001b[38;5;241m.\u001b[39m_defaults\u001b[38;5;241m.\u001b[39mget(\n\u001b[0;32m     82\u001b[0m         \u001b[38;5;124m\"\u001b[39m\u001b[38;5;124msystem\u001b[39m\u001b[38;5;124m\"\u001b[39m, \u001b[38;5;28;01mNone\u001b[39;00m\n\u001b[0;32m     83\u001b[0m     )\n",
      "File \u001b[1;32m~\\Miniconda3\\envs\\encomp-env\\lib\\site-packages\\pint\\facets\\group\\registry.py:61\u001b[0m, in \u001b[0;36mGroupRegistry._after_init\u001b[1;34m(self)\u001b[0m\n\u001b[0;32m     55\u001b[0m \u001b[38;5;28;01mdef\u001b[39;00m \u001b[38;5;21m_after_init\u001b[39m(\u001b[38;5;28mself\u001b[39m) \u001b[38;5;241m-\u001b[39m\u001b[38;5;241m>\u001b[39m \u001b[38;5;28;01mNone\u001b[39;00m:\n\u001b[0;32m     56\u001b[0m     \u001b[38;5;124;03m\"\"\"Invoked at the end of ``__init__``.\u001b[39;00m\n\u001b[0;32m     57\u001b[0m \n\u001b[0;32m     58\u001b[0m \u001b[38;5;124;03m    - Create default group and add all orphan units to it\u001b[39;00m\n\u001b[0;32m     59\u001b[0m \u001b[38;5;124;03m    - Set default system\u001b[39;00m\n\u001b[0;32m     60\u001b[0m \u001b[38;5;124;03m    \"\"\"\u001b[39;00m\n\u001b[1;32m---> 61\u001b[0m     \u001b[38;5;28;43msuper\u001b[39;49m\u001b[43m(\u001b[49m\u001b[43m)\u001b[49m\u001b[38;5;241;43m.\u001b[39;49m\u001b[43m_after_init\u001b[49m\u001b[43m(\u001b[49m\u001b[43m)\u001b[49m\n\u001b[0;32m     63\u001b[0m     \u001b[38;5;66;03m#: Copy units not defined in any group to the default group\u001b[39;00m\n\u001b[0;32m     64\u001b[0m     \u001b[38;5;28;01mif\u001b[39;00m \u001b[38;5;124m\"\u001b[39m\u001b[38;5;124mgroup\u001b[39m\u001b[38;5;124m\"\u001b[39m \u001b[38;5;129;01min\u001b[39;00m \u001b[38;5;28mself\u001b[39m\u001b[38;5;241m.\u001b[39m_defaults:\n",
      "File \u001b[1;32m~\\Miniconda3\\envs\\encomp-env\\lib\\site-packages\\pint\\facets\\plain\\registry.py:299\u001b[0m, in \u001b[0;36mPlainRegistry._after_init\u001b[1;34m(self)\u001b[0m\n\u001b[0;32m    297\u001b[0m     loaded_files \u001b[38;5;241m=\u001b[39m \u001b[38;5;28mself\u001b[39m\u001b[38;5;241m.\u001b[39mload_definitions(path, \u001b[38;5;28;01mTrue\u001b[39;00m)\n\u001b[0;32m    298\u001b[0m \u001b[38;5;28;01melif\u001b[39;00m \u001b[38;5;28mself\u001b[39m\u001b[38;5;241m.\u001b[39m_filename \u001b[38;5;129;01mis\u001b[39;00m \u001b[38;5;129;01mnot\u001b[39;00m \u001b[38;5;28;01mNone\u001b[39;00m:\n\u001b[1;32m--> 299\u001b[0m     loaded_files \u001b[38;5;241m=\u001b[39m \u001b[38;5;28;43mself\u001b[39;49m\u001b[38;5;241;43m.\u001b[39;49m\u001b[43mload_definitions\u001b[49m\u001b[43m(\u001b[49m\u001b[38;5;28;43mself\u001b[39;49m\u001b[38;5;241;43m.\u001b[39;49m\u001b[43m_filename\u001b[49m\u001b[43m)\u001b[49m\n\u001b[0;32m    300\u001b[0m \u001b[38;5;28;01melse\u001b[39;00m:\n\u001b[0;32m    301\u001b[0m     loaded_files \u001b[38;5;241m=\u001b[39m \u001b[38;5;28;01mNone\u001b[39;00m\n",
      "File \u001b[1;32m~\\Miniconda3\\envs\\encomp-env\\lib\\site-packages\\pint\\facets\\plain\\registry.py:521\u001b[0m, in \u001b[0;36mPlainRegistry.load_definitions\u001b[1;34m(self, file, is_resource)\u001b[0m\n\u001b[0;32m    518\u001b[0m \u001b[38;5;28;01melse\u001b[39;00m:\n\u001b[0;32m    519\u001b[0m     parsed_project \u001b[38;5;241m=\u001b[39m \u001b[38;5;28mself\u001b[39m\u001b[38;5;241m.\u001b[39m_def_parser\u001b[38;5;241m.\u001b[39mparse_file(file)\n\u001b[1;32m--> 521\u001b[0m \u001b[38;5;28;01mfor\u001b[39;00m definition \u001b[38;5;129;01min\u001b[39;00m \u001b[38;5;28mself\u001b[39m\u001b[38;5;241m.\u001b[39m_def_parser\u001b[38;5;241m.\u001b[39miter_parsed_project(parsed_project):\n\u001b[0;32m    522\u001b[0m     \u001b[38;5;28mself\u001b[39m\u001b[38;5;241m.\u001b[39m_helper_dispatch_adder(definition)\n\u001b[0;32m    524\u001b[0m \u001b[38;5;28;01mreturn\u001b[39;00m parsed_project\n",
      "File \u001b[1;32m~\\Miniconda3\\envs\\encomp-env\\lib\\site-packages\\pint\\delegates\\txt_defparser\\defparser.py:84\u001b[0m, in \u001b[0;36mDefParser.iter_parsed_project\u001b[1;34m(self, parsed_project)\u001b[0m\n\u001b[0;32m     82\u001b[0m \u001b[38;5;28;01mif\u001b[39;00m \u001b[38;5;28misinstance\u001b[39m(stmt, common\u001b[38;5;241m.\u001b[39mDefinitionSyntaxError):\n\u001b[0;32m     83\u001b[0m     stmt\u001b[38;5;241m.\u001b[39mset_location(last_location)\n\u001b[1;32m---> 84\u001b[0m     \u001b[38;5;28;01mraise\u001b[39;00m stmt\n\u001b[0;32m     85\u001b[0m \u001b[38;5;28;01melif\u001b[39;00m \u001b[38;5;28misinstance\u001b[39m(stmt, block\u001b[38;5;241m.\u001b[39mDirectiveBlock):\n\u001b[0;32m     86\u001b[0m     \u001b[38;5;28;01mfor\u001b[39;00m exc \u001b[38;5;129;01min\u001b[39;00m stmt\u001b[38;5;241m.\u001b[39merrors:\n",
      "\u001b[1;31mDefinitionSyntaxError\u001b[0m: Derived dimensions cannot have aliases.\n    248,0-248,40 [velocity] = [length] / [time] = [speed]\n    C:\\Users\\williaml\\repos\\encomp\\encomp\\data\\constants.txt"
     ]
    }
   ],
   "source": [
    "from encomp.units import Quantity as Q\n",
    "from encomp.utypes import *"
   ]
  }
 ],
 "metadata": {
  "hide_input": false,
  "kernelspec": {
   "display_name": "Python 3 (ipykernel)",
   "language": "python",
   "name": "python3"
  },
  "language_info": {
   "codemirror_mode": {
    "name": "ipython",
    "version": 3
   },
   "file_extension": ".py",
   "mimetype": "text/x-python",
   "name": "python",
   "nbconvert_exporter": "python",
   "pygments_lexer": "ipython3",
   "version": "3.10.6"
  },
  "toc": {
   "base_numbering": 1,
   "nav_menu": {},
   "number_sections": true,
   "sideBar": true,
   "skip_h1_title": false,
   "title_cell": "Table of Contents",
   "title_sidebar": "Contents",
   "toc_cell": false,
   "toc_position": {},
   "toc_section_display": true,
   "toc_window_display": false
  }
 },
 "nbformat": 4,
 "nbformat_minor": 5
}
