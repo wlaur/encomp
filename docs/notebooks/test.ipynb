{
 "cells": [
  {
   "cell_type": "code",
   "execution_count": 1,
   "id": "85550f14-d970-4f06-93b6-dd0e7268549c",
   "metadata": {
    "tags": []
   },
   "outputs": [],
   "source": [
    "%load_ext autoreload\n",
    "%autoreload 2"
   ]
  },
  {
   "cell_type": "code",
   "execution_count": 2,
   "id": "7829b981",
   "metadata": {
    "ExecuteTime": {
     "end_time": "2021-08-01T08:00:28.106024Z",
     "start_time": "2021-08-01T08:00:28.077001Z"
    },
    "tags": []
   },
   "outputs": [],
   "source": [
    "from pathlib import Path\n",
    "import sys\n",
    "\n",
    "sys.path.insert(0, str(Path(\"../..\").resolve()))"
   ]
  },
  {
   "attachments": {},
   "cell_type": "markdown",
   "id": "a0468a07",
   "metadata": {
    "tags": []
   },
   "source": [
    "# Test notebook\n"
   ]
  },
  {
   "cell_type": "code",
   "execution_count": 3,
   "id": "4435bdfc-f315-4745-aacd-51ac8bf52ab8",
   "metadata": {
    "tags": []
   },
   "outputs": [
    {
     "data": {
      "text/plain": [
       "('0.9.2',\n",
       " <module 'encomp' from '/home/williaml@indmeas.local/repos/encomp/encomp/__init__.py'>)"
      ]
     },
     "execution_count": 3,
     "metadata": {},
     "output_type": "execute_result"
    }
   ],
   "source": [
    "import encomp\n",
    "\n",
    "encomp.__version__, encomp"
   ]
  },
  {
   "cell_type": "code",
   "execution_count": 4,
   "id": "3ceb6d5e-6eb1-48ff-acce-2df43888556c",
   "metadata": {},
   "outputs": [],
   "source": [
    "from encomp.units import Quantity as Q\n",
    "from encomp.utypes import *\n",
    "import numpy as np\n",
    "import pandas as pd"
   ]
  },
  {
   "cell_type": "code",
   "execution_count": 5,
   "id": "ba09089b",
   "metadata": {},
   "outputs": [],
   "source": [
    "from encomp.fluids import Fluid, Water"
   ]
  },
  {
   "cell_type": "code",
   "execution_count": 43,
   "id": "d2aa0c06",
   "metadata": {},
   "outputs": [
    {
     "data": {
      "text/plain": [
       "<Fluid \"water\", P=[277 298 274 ...] kPa, T=[500.8 518.1 513.8 ...] °C, D=[0.8 0.8 0.8 ...] kg/m³, V=[0.029 0.029 0.029 ...] cP>"
      ]
     },
     "execution_count": 43,
     "metadata": {},
     "output_type": "execute_result"
    }
   ],
   "source": [
    "N = 100\n",
    "index = pd.date_range(\"2020-01-01\", freq=\"1h\", periods=N)\n",
    "\n",
    "\n",
    "T = Q(pd.Series(np.random.rand(N) * 20 + 500, index=index), \"degC\")\n",
    "P = Q(pd.Series(np.random.rand(N) * 1 + 2, index=index), \"bar\")\n",
    "\n",
    "w = Fluid(\"water\", T=T, P=P)\n",
    "w"
   ]
  }
 ],
 "metadata": {
  "hide_input": false,
  "kernelspec": {
   "display_name": "Python 3 (ipykernel)",
   "language": "python",
   "name": "python3"
  },
  "language_info": {
   "codemirror_mode": {
    "name": "ipython",
    "version": 3
   },
   "file_extension": ".py",
   "mimetype": "text/x-python",
   "name": "python",
   "nbconvert_exporter": "python",
   "pygments_lexer": "ipython3",
   "version": "3.11.3"
  },
  "toc": {
   "base_numbering": 1,
   "nav_menu": {},
   "number_sections": true,
   "sideBar": true,
   "skip_h1_title": false,
   "title_cell": "Table of Contents",
   "title_sidebar": "Contents",
   "toc_cell": false,
   "toc_position": {},
   "toc_section_display": true,
   "toc_window_display": false
  }
 },
 "nbformat": 4,
 "nbformat_minor": 5
}
