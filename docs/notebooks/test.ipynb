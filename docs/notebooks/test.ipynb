{
 "cells": [
  {
   "cell_type": "code",
   "execution_count": 1,
   "id": "85550f14-d970-4f06-93b6-dd0e7268549c",
   "metadata": {
    "execution": {
     "iopub.execute_input": "2022-07-05T15:57:40.132387Z",
     "iopub.status.busy": "2022-07-05T15:57:40.132006Z",
     "iopub.status.idle": "2022-07-05T15:57:40.160653Z",
     "shell.execute_reply": "2022-07-05T15:57:40.159284Z",
     "shell.execute_reply.started": "2022-07-05T15:57:40.132282Z"
    },
    "tags": []
   },
   "outputs": [],
   "source": [
    "%load_ext autoreload\n",
    "%autoreload 2"
   ]
  },
  {
   "cell_type": "code",
   "execution_count": 2,
   "id": "7829b981",
   "metadata": {
    "ExecuteTime": {
     "end_time": "2021-08-01T08:00:28.106024Z",
     "start_time": "2021-08-01T08:00:28.077001Z"
    },
    "execution": {
     "iopub.execute_input": "2022-07-05T15:57:40.161240Z",
     "iopub.status.busy": "2022-07-05T15:57:40.161097Z",
     "iopub.status.idle": "2022-07-05T15:57:40.171825Z",
     "shell.execute_reply": "2022-07-05T15:57:40.171062Z",
     "shell.execute_reply.started": "2022-07-05T15:57:40.161227Z"
    },
    "tags": []
   },
   "outputs": [],
   "source": [
    "import sys\n",
    "sys.path.insert(0, '../..')"
   ]
  },
  {
   "cell_type": "markdown",
   "id": "a0468a07",
   "metadata": {
    "tags": []
   },
   "source": [
    "# Test notebook\n"
   ]
  },
  {
   "cell_type": "code",
   "execution_count": 3,
   "id": "4435bdfc-f315-4745-aacd-51ac8bf52ab8",
   "metadata": {
    "execution": {
     "iopub.execute_input": "2022-07-05T15:57:40.172702Z",
     "iopub.status.busy": "2022-07-05T15:57:40.172543Z",
     "iopub.status.idle": "2022-07-05T15:57:40.241701Z",
     "shell.execute_reply": "2022-07-05T15:57:40.241134Z",
     "shell.execute_reply.started": "2022-07-05T15:57:40.172689Z"
    },
    "tags": []
   },
   "outputs": [
    {
     "data": {
      "text/plain": [
       "('0.5.0',\n",
       " \"<module 'encomp' from '/mnt/c/Users/williaml/repos/encomp/docs/notebooks/../../encomp/__init__.py'>\")"
      ]
     },
     "execution_count": 3,
     "metadata": {},
     "output_type": "execute_result"
    }
   ],
   "source": [
    "import encomp\n",
    "encomp.__version__, str(encomp)"
   ]
  },
  {
   "cell_type": "code",
   "execution_count": 41,
   "id": "aa3c198e-7ea5-4531-a55d-fe23da071895",
   "metadata": {
    "execution": {
     "iopub.execute_input": "2022-07-05T16:17:25.050157Z",
     "iopub.status.busy": "2022-07-05T16:17:25.049933Z",
     "iopub.status.idle": "2022-07-05T16:17:25.864116Z",
     "shell.execute_reply": "2022-07-05T16:17:25.863381Z",
     "shell.execute_reply.started": "2022-07-05T16:17:25.050142Z"
    },
    "tags": []
   },
   "outputs": [],
   "source": [
    "from encomp.tests.test_fluids import *\n",
    "\n",
    "test_invalid_areas()"
   ]
  },
  {
   "cell_type": "code",
   "execution_count": 21,
   "id": "74bd0732-26f0-414a-8e44-250baf7a6bfe",
   "metadata": {
    "execution": {
     "iopub.execute_input": "2022-07-05T15:58:27.843781Z",
     "iopub.status.busy": "2022-07-05T15:58:27.843281Z",
     "iopub.status.idle": "2022-07-05T15:58:27.860069Z",
     "shell.execute_reply": "2022-07-05T15:58:27.859476Z",
     "shell.execute_reply.started": "2022-07-05T15:58:27.843757Z"
    },
    "tags": []
   },
   "outputs": [],
   "source": [
    "from encomp.utypes import Pressure, Temperature, Mass\n",
    "from encomp.units import Quantity as Q"
   ]
  },
  {
   "cell_type": "code",
   "execution_count": 22,
   "id": "43cc2b9a-78ea-42fa-bf2b-570061548e6d",
   "metadata": {
    "execution": {
     "iopub.execute_input": "2022-07-05T15:58:27.981444Z",
     "iopub.status.busy": "2022-07-05T15:58:27.981199Z",
     "iopub.status.idle": "2022-07-05T15:58:28.002649Z",
     "shell.execute_reply": "2022-07-05T15:58:28.001861Z",
     "shell.execute_reply.started": "2022-07-05T15:58:27.981425Z"
    },
    "tags": []
   },
   "outputs": [
    {
     "data": {
      "text/plain": [
       "True"
      ]
     },
     "execution_count": 22,
     "metadata": {},
     "output_type": "execute_result"
    }
   ],
   "source": [
    "isinstance(Q(25, 'bar'), Q[Pressure])"
   ]
  },
  {
   "cell_type": "code",
   "execution_count": 23,
   "id": "9cd277ed-85b1-49e0-b121-89bc11c4d667",
   "metadata": {
    "execution": {
     "iopub.execute_input": "2022-07-05T15:58:28.117987Z",
     "iopub.status.busy": "2022-07-05T15:58:28.117761Z",
     "iopub.status.idle": "2022-07-05T15:58:28.161222Z",
     "shell.execute_reply": "2022-07-05T15:58:28.142550Z",
     "shell.execute_reply.started": "2022-07-05T15:58:28.117970Z"
    },
    "tags": []
   },
   "outputs": [
    {
     "data": {
      "text/plain": [
       "{encomp.utypes.Pressure: encomp.units.Quantity[Pressure],\n",
       " encomp.utypes.Temperature: encomp.units.Quantity[Temperature],\n",
       " encomp.utypes.Mass: encomp.units.Quantity[Mass]}"
      ]
     },
     "execution_count": 23,
     "metadata": {},
     "output_type": "execute_result"
    }
   ],
   "source": [
    "Q._DIMENSIONAL_SUBCLASSES"
   ]
  },
  {
   "cell_type": "code",
   "execution_count": 24,
   "id": "a22fa95c-0ce0-4eb7-9fa2-4232b0c0e4f5",
   "metadata": {
    "ExecuteTime": {
     "end_time": "2021-08-01T08:00:29.602741Z",
     "start_time": "2021-08-01T08:00:28.106998Z"
    },
    "execution": {
     "iopub.execute_input": "2022-07-05T15:58:28.235559Z",
     "iopub.status.busy": "2022-07-05T15:58:28.235313Z",
     "iopub.status.idle": "2022-07-05T15:58:28.250556Z",
     "shell.execute_reply": "2022-07-05T15:58:28.249881Z",
     "shell.execute_reply.started": "2022-07-05T15:58:28.235540Z"
    },
    "tags": []
   },
   "outputs": [],
   "source": [
    "# from encomp.units import Quantity as Q\n",
    "# from encomp.utypes import Temperature\n",
    "# q = Q[Temperature](25, 'C')\n",
    "\n",
    "# type(q), type(Q[Temperature])"
   ]
  },
  {
   "cell_type": "code",
   "execution_count": 25,
   "id": "355ec401-b43d-41fe-aab4-d624de76d5a7",
   "metadata": {
    "execution": {
     "iopub.execute_input": "2022-07-05T15:58:28.351174Z",
     "iopub.status.busy": "2022-07-05T15:58:28.350948Z",
     "iopub.status.idle": "2022-07-05T15:58:28.375515Z",
     "shell.execute_reply": "2022-07-05T15:58:28.374365Z",
     "shell.execute_reply.started": "2022-07-05T15:58:28.351159Z"
    },
    "tags": []
   },
   "outputs": [
    {
     "data": {
      "text/plain": [
       "True"
      ]
     },
     "execution_count": 25,
     "metadata": {},
     "output_type": "execute_result"
    }
   ],
   "source": [
    "isinstance(Q(25, 'bar'), Q[Pressure])"
   ]
  },
  {
   "cell_type": "code",
   "execution_count": 26,
   "id": "27927007-fdcc-49a4-93ed-8436d8ee3579",
   "metadata": {
    "execution": {
     "iopub.execute_input": "2022-07-05T15:58:28.465620Z",
     "iopub.status.busy": "2022-07-05T15:58:28.464974Z",
     "iopub.status.idle": "2022-07-05T15:58:28.489373Z",
     "shell.execute_reply": "2022-07-05T15:58:28.488559Z",
     "shell.execute_reply.started": "2022-07-05T15:58:28.465601Z"
    },
    "tags": []
   },
   "outputs": [
    {
     "data": {
      "text/plain": [
       "False"
      ]
     },
     "execution_count": 26,
     "metadata": {},
     "output_type": "execute_result"
    }
   ],
   "source": [
    "isinstance(Q(25, 'C'), Q[Pressure])"
   ]
  },
  {
   "cell_type": "code",
   "execution_count": 27,
   "id": "ebcdb458-d54b-4419-832b-464dec74904f",
   "metadata": {
    "execution": {
     "iopub.execute_input": "2022-07-05T15:58:28.591225Z",
     "iopub.status.busy": "2022-07-05T15:58:28.590961Z",
     "iopub.status.idle": "2022-07-05T15:58:28.614075Z",
     "shell.execute_reply": "2022-07-05T15:58:28.613426Z",
     "shell.execute_reply.started": "2022-07-05T15:58:28.591206Z"
    },
    "tags": []
   },
   "outputs": [
    {
     "data": {
      "text/plain": [
       "True"
      ]
     },
     "execution_count": 27,
     "metadata": {},
     "output_type": "execute_result"
    }
   ],
   "source": [
    "isinstance(Q(25, 'C'), Q[Temperature])"
   ]
  },
  {
   "cell_type": "code",
   "execution_count": 29,
   "id": "c65edad1-caa4-439a-b353-b3f3aa9da679",
   "metadata": {
    "execution": {
     "iopub.execute_input": "2022-07-05T15:58:31.554479Z",
     "iopub.status.busy": "2022-07-05T15:58:31.554251Z",
     "iopub.status.idle": "2022-07-05T15:58:31.570691Z",
     "shell.execute_reply": "2022-07-05T15:58:31.570007Z",
     "shell.execute_reply.started": "2022-07-05T15:58:31.554464Z"
    },
    "tags": []
   },
   "outputs": [
    {
     "data": {
      "text/plain": [
       "True"
      ]
     },
     "execution_count": 29,
     "metadata": {},
     "output_type": "execute_result"
    }
   ],
   "source": [
    "isinstance(Q(25, 'kg'), Q[Mass])"
   ]
  },
  {
   "cell_type": "code",
   "execution_count": 30,
   "id": "3f8206ea-fa71-457f-86c4-9a07f2d2e3d3",
   "metadata": {
    "execution": {
     "iopub.execute_input": "2022-07-05T15:58:35.880417Z",
     "iopub.status.busy": "2022-07-05T15:58:35.879878Z",
     "iopub.status.idle": "2022-07-05T15:58:35.899837Z",
     "shell.execute_reply": "2022-07-05T15:58:35.899182Z",
     "shell.execute_reply.started": "2022-07-05T15:58:35.880396Z"
    }
   },
   "outputs": [
    {
     "data": {
      "text/plain": [
       "True"
      ]
     },
     "execution_count": 30,
     "metadata": {},
     "output_type": "execute_result"
    }
   ],
   "source": [
    "isinstance(Q(25, 'kg'), Q)"
   ]
  },
  {
   "cell_type": "code",
   "execution_count": null,
   "id": "9ee1e575-9ebd-48d5-a5d8-684b13007aa1",
   "metadata": {},
   "outputs": [],
   "source": []
  }
 ],
 "metadata": {
  "hide_input": false,
  "kernelspec": {
   "display_name": "Python 3 (ipykernel)",
   "language": "python",
   "name": "python3"
  },
  "language_info": {
   "codemirror_mode": {
    "name": "ipython",
    "version": 3
   },
   "file_extension": ".py",
   "mimetype": "text/x-python",
   "name": "python",
   "nbconvert_exporter": "python",
   "pygments_lexer": "ipython3",
   "version": "3.9.13"
  },
  "toc": {
   "base_numbering": 1,
   "nav_menu": {},
   "number_sections": true,
   "sideBar": true,
   "skip_h1_title": false,
   "title_cell": "Table of Contents",
   "title_sidebar": "Contents",
   "toc_cell": false,
   "toc_position": {},
   "toc_section_display": true,
   "toc_window_display": false
  }
 },
 "nbformat": 4,
 "nbformat_minor": 5
}
