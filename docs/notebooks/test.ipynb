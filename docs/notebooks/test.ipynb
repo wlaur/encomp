{
 "cells": [
  {
   "cell_type": "code",
   "execution_count": 1,
   "id": "85550f14-d970-4f06-93b6-dd0e7268549c",
   "metadata": {
    "execution": {
     "iopub.execute_input": "2022-07-06T15:22:24.015316Z",
     "iopub.status.busy": "2022-07-06T15:22:24.015006Z",
     "iopub.status.idle": "2022-07-06T15:22:24.047154Z",
     "shell.execute_reply": "2022-07-06T15:22:24.046337Z",
     "shell.execute_reply.started": "2022-07-06T15:22:24.015246Z"
    },
    "tags": []
   },
   "outputs": [],
   "source": [
    "%load_ext autoreload\n",
    "%autoreload 2"
   ]
  },
  {
   "cell_type": "code",
   "execution_count": 2,
   "id": "7829b981",
   "metadata": {
    "ExecuteTime": {
     "end_time": "2021-08-01T08:00:28.106024Z",
     "start_time": "2021-08-01T08:00:28.077001Z"
    },
    "execution": {
     "iopub.execute_input": "2022-07-06T15:22:24.048788Z",
     "iopub.status.busy": "2022-07-06T15:22:24.048134Z",
     "iopub.status.idle": "2022-07-06T15:22:24.057139Z",
     "shell.execute_reply": "2022-07-06T15:22:24.056454Z",
     "shell.execute_reply.started": "2022-07-06T15:22:24.048764Z"
    },
    "tags": []
   },
   "outputs": [],
   "source": [
    "import sys\n",
    "sys.path.insert(0, '../..')"
   ]
  },
  {
   "cell_type": "markdown",
   "id": "a0468a07",
   "metadata": {
    "tags": []
   },
   "source": [
    "# Test notebook\n"
   ]
  },
  {
   "cell_type": "code",
   "execution_count": 3,
   "id": "4435bdfc-f315-4745-aacd-51ac8bf52ab8",
   "metadata": {
    "execution": {
     "iopub.execute_input": "2022-07-06T15:22:24.058329Z",
     "iopub.status.busy": "2022-07-06T15:22:24.057959Z",
     "iopub.status.idle": "2022-07-06T15:22:24.128492Z",
     "shell.execute_reply": "2022-07-06T15:22:24.127940Z",
     "shell.execute_reply.started": "2022-07-06T15:22:24.058315Z"
    },
    "tags": []
   },
   "outputs": [
    {
     "data": {
      "text/plain": [
       "('0.5.0',\n",
       " \"<module 'encomp' from '/mnt/c/Users/williaml/repos/encomp/docs/notebooks/../../encomp/__init__.py'>\")"
      ]
     },
     "execution_count": 3,
     "metadata": {},
     "output_type": "execute_result"
    }
   ],
   "source": [
    "import encomp\n",
    "encomp.__version__, str(encomp)"
   ]
  },
  {
   "cell_type": "code",
   "execution_count": 4,
   "id": "74bd0732-26f0-414a-8e44-250baf7a6bfe",
   "metadata": {
    "execution": {
     "iopub.execute_input": "2022-07-06T15:22:24.130200Z",
     "iopub.status.busy": "2022-07-06T15:22:24.130006Z",
     "iopub.status.idle": "2022-07-06T15:22:24.812885Z",
     "shell.execute_reply": "2022-07-06T15:22:24.812238Z",
     "shell.execute_reply.started": "2022-07-06T15:22:24.130186Z"
    },
    "tags": []
   },
   "outputs": [],
   "source": [
    "from encomp.utypes import Pressure, Temperature, Mass, NormalVolumeFlow, MassFlow\n",
    "from encomp.units import Quantity as Q"
   ]
  },
  {
   "cell_type": "code",
   "execution_count": 19,
   "id": "a0e7aab3-2dfe-46f7-88f7-edad2e9d21d3",
   "metadata": {
    "execution": {
     "iopub.execute_input": "2022-07-06T15:43:14.460279Z",
     "iopub.status.busy": "2022-07-06T15:43:14.460034Z",
     "iopub.status.idle": "2022-07-06T15:43:14.820898Z",
     "shell.execute_reply": "2022-07-06T15:43:14.820099Z",
     "shell.execute_reply.started": "2022-07-06T15:43:14.460261Z"
    },
    "tags": []
   },
   "outputs": [
    {
     "data": {
      "text/plain": [
       "False"
      ]
     },
     "execution_count": 19,
     "metadata": {},
     "output_type": "execute_result"
    }
   ],
   "source": [
    "m = Q[MassFlow](1, 'kg/s')\n",
    "n = Q[NormalVolumeFlow](1, 'Nm^3/h')\n",
    "d = Q(25)\n",
    "s_int = 5\n",
    "s_float = 0.1\n",
    "\n",
    "m == None"
   ]
  }
 ],
 "metadata": {
  "hide_input": false,
  "kernelspec": {
   "display_name": "Python 3 (ipykernel)",
   "language": "python",
   "name": "python3"
  },
  "language_info": {
   "codemirror_mode": {
    "name": "ipython",
    "version": 3
   },
   "file_extension": ".py",
   "mimetype": "text/x-python",
   "name": "python",
   "nbconvert_exporter": "python",
   "pygments_lexer": "ipython3",
   "version": "3.9.13"
  },
  "toc": {
   "base_numbering": 1,
   "nav_menu": {},
   "number_sections": true,
   "sideBar": true,
   "skip_h1_title": false,
   "title_cell": "Table of Contents",
   "title_sidebar": "Contents",
   "toc_cell": false,
   "toc_position": {},
   "toc_section_display": true,
   "toc_window_display": false
  }
 },
 "nbformat": 4,
 "nbformat_minor": 5
}
