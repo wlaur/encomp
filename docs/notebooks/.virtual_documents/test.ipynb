get_ipython().run_line_magic("load_ext", " autoreload")
get_ipython().run_line_magic("autoreload", " 2")


import sys
sys.path.insert(0, '../..')


import encomp
encomp.__version__, str(encomp)


from encomp.units import Q

print(Q['Mass'](1, 'kg'), type(Q(1)))

Q[Q(1)](2)
