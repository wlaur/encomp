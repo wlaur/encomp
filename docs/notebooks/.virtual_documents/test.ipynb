get_ipython().run_line_magic("load_ext", " autoreload")
get_ipython().run_line_magic("autoreload", " 2")


import sys
sys.path.insert(0, '../..')


import encomp
encomp.__version__, str(encomp)


from encomp.units import Q

print(Q['Mass'](1, 'kg'), type(Q(1)))

Q(10, 'psi').to_base_units()


q = Q(1, 'bar')

q.ito_base_units()

q2 = q.to_base_units()

q, type(q), type(q2)


from encomp.units import Q, Quantity
from encomp.misc import isinstance_types


isinstance_types((2, 4), tuple[int, ...])


from typing import Iterable, Sequence


from encomp.misc import isinstance_types 

isinstance_types([1, 2, 3], Sequence)
