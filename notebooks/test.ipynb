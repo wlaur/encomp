{
 "cells": [
  {
   "cell_type": "code",
   "execution_count": 1,
   "id": "7829b981",
   "metadata": {
    "ExecuteTime": {
     "end_time": "2021-05-05T10:18:36.886139Z",
     "start_time": "2021-05-05T10:18:36.836006Z"
    }
   },
   "outputs": [],
   "source": [
    "import sys\n",
    "sys.path.insert(0, '..')"
   ]
  },
  {
   "cell_type": "code",
   "execution_count": 2,
   "id": "36f7107e",
   "metadata": {
    "ExecuteTime": {
     "end_time": "2021-05-05T10:18:39.402882Z",
     "start_time": "2021-05-05T10:18:36.896389Z"
    }
   },
   "outputs": [
    {
     "data": {
      "application/javascript": [
       "\n",
       "require(['notebook/js/codecell'], function(codecell) {\n",
       "codecell.CodeCell.options_default.highlight_modes['text/x-markdown'] = {'reg':[/^%%markdown/]} ;\n",
       "Jupyter.notebook.events.one('kernel_ready.Kernel', function(){\n",
       "Jupyter.notebook.get_cells().map(function(cell){\n",
       "    if (cell.cell_type == 'code'){ cell.auto_highlight(); } }) ;\n",
       "});\n",
       "});"
      ],
      "text/plain": [
       "<IPython.core.display.Javascript object>"
      ]
     },
     "metadata": {},
     "output_type": "display_data"
    }
   ],
   "source": [
    "from encomp.notebook import *"
   ]
  },
  {
   "cell_type": "code",
   "execution_count": 3,
   "id": "01995117",
   "metadata": {
    "ExecuteTime": {
     "end_time": "2021-05-05T10:18:39.529339Z",
     "start_time": "2021-05-05T10:18:39.415523Z"
    }
   },
   "outputs": [
    {
     "data": {
      "text/html": [
       "2.0060180541624875×10<sup>-10</sup> m<sup>3</sup>"
      ],
      "text/latex": [
       "$2.0060180541624875\\times 10^{-10}\\ \\mathrm{m}^{3}$"
      ],
      "text/plain": [
       "2.0060180541624875e-10 <Unit('meter ** 3')>"
      ]
     },
     "execution_count": 3,
     "metadata": {},
     "output_type": "execute_result"
    }
   ],
   "source": [
    "from encomp.units import convert_volume_mass\n",
    "\n",
    "\n",
    "convert_volume_mass(Q(0.2, 'mg'))\n"
   ]
  },
  {
   "cell_type": "code",
   "execution_count": 10,
   "id": "3a74c09f",
   "metadata": {
    "ExecuteTime": {
     "end_time": "2021-05-05T10:22:04.590523Z",
     "start_time": "2021-05-05T10:22:04.438995Z"
    },
    "scrolled": false
   },
   "outputs": [
    {
     "data": {
      "text/html": [
       "25.0 m<sup>3</sup>"
      ],
      "text/latex": [
       "$25.0\\ \\mathrm{m}^{3}$"
      ],
      "text/plain": [
       "25.0 <Unit('meter ** 3')>"
      ]
     },
     "execution_count": 10,
     "metadata": {},
     "output_type": "execute_result"
    }
   ],
   "source": [
    "from encomp.gases import normal_volume_to_actual_volume\n",
    "\n",
    "\n",
    "normal_volume_to_actual_volume(Q(25, 'm3'), (Q(1, 'atm'), Q(0, 'degC')))"
   ]
  },
  {
   "cell_type": "code",
   "execution_count": null,
   "id": "b744e57e",
   "metadata": {
    "ExecuteTime": {
     "end_time": "2021-05-05T10:18:40.342448Z",
     "start_time": "2021-05-05T10:18:36.755Z"
    }
   },
   "outputs": [],
   "source": [
    "mass_from_normal_volume(Q(25, 'm3/day'))"
   ]
  },
  {
   "cell_type": "code",
   "execution_count": null,
   "id": "f9ec5377",
   "metadata": {
    "ExecuteTime": {
     "end_time": "2021-05-05T10:18:40.345924Z",
     "start_time": "2021-05-05T10:18:36.757Z"
    }
   },
   "outputs": [],
   "source": [
    "a = {\n",
    "    'asd': Q([1, 2, 3], 'kg')\n",
    "}"
   ]
  },
  {
   "cell_type": "code",
   "execution_count": null,
   "id": "e8087efd",
   "metadata": {
    "ExecuteTime": {
     "end_time": "2021-05-05T10:18:40.349029Z",
     "start_time": "2021-05-05T10:18:36.759Z"
    }
   },
   "outputs": [],
   "source": [
    "%%write\n",
    "\n",
    "a = a"
   ]
  }
 ],
 "metadata": {
  "kernelspec": {
   "display_name": "Python 3",
   "language": "python",
   "name": "python3"
  },
  "language_info": {
   "codemirror_mode": {
    "name": "ipython",
    "version": 3
   },
   "file_extension": ".py",
   "mimetype": "text/x-python",
   "name": "python",
   "nbconvert_exporter": "python",
   "pygments_lexer": "ipython3",
   "version": "3.8.8"
  },
  "toc": {
   "base_numbering": 1,
   "nav_menu": {},
   "number_sections": true,
   "sideBar": true,
   "skip_h1_title": false,
   "title_cell": "Table of Contents",
   "title_sidebar": "Contents",
   "toc_cell": false,
   "toc_position": {},
   "toc_section_display": true,
   "toc_window_display": false
  }
 },
 "nbformat": 4,
 "nbformat_minor": 5
}
