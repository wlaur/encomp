{
 "cells": [
  {
   "cell_type": "code",
   "execution_count": 1,
   "id": "7829b981",
   "metadata": {
    "ExecuteTime": {
     "end_time": "2021-04-27T18:45:21.598854Z",
     "start_time": "2021-04-27T18:45:21.531565Z"
    }
   },
   "outputs": [],
   "source": [
    "import sys\n",
    "\n",
    "sys.path.insert(0, '..')"
   ]
  },
  {
   "cell_type": "code",
   "execution_count": 2,
   "id": "f385f31d",
   "metadata": {
    "ExecuteTime": {
     "end_time": "2021-04-27T18:45:22.772640Z",
     "start_time": "2021-04-27T18:45:21.612405Z"
    }
   },
   "outputs": [
    {
     "data": {
      "text/html": [
       "20.0 bar s/MJ"
      ],
      "text/latex": [
       "$20.0\\ \\frac{\\mathrm{bar} \\cdot \\mathrm{s}}{\\mathrm{MJ}}$"
      ],
      "text/plain": [
       "20.0 <Unit('bar * second / megajoule')>"
      ]
     },
     "execution_count": 2,
     "metadata": {},
     "output_type": "execute_result"
    }
   ],
   "source": [
    "from encomp.units import Q, ureg\n",
    "\n",
    "q = Q(1, 'bar')\n",
    "\n",
    "Q(2, 'kPa/kW').to('bar/MJ*s')"
   ]
  },
  {
   "cell_type": "code",
   "execution_count": 3,
   "id": "b745fadc",
   "metadata": {
    "ExecuteTime": {
     "end_time": "2021-04-27T18:45:22.876155Z",
     "start_time": "2021-04-27T18:45:22.778687Z"
    },
    "scrolled": false
   },
   "outputs": [
    {
     "data": {
      "text/html": [
       "2 m"
      ],
      "text/latex": [
       "$2\\ \\mathrm{m}$"
      ],
      "text/plain": [
       "2 <Unit('meter')>"
      ]
     },
     "execution_count": 3,
     "metadata": {},
     "output_type": "execute_result"
    }
   ],
   "source": [
    "from encomp.fluid_properties import test\n",
    "\n",
    "test(Q(1, 'km'), Q(2, 'kPa'))"
   ]
  },
  {
   "cell_type": "code",
   "execution_count": 4,
   "id": "7583a303",
   "metadata": {
    "ExecuteTime": {
     "end_time": "2021-04-27T18:45:23.204234Z",
     "start_time": "2021-04-27T18:45:22.881931Z"
    },
    "scrolled": false
   },
   "outputs": [],
   "source": [
    "from encomp.tests.test_serialize import test_serialize\n",
    "from encomp.tests.test_units import test_Q\n",
    "\n",
    "test_Q()\n",
    "test_serialize()"
   ]
  },
  {
   "cell_type": "code",
   "execution_count": 5,
   "id": "59c79178",
   "metadata": {
    "ExecuteTime": {
     "end_time": "2021-04-27T18:45:23.657882Z",
     "start_time": "2021-04-27T18:45:23.214974Z"
    }
   },
   "outputs": [
    {
     "ename": "TypeError",
     "evalue": "type of the return value must be encomp.units.Quantity[Length]; got encomp.units.Quantity[Pressure] instead",
     "output_type": "error",
     "traceback": [
      "\u001b[1;31m---------------------------------------------------------------------------\u001b[0m",
      "\u001b[1;31mTypeError\u001b[0m                                 Traceback (most recent call last)",
      "\u001b[1;32m<ipython-input-5-4a67578bb595>\u001b[0m in \u001b[0;36m<module>\u001b[1;34m\u001b[0m\n\u001b[0;32m      5\u001b[0m     \u001b[1;32mreturn\u001b[0m \u001b[0mQ\u001b[0m\u001b[1;33m(\u001b[0m\u001b[1;36m1\u001b[0m\u001b[1;33m,\u001b[0m \u001b[1;34m'bar'\u001b[0m\u001b[1;33m)\u001b[0m\u001b[1;33m\u001b[0m\u001b[1;33m\u001b[0m\u001b[0m\n\u001b[0;32m      6\u001b[0m \u001b[1;33m\u001b[0m\u001b[0m\n\u001b[1;32m----> 7\u001b[1;33m \u001b[0ma\u001b[0m\u001b[1;33m(\u001b[0m\u001b[1;33m)\u001b[0m\u001b[1;33m\u001b[0m\u001b[1;33m\u001b[0m\u001b[0m\n\u001b[0m",
      "\u001b[1;32m~\\miniconda3\\envs\\encomp-env\\lib\\site-packages\\typeguard\\__init__.py\u001b[0m in \u001b[0;36mwrapper\u001b[1;34m(*args, **kwargs)\u001b[0m\n\u001b[0;32m    925\u001b[0m             \u001b[0mcheck_return_type\u001b[0m\u001b[1;33m(\u001b[0m\u001b[0mretval\u001b[0m\u001b[1;33m,\u001b[0m \u001b[0mmemo\u001b[0m\u001b[1;33m)\u001b[0m\u001b[1;33m\u001b[0m\u001b[1;33m\u001b[0m\u001b[0m\n\u001b[0;32m    926\u001b[0m         \u001b[1;32mexcept\u001b[0m \u001b[0mTypeError\u001b[0m \u001b[1;32mas\u001b[0m \u001b[0mexc\u001b[0m\u001b[1;33m:\u001b[0m\u001b[1;33m\u001b[0m\u001b[1;33m\u001b[0m\u001b[0m\n\u001b[1;32m--> 927\u001b[1;33m             \u001b[1;32mraise\u001b[0m \u001b[0mTypeError\u001b[0m\u001b[1;33m(\u001b[0m\u001b[1;33m*\u001b[0m\u001b[0mexc\u001b[0m\u001b[1;33m.\u001b[0m\u001b[0margs\u001b[0m\u001b[1;33m)\u001b[0m \u001b[1;32mfrom\u001b[0m \u001b[1;32mNone\u001b[0m\u001b[1;33m\u001b[0m\u001b[1;33m\u001b[0m\u001b[0m\n\u001b[0m\u001b[0;32m    928\u001b[0m \u001b[1;33m\u001b[0m\u001b[0m\n\u001b[0;32m    929\u001b[0m         \u001b[1;31m# If a generator is returned, wrap it if its yield/send/return types can be checked\u001b[0m\u001b[1;33m\u001b[0m\u001b[1;33m\u001b[0m\u001b[1;33m\u001b[0m\u001b[0m\n",
      "\u001b[1;31mTypeError\u001b[0m: type of the return value must be encomp.units.Quantity[Length]; got encomp.units.Quantity[Pressure] instead"
     ]
    }
   ],
   "source": [
    "from typeguard import typechecked\n",
    "\n",
    "@typechecked\n",
    "def a() -> Q['Length']:\n",
    "    return Q(1, 'bar')\n",
    "\n",
    "a()"
   ]
  }
 ],
 "metadata": {
  "kernelspec": {
   "display_name": "Python 3",
   "language": "python",
   "name": "python3"
  },
  "language_info": {
   "codemirror_mode": {
    "name": "ipython",
    "version": 3
   },
   "file_extension": ".py",
   "mimetype": "text/x-python",
   "name": "python",
   "nbconvert_exporter": "python",
   "pygments_lexer": "ipython3",
   "version": "3.8.8"
  },
  "toc": {
   "base_numbering": 1,
   "nav_menu": {},
   "number_sections": true,
   "sideBar": true,
   "skip_h1_title": false,
   "title_cell": "Table of Contents",
   "title_sidebar": "Contents",
   "toc_cell": false,
   "toc_position": {},
   "toc_section_display": true,
   "toc_window_display": false
  }
 },
 "nbformat": 4,
 "nbformat_minor": 5
}
