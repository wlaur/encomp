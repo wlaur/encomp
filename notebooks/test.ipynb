{
 "cells": [
  {
   "cell_type": "code",
   "execution_count": 1,
   "id": "7829b981",
   "metadata": {
    "ExecuteTime": {
     "end_time": "2021-05-02T17:57:21.133740Z",
     "start_time": "2021-05-02T17:57:21.073763Z"
    }
   },
   "outputs": [],
   "source": [
    "import sys\n",
    "sys.path.insert(0, '..')"
   ]
  },
  {
   "cell_type": "code",
   "execution_count": 2,
   "id": "36f7107e",
   "metadata": {
    "ExecuteTime": {
     "end_time": "2021-05-02T17:57:21.211823Z",
     "start_time": "2021-05-02T17:57:21.138745Z"
    }
   },
   "outputs": [],
   "source": [
    "# from encomp.notebook import *"
   ]
  },
  {
   "cell_type": "code",
   "execution_count": 11,
   "id": "cddcccd1",
   "metadata": {
    "ExecuteTime": {
     "end_time": "2021-05-02T18:00:06.312451Z",
     "start_time": "2021-05-02T18:00:06.228453Z"
    }
   },
   "outputs": [
    {
     "data": {
      "text/html": [
       "2 bar"
      ],
      "text/latex": [
       "$2\\ \\mathrm{bar}$"
      ],
      "text/plain": [
       "2 <Unit('bar')>"
      ]
     },
     "execution_count": 11,
     "metadata": {},
     "output_type": "execute_result"
    }
   ],
   "source": [
    "from typing_extensions import Annotated\n",
    "from pydantic import Field\n",
    "\n",
    "from encomp.units import Q\n",
    "\n",
    "Q(2, 'bar')"
   ]
  }
 ],
 "metadata": {
  "kernelspec": {
   "display_name": "Python 3",
   "language": "python",
   "name": "python3"
  },
  "language_info": {
   "codemirror_mode": {
    "name": "ipython",
    "version": 3
   },
   "file_extension": ".py",
   "mimetype": "text/x-python",
   "name": "python",
   "nbconvert_exporter": "python",
   "pygments_lexer": "ipython3",
   "version": "3.8.8"
  },
  "toc": {
   "base_numbering": 1,
   "nav_menu": {},
   "number_sections": true,
   "sideBar": true,
   "skip_h1_title": false,
   "title_cell": "Table of Contents",
   "title_sidebar": "Contents",
   "toc_cell": false,
   "toc_position": {},
   "toc_section_display": true,
   "toc_window_display": false
  }
 },
 "nbformat": 4,
 "nbformat_minor": 5
}
