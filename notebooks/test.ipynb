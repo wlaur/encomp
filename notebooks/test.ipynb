{
 "cells": [
  {
   "cell_type": "code",
   "execution_count": 1,
   "id": "7829b981",
   "metadata": {
    "ExecuteTime": {
     "end_time": "2021-04-26T19:23:33.251265Z",
     "start_time": "2021-04-26T19:23:33.187548Z"
    }
   },
   "outputs": [],
   "source": [
    "import sys\n",
    "\n",
    "sys.path.insert(0, '..')"
   ]
  },
  {
   "cell_type": "code",
   "execution_count": 11,
   "id": "b745fadc",
   "metadata": {
    "ExecuteTime": {
     "end_time": "2021-04-26T19:24:17.201761Z",
     "start_time": "2021-04-26T19:24:17.088656Z"
    },
    "scrolled": false
   },
   "outputs": [
    {
     "data": {
      "text/html": [
       "2 m"
      ],
      "text/latex": [
       "$2\\ \\mathrm{m}$"
      ],
      "text/plain": [
       "2 <Unit('meter')>"
      ]
     },
     "execution_count": 11,
     "metadata": {},
     "output_type": "execute_result"
    }
   ],
   "source": [
    "from encomp.api import Q\n",
    "from encomp.fluid_properties import test\n",
    "\n",
    "test(Q(1, 'meter'), Q(2, 'kPa'))"
   ]
  },
  {
   "cell_type": "code",
   "execution_count": 8,
   "id": "b09a03fa",
   "metadata": {
    "ExecuteTime": {
     "end_time": "2021-04-26T19:24:05.349158Z",
     "start_time": "2021-04-26T19:24:05.208043Z"
    }
   },
   "outputs": [
    {
     "data": {
      "text/plain": [
       "<UnitsContainer({'[length]': -1, '[mass]': 1, '[time]': -2})>"
      ]
     },
     "execution_count": 8,
     "metadata": {},
     "output_type": "execute_result"
    }
   ],
   "source": [
    "q = Q(1, 'bar')\n",
    "\n",
    "q.ito('kPa')\n",
    "\n",
    "q.dimensionality"
   ]
  },
  {
   "cell_type": "code",
   "execution_count": 4,
   "id": "fdc7a0bf",
   "metadata": {
    "ExecuteTime": {
     "end_time": "2021-04-26T19:23:34.717694Z",
     "start_time": "2021-04-26T19:23:34.634327Z"
    }
   },
   "outputs": [],
   "source": [
    "# q.to('kg')"
   ]
  },
  {
   "cell_type": "code",
   "execution_count": 5,
   "id": "43c29e8d",
   "metadata": {
    "ExecuteTime": {
     "end_time": "2021-04-26T19:23:35.005668Z",
     "start_time": "2021-04-26T19:23:34.720761Z"
    }
   },
   "outputs": [],
   "source": [
    "from encomp.tests.test_units import test_Q\n",
    "\n",
    "test_Q()"
   ]
  },
  {
   "cell_type": "code",
   "execution_count": 6,
   "id": "d0c2c3ba",
   "metadata": {
    "ExecuteTime": {
     "end_time": "2021-04-26T19:23:35.110385Z",
     "start_time": "2021-04-26T19:23:35.018554Z"
    }
   },
   "outputs": [],
   "source": [
    "# Q['Temperature'](1, 'bar')"
   ]
  },
  {
   "cell_type": "code",
   "execution_count": 7,
   "id": "7583a303",
   "metadata": {
    "ExecuteTime": {
     "end_time": "2021-04-26T19:23:35.287609Z",
     "start_time": "2021-04-26T19:23:35.114726Z"
    },
    "scrolled": false
   },
   "outputs": [],
   "source": [
    "from encomp.tests.test_serialize import test_serialize\n",
    "test_serialize()"
   ]
  }
 ],
 "metadata": {
  "kernelspec": {
   "display_name": "Python 3",
   "language": "python",
   "name": "python3"
  },
  "language_info": {
   "codemirror_mode": {
    "name": "ipython",
    "version": 3
   },
   "file_extension": ".py",
   "mimetype": "text/x-python",
   "name": "python",
   "nbconvert_exporter": "python",
   "pygments_lexer": "ipython3",
   "version": "3.8.8"
  },
  "toc": {
   "base_numbering": 1,
   "nav_menu": {},
   "number_sections": true,
   "sideBar": true,
   "skip_h1_title": false,
   "title_cell": "Table of Contents",
   "title_sidebar": "Contents",
   "toc_cell": false,
   "toc_position": {},
   "toc_section_display": true,
   "toc_window_display": false
  }
 },
 "nbformat": 4,
 "nbformat_minor": 5
}
