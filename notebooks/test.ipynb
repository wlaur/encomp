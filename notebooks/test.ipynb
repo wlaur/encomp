{
 "cells": [
  {
   "cell_type": "code",
   "execution_count": 1,
   "id": "7829b981",
   "metadata": {
    "ExecuteTime": {
     "end_time": "2021-04-25T08:43:23.552249Z",
     "start_time": "2021-04-25T08:43:23.481229Z"
    }
   },
   "outputs": [],
   "source": [
    "import sys\n",
    "\n",
    "sys.path.insert(0, '..')"
   ]
  },
  {
   "cell_type": "code",
   "execution_count": 2,
   "id": "4ec19e86",
   "metadata": {
    "ExecuteTime": {
     "end_time": "2021-04-25T08:43:25.334362Z",
     "start_time": "2021-04-25T08:43:23.576330Z"
    },
    "scrolled": false
   },
   "outputs": [
    {
     "data": {
      "text/html": [
       "2 m"
      ],
      "text/latex": [
       "$2\\ \\mathrm{m}$"
      ],
      "text/plain": [
       "2 <Unit('meter')>"
      ]
     },
     "execution_count": 2,
     "metadata": {},
     "output_type": "execute_result"
    }
   ],
   "source": [
    "from encomp.api import Q\n",
    "from encomp.fluid_properties import test\n",
    "\n",
    "test(Q(1, 'meter'), Q(2, 'kPa'))"
   ]
  },
  {
   "cell_type": "code",
   "execution_count": 3,
   "id": "3894a490",
   "metadata": {
    "ExecuteTime": {
     "end_time": "2021-04-25T08:43:25.477385Z",
     "start_time": "2021-04-25T08:43:25.339392Z"
    }
   },
   "outputs": [
    {
     "data": {
      "text/plain": [
       "<UnitsContainer({'[length]': -1, '[mass]': 1, '[time]': -2})>"
      ]
     },
     "execution_count": 3,
     "metadata": {},
     "output_type": "execute_result"
    }
   ],
   "source": [
    "q = Q(1, 'bar')\n",
    "\n",
    "q.ito('kPa')\n",
    "\n",
    "q.dimensionality"
   ]
  },
  {
   "cell_type": "code",
   "execution_count": 4,
   "id": "09c1483e",
   "metadata": {
    "ExecuteTime": {
     "end_time": "2021-04-25T08:43:25.668364Z",
     "start_time": "2021-04-25T08:43:25.486367Z"
    }
   },
   "outputs": [
    {
     "data": {
      "text/plain": [
       "encomp.units.Quantity[Pressure]"
      ]
     },
     "execution_count": 4,
     "metadata": {},
     "output_type": "execute_result"
    }
   ],
   "source": [
    "type(q)"
   ]
  },
  {
   "cell_type": "code",
   "execution_count": 5,
   "id": "acd73b09",
   "metadata": {
    "ExecuteTime": {
     "end_time": "2021-04-25T08:43:26.187381Z",
     "start_time": "2021-04-25T08:43:25.673368Z"
    }
   },
   "outputs": [],
   "source": [
    "from encomp.tests.test_units import test_Q\n",
    "\n",
    "test_Q()"
   ]
  },
  {
   "cell_type": "code",
   "execution_count": 6,
   "id": "d32a61ff",
   "metadata": {
    "ExecuteTime": {
     "end_time": "2021-04-25T08:43:45.542853Z",
     "start_time": "2021-04-25T08:43:44.937164Z"
    }
   },
   "outputs": [
    {
     "ename": "ValueError",
     "evalue": "Quantity with unit bar has incorrect dimensionality Pressure, expected Temperature",
     "output_type": "error",
     "traceback": [
      "\u001b[1;31m---------------------------------------------------------------------------\u001b[0m",
      "\u001b[1;31mValueError\u001b[0m                                Traceback (most recent call last)",
      "\u001b[1;32m<ipython-input-6-fe5a0e5a883c>\u001b[0m in \u001b[0;36m<module>\u001b[1;34m\u001b[0m\n\u001b[1;32m----> 1\u001b[1;33m \u001b[0mQ\u001b[0m\u001b[1;33m[\u001b[0m\u001b[1;34m'Temperature'\u001b[0m\u001b[1;33m]\u001b[0m\u001b[1;33m(\u001b[0m\u001b[1;36m1\u001b[0m\u001b[1;33m,\u001b[0m \u001b[1;34m'bar'\u001b[0m\u001b[1;33m)\u001b[0m\u001b[1;33m\u001b[0m\u001b[1;33m\u001b[0m\u001b[0m\n\u001b[0m",
      "\u001b[1;32m~\\miniconda3\\envs\\encomp-env\\lib\\site-packages\\typeguard\\__init__.py\u001b[0m in \u001b[0;36mwrapper\u001b[1;34m(*args, **kwargs)\u001b[0m\n\u001b[0;32m    921\u001b[0m         \u001b[0mmemo\u001b[0m \u001b[1;33m=\u001b[0m \u001b[0m_CallMemo\u001b[0m\u001b[1;33m(\u001b[0m\u001b[0mpython_func\u001b[0m\u001b[1;33m,\u001b[0m \u001b[0m_localns\u001b[0m\u001b[1;33m,\u001b[0m \u001b[0margs\u001b[0m\u001b[1;33m=\u001b[0m\u001b[0margs\u001b[0m\u001b[1;33m,\u001b[0m \u001b[0mkwargs\u001b[0m\u001b[1;33m=\u001b[0m\u001b[0mkwargs\u001b[0m\u001b[1;33m)\u001b[0m\u001b[1;33m\u001b[0m\u001b[1;33m\u001b[0m\u001b[0m\n\u001b[0;32m    922\u001b[0m         \u001b[0mcheck_argument_types\u001b[0m\u001b[1;33m(\u001b[0m\u001b[0mmemo\u001b[0m\u001b[1;33m)\u001b[0m\u001b[1;33m\u001b[0m\u001b[1;33m\u001b[0m\u001b[0m\n\u001b[1;32m--> 923\u001b[1;33m         \u001b[0mretval\u001b[0m \u001b[1;33m=\u001b[0m \u001b[0mfunc\u001b[0m\u001b[1;33m(\u001b[0m\u001b[1;33m*\u001b[0m\u001b[0margs\u001b[0m\u001b[1;33m,\u001b[0m \u001b[1;33m**\u001b[0m\u001b[0mkwargs\u001b[0m\u001b[1;33m)\u001b[0m\u001b[1;33m\u001b[0m\u001b[1;33m\u001b[0m\u001b[0m\n\u001b[0m\u001b[0;32m    924\u001b[0m         \u001b[1;32mtry\u001b[0m\u001b[1;33m:\u001b[0m\u001b[1;33m\u001b[0m\u001b[1;33m\u001b[0m\u001b[0m\n\u001b[0;32m    925\u001b[0m             \u001b[0mcheck_return_type\u001b[0m\u001b[1;33m(\u001b[0m\u001b[0mretval\u001b[0m\u001b[1;33m,\u001b[0m \u001b[0mmemo\u001b[0m\u001b[1;33m)\u001b[0m\u001b[1;33m\u001b[0m\u001b[1;33m\u001b[0m\u001b[0m\n",
      "\u001b[1;32m~\\docs\\encomp\\encomp\\units.py\u001b[0m in \u001b[0;36m__new__\u001b[1;34m(cls, val, unit)\u001b[0m\n\u001b[0;32m    159\u001b[0m                     expected_dimensionality)\n\u001b[0;32m    160\u001b[0m \u001b[1;33m\u001b[0m\u001b[0m\n\u001b[1;32m--> 161\u001b[1;33m                 raise ValueError(f'Quantity with unit {unit} has incorrect '\n\u001b[0m\u001b[0;32m    162\u001b[0m                                  \u001b[1;34mf'dimensionality {dim_name}, '\u001b[0m\u001b[1;33m\u001b[0m\u001b[1;33m\u001b[0m\u001b[0m\n\u001b[0;32m    163\u001b[0m                                  f'expected {expected_dim_name}')\n",
      "\u001b[1;31mValueError\u001b[0m: Quantity with unit bar has incorrect dimensionality Pressure, expected Temperature"
     ]
    }
   ],
   "source": [
    "Q['Temperature'](1, 'bar')"
   ]
  }
 ],
 "metadata": {
  "kernelspec": {
   "display_name": "Python 3",
   "language": "python",
   "name": "python3"
  },
  "language_info": {
   "codemirror_mode": {
    "name": "ipython",
    "version": 3
   },
   "file_extension": ".py",
   "mimetype": "text/x-python",
   "name": "python",
   "nbconvert_exporter": "python",
   "pygments_lexer": "ipython3",
   "version": "3.8.8"
  },
  "toc": {
   "base_numbering": 1,
   "nav_menu": {},
   "number_sections": true,
   "sideBar": true,
   "skip_h1_title": false,
   "title_cell": "Table of Contents",
   "title_sidebar": "Contents",
   "toc_cell": false,
   "toc_position": {},
   "toc_section_display": true,
   "toc_window_display": false
  }
 },
 "nbformat": 4,
 "nbformat_minor": 5
}
