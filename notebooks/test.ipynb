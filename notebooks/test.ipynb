{
 "cells": [
  {
   "cell_type": "code",
   "execution_count": 1,
   "id": "7829b981",
   "metadata": {
    "ExecuteTime": {
     "end_time": "2021-04-29T19:07:21.860527Z",
     "start_time": "2021-04-29T19:07:21.694514Z"
    }
   },
   "outputs": [],
   "source": [
    "import sys\n",
    "sys.path.insert(0, '..')"
   ]
  },
  {
   "cell_type": "code",
   "execution_count": 2,
   "id": "c37ed31e",
   "metadata": {
    "ExecuteTime": {
     "end_time": "2021-04-29T19:07:24.487707Z",
     "start_time": "2021-04-29T19:07:21.871511Z"
    }
   },
   "outputs": [],
   "source": [
    "from encomp.tests.test_serialize import test_serialize\n",
    "\n",
    "test_serialize()"
   ]
  },
  {
   "cell_type": "code",
   "execution_count": 3,
   "id": "7f3636a4",
   "metadata": {
    "ExecuteTime": {
     "end_time": "2021-04-29T19:07:24.947438Z",
     "start_time": "2021-04-29T19:07:24.499661Z"
    }
   },
   "outputs": [
    {
     "data": {
      "text/html": [
       "<table><tbody><tr><th>Magnitude</th><td style='text-align:left;'><pre>[4.0+/-0.4 8.0+/-0.8 4.0+/-0.8]</pre></td></tr><tr><th>Units</th><td style='text-align:left;'>bar</td></tr></tbody></table>"
      ],
      "text/latex": [
       "$\\begin{pmatrix}4.0+/-0.4 & 8.0+/-0.8 & 4.0+/-0.8\\end{pmatrix}\\ \\mathrm{bar}$"
      ],
      "text/plain": [
       "array([4.0+/-0.4, 8.0+/-0.8, 4.0+/-0.8], dtype=object) <Unit('bar')>"
      ]
     },
     "execution_count": 3,
     "metadata": {},
     "output_type": "execute_result"
    }
   ],
   "source": [
    "from encomp.serialize import serialize, decode\n",
    "from encomp.units import Q\n",
    "from encomp.fluids import Fluid\n",
    "\n",
    "from uncertainties import ufloat\n",
    "\n",
    "x = ufloat(1, 0.1)\n",
    "\n",
    "dd = Q([x, 2 * x, x**2], 'bar') * 2\n",
    "\n",
    "\n",
    "s = serialize(dd)\n",
    "\n",
    "decode(s) * 2"
   ]
  },
  {
   "cell_type": "code",
   "execution_count": 4,
   "id": "cf856954",
   "metadata": {
    "ExecuteTime": {
     "end_time": "2021-04-29T19:07:25.151780Z",
     "start_time": "2021-04-29T19:07:24.952330Z"
    }
   },
   "outputs": [
    {
     "data": {
      "text/plain": [
       "(476.16453796900316 <Unit('kilopascal')>,\n",
       " 476.16453796900316 <Unit('kilopascal')>)"
      ]
     },
     "execution_count": 4,
     "metadata": {},
     "output_type": "execute_result"
    }
   ],
   "source": [
    "Fluid('water', T=Q(150, 'degC'), Q=Q(0.01, '')).P, Fluid('water', T=Q(150, 'degC'), Q=Q(0.99, '')).P"
   ]
  }
 ],
 "metadata": {
  "kernelspec": {
   "display_name": "Python 3",
   "language": "python",
   "name": "python3"
  },
  "language_info": {
   "codemirror_mode": {
    "name": "ipython",
    "version": 3
   },
   "file_extension": ".py",
   "mimetype": "text/x-python",
   "name": "python",
   "nbconvert_exporter": "python",
   "pygments_lexer": "ipython3",
   "version": "3.8.8"
  },
  "toc": {
   "base_numbering": 1,
   "nav_menu": {},
   "number_sections": true,
   "sideBar": true,
   "skip_h1_title": false,
   "title_cell": "Table of Contents",
   "title_sidebar": "Contents",
   "toc_cell": false,
   "toc_position": {},
   "toc_section_display": true,
   "toc_window_display": false
  }
 },
 "nbformat": 4,
 "nbformat_minor": 5
}
