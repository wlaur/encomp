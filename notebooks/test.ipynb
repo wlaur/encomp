{
 "cells": [
  {
   "cell_type": "code",
   "execution_count": 1,
   "id": "7829b981",
   "metadata": {
    "ExecuteTime": {
     "end_time": "2021-05-08T10:27:13.718179Z",
     "start_time": "2021-05-08T10:27:13.673797Z"
    }
   },
   "outputs": [],
   "source": [
    "import sys\n",
    "sys.path.insert(0, '..')"
   ]
  },
  {
   "cell_type": "code",
   "execution_count": 2,
   "id": "36f7107e",
   "metadata": {
    "ExecuteTime": {
     "end_time": "2021-05-08T10:27:18.125343Z",
     "start_time": "2021-05-08T10:27:13.723601Z"
    }
   },
   "outputs": [
    {
     "data": {
      "application/javascript": [
       "\n",
       "require(['notebook/js/codecell'], function(codecell) {\n",
       "codecell.CodeCell.options_default.highlight_modes['text/x-markdown'] = {'reg':[/^%%markdown/]} ;\n",
       "Jupyter.notebook.events.one('kernel_ready.Kernel', function(){\n",
       "Jupyter.notebook.get_cells().map(function(cell){\n",
       "    if (cell.cell_type == 'code'){ cell.auto_highlight(); } }) ;\n",
       "});\n",
       "});"
      ],
      "text/plain": [
       "<IPython.core.display.Javascript object>"
      ]
     },
     "metadata": {},
     "output_type": "display_data"
    }
   ],
   "source": [
    "from encomp.notebook import *"
   ]
  },
  {
   "cell_type": "code",
   "execution_count": 3,
   "id": "79082947",
   "metadata": {
    "ExecuteTime": {
     "end_time": "2021-05-08T10:27:18.317446Z",
     "start_time": "2021-05-08T10:27:18.131399Z"
    },
    "scrolled": true
   },
   "outputs": [],
   "source": [
    "x = sp.Symbol('x', nonzero=True, positive=True)\n",
    "x1 = x._('1')\n",
    "x2 = x._('2')\n",
    "x3 = x._('3')"
   ]
  },
  {
   "cell_type": "code",
   "execution_count": 4,
   "id": "3804bc90",
   "metadata": {
    "ExecuteTime": {
     "end_time": "2021-05-08T10:27:18.904908Z",
     "start_time": "2021-05-08T10:27:18.323092Z"
    }
   },
   "outputs": [
    {
     "data": {
      "text/html": [
       "0.5511556554621939 bar"
      ],
      "text/latex": [
       "$0.5511556554621939\\ \\mathrm{bar}$"
      ],
      "text/plain": [
       "0.5511556554621939 <Unit('bar')>"
      ]
     },
     "execution_count": 4,
     "metadata": {},
     "output_type": "execute_result"
    }
   ],
   "source": [
    "expr = x1 * x2 / x3\n",
    "\n",
    "expr_eval = expr.subs({x1: Q(1, 'kPa'), x2: Q(25, 'kg'), x3: Q(1, 'pound')})\n",
    "\n",
    "Q.from_expr(expr_eval).to('bar')"
   ]
  }
 ],
 "metadata": {
  "kernelspec": {
   "display_name": "Python 3",
   "language": "python",
   "name": "python3"
  },
  "language_info": {
   "codemirror_mode": {
    "name": "ipython",
    "version": 3
   },
   "file_extension": ".py",
   "mimetype": "text/x-python",
   "name": "python",
   "nbconvert_exporter": "python",
   "pygments_lexer": "ipython3",
   "version": "3.8.8"
  },
  "toc": {
   "base_numbering": 1,
   "nav_menu": {},
   "number_sections": true,
   "sideBar": true,
   "skip_h1_title": false,
   "title_cell": "Table of Contents",
   "title_sidebar": "Contents",
   "toc_cell": false,
   "toc_position": {},
   "toc_section_display": true,
   "toc_window_display": false
  }
 },
 "nbformat": 4,
 "nbformat_minor": 5
}
