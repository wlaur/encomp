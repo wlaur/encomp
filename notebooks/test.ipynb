{
 "cells": [
  {
   "cell_type": "code",
   "execution_count": 1,
   "id": "7829b981",
   "metadata": {
    "ExecuteTime": {
     "end_time": "2021-05-09T17:20:18.088470Z",
     "start_time": "2021-05-09T17:20:18.020561Z"
    }
   },
   "outputs": [],
   "source": [
    "import sys\n",
    "sys.path.insert(0, '..')"
   ]
  },
  {
   "cell_type": "code",
   "execution_count": 2,
   "id": "a2aeeee7",
   "metadata": {
    "ExecuteTime": {
     "end_time": "2021-05-09T17:20:21.871965Z",
     "start_time": "2021-05-09T17:20:18.103431Z"
    }
   },
   "outputs": [
    {
     "data": {
      "application/javascript": [
       "\n",
       "require(['notebook/js/codecell'], function(codecell) {\n",
       "codecell.CodeCell.options_default.highlight_modes['text/x-markdown'] = {'reg':[/^%%markdown/]} ;\n",
       "Jupyter.notebook.events.one('kernel_ready.Kernel', function(){\n",
       "Jupyter.notebook.get_cells().map(function(cell){\n",
       "    if (cell.cell_type == 'code'){ cell.auto_highlight(); } }) ;\n",
       "});\n",
       "});"
      ],
      "text/plain": [
       "<IPython.core.display.Javascript object>"
      ]
     },
     "metadata": {},
     "output_type": "display_data"
    },
    {
     "data": {
      "text/html": [
       "1 m_H2O"
      ],
      "text/latex": [
       "$1\\ \\mathrm{m\\_H2O}$"
      ],
      "text/plain": [
       "1 <Unit('meter_H2O')>"
      ]
     },
     "execution_count": 2,
     "metadata": {},
     "output_type": "execute_result"
    }
   ],
   "source": [
    "from encomp.notebook import *\n",
    "\n",
    "Q(1, 'meter_water')"
   ]
  }
 ],
 "metadata": {
  "kernelspec": {
   "display_name": "Python 3",
   "language": "python",
   "name": "python3"
  },
  "language_info": {
   "codemirror_mode": {
    "name": "ipython",
    "version": 3
   },
   "file_extension": ".py",
   "mimetype": "text/x-python",
   "name": "python",
   "nbconvert_exporter": "python",
   "pygments_lexer": "ipython3",
   "version": "3.8.8"
  },
  "toc": {
   "base_numbering": 1,
   "nav_menu": {},
   "number_sections": true,
   "sideBar": true,
   "skip_h1_title": false,
   "title_cell": "Table of Contents",
   "title_sidebar": "Contents",
   "toc_cell": false,
   "toc_position": {},
   "toc_section_display": true,
   "toc_window_display": false
  }
 },
 "nbformat": 4,
 "nbformat_minor": 5
}
