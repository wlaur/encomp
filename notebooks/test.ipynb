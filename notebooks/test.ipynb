{
 "cells": [
  {
   "cell_type": "code",
   "execution_count": 1,
   "id": "7829b981",
   "metadata": {
    "ExecuteTime": {
     "end_time": "2021-04-28T17:51:31.654962Z",
     "start_time": "2021-04-28T17:51:31.596861Z"
    }
   },
   "outputs": [],
   "source": [
    "import sys\n",
    "\n",
    "sys.path.insert(0, '..')"
   ]
  },
  {
   "cell_type": "code",
   "execution_count": 107,
   "id": "f385f31d",
   "metadata": {
    "ExecuteTime": {
     "end_time": "2021-04-28T18:38:27.657986Z",
     "start_time": "2021-04-28T18:38:27.570691Z"
    }
   },
   "outputs": [
    {
     "data": {
      "text/plain": [
       "<Fluid \"water\", P=200 kPa, T=25 °C, D=997 kg/m³, V=1 cP>"
      ]
     },
     "execution_count": 107,
     "metadata": {},
     "output_type": "execute_result"
    }
   ],
   "source": [
    "from encomp.units import Q\n",
    "from encomp.fluids import Fluid, BaseFluid\n",
    "\n",
    "ff = Fluid('water', P=Q(2, 'bar'), T=Q(25, '°C'))\n",
    "water = Fluid('water', P=Q(2, 'bar'), T=Q(25, '°C'))\n",
    "\n",
    "water"
   ]
  }
 ],
 "metadata": {
  "kernelspec": {
   "display_name": "Python 3",
   "language": "python",
   "name": "python3"
  },
  "language_info": {
   "codemirror_mode": {
    "name": "ipython",
    "version": 3
   },
   "file_extension": ".py",
   "mimetype": "text/x-python",
   "name": "python",
   "nbconvert_exporter": "python",
   "pygments_lexer": "ipython3",
   "version": "3.8.8"
  },
  "toc": {
   "base_numbering": 1,
   "nav_menu": {},
   "number_sections": true,
   "sideBar": true,
   "skip_h1_title": false,
   "title_cell": "Table of Contents",
   "title_sidebar": "Contents",
   "toc_cell": false,
   "toc_position": {},
   "toc_section_display": true,
   "toc_window_display": false
  }
 },
 "nbformat": 4,
 "nbformat_minor": 5
}
